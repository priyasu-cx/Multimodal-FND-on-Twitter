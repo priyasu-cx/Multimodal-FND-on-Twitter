{
  "cells": [
    {
      "cell_type": "markdown",
      "metadata": {
        "id": "SUwXaC2JiIMF"
      },
      "source": [
        "# **1. Objective:**\n",
        "A phishing website is a common social engineering method that mimics trustful uniform resource locators (URLs) and webpages. The objective of this notebook is to collect data & extract the selctive features form the URLs.\n",
        "\n",
        "*This project is worked on Google Collaboratory.*\n",
        "\n"
      ]
    },
    {
      "cell_type": "markdown",
      "metadata": {
        "id": "pkIGg-nGiqEO"
      },
      "source": [
        "# **2. Collecting the Data:**\n",
        "For this project, we need a bunch of urls of type legitimate (0) and phishing (1).\n",
        "\n",
        "The collection of phishing urls is rather easy because of the opensource service called PhishTank. This service provide a set of phishing URLs in multiple formats like csv, json etc. that gets updated hourly. To download the data: https://www.phishtank.com/developer_info.php\n",
        "\n",
        "For the legitimate URLs, I found a source that has a collection of benign, spam, phishing, malware & defacement URLs. The source of the dataset is University of New Brunswick, https://www.unb.ca/cic/datasets/url-2016.html. The number of legitimate URLs in this collection are 35,300. The URL collection is downloaded & from that, *'Benign_list_big_final.csv'* is the file of our interest. This file is then uploaded to the Colab for the feature extraction.\n"
      ]
    },
    {
      "cell_type": "markdown",
      "metadata": {
        "id": "SRyCQJnSmACu"
      },
      "source": [
        "## **2.1. Phishing URLs:**\n",
        "\n",
        "The phishing URLs are collected from the PhishTank from the link provided. The csv file of phishing URLs is obtained by using wget command. After downlaoding the dataset, it is loaded into a DataFrame."
      ]
    },
    {
      "cell_type": "code",
      "execution_count": 2,
      "metadata": {
        "id": "PH13wfswmyDv"
      },
      "outputs": [],
      "source": [
        "#importing required packages for this module\n",
        "import pandas as pd"
      ]
    },
    {
      "cell_type": "markdown",
      "metadata": {
        "id": "paesHH9rnX8r"
      },
      "source": [
        "The above command downlaods the file of phishing URLs, *online-valid.csv* and stores in the */content/* folder."
      ]
    },
    {
      "cell_type": "code",
      "execution_count": 3,
      "metadata": {
        "colab": {
          "base_uri": "https://localhost:8080/",
          "height": 293
        },
        "id": "GaGVL9gYKXma",
        "outputId": "e4d51460-3c25-4516-f622-f29377f1115d"
      },
      "outputs": [
        {
          "data": {
            "text/html": [
              "<div>\n",
              "<style scoped>\n",
              "    .dataframe tbody tr th:only-of-type {\n",
              "        vertical-align: middle;\n",
              "    }\n",
              "\n",
              "    .dataframe tbody tr th {\n",
              "        vertical-align: top;\n",
              "    }\n",
              "\n",
              "    .dataframe thead th {\n",
              "        text-align: right;\n",
              "    }\n",
              "</style>\n",
              "<table border=\"1\" class=\"dataframe\">\n",
              "  <thead>\n",
              "    <tr style=\"text-align: right;\">\n",
              "      <th></th>\n",
              "      <th>phish_id</th>\n",
              "      <th>url</th>\n",
              "      <th>phish_detail_url</th>\n",
              "      <th>submission_time</th>\n",
              "      <th>verified</th>\n",
              "      <th>verification_time</th>\n",
              "      <th>online</th>\n",
              "      <th>target</th>\n",
              "    </tr>\n",
              "  </thead>\n",
              "  <tbody>\n",
              "    <tr>\n",
              "      <th>0</th>\n",
              "      <td>8593541</td>\n",
              "      <td>http://allegro1okalnie.3193849.xyz/wyafcynx</td>\n",
              "      <td>http://www.phishtank.com/phish_detail.php?phis...</td>\n",
              "      <td>2024-05-31T04:53:30+00:00</td>\n",
              "      <td>yes</td>\n",
              "      <td>2024-05-31T05:10:24+00:00</td>\n",
              "      <td>yes</td>\n",
              "      <td>Allegro</td>\n",
              "    </tr>\n",
              "    <tr>\n",
              "      <th>1</th>\n",
              "      <td>8593539</td>\n",
              "      <td>https://allegrolokalnie.oferta16315.pl/oferta/...</td>\n",
              "      <td>http://www.phishtank.com/phish_detail.php?phis...</td>\n",
              "      <td>2024-05-31T04:52:44+00:00</td>\n",
              "      <td>yes</td>\n",
              "      <td>2024-05-31T05:10:24+00:00</td>\n",
              "      <td>yes</td>\n",
              "      <td>Allegro</td>\n",
              "    </tr>\n",
              "    <tr>\n",
              "      <th>2</th>\n",
              "      <td>8593538</td>\n",
              "      <td>http://a1legrolokalnie.20745755.xyz/oornh8gi</td>\n",
              "      <td>http://www.phishtank.com/phish_detail.php?phis...</td>\n",
              "      <td>2024-05-31T04:52:41+00:00</td>\n",
              "      <td>yes</td>\n",
              "      <td>2024-05-31T05:10:24+00:00</td>\n",
              "      <td>yes</td>\n",
              "      <td>Allegro</td>\n",
              "    </tr>\n",
              "    <tr>\n",
              "      <th>3</th>\n",
              "      <td>8593535</td>\n",
              "      <td>http://a1legrolokalnie.20745755.xyz/8fdqei60</td>\n",
              "      <td>http://www.phishtank.com/phish_detail.php?phis...</td>\n",
              "      <td>2024-05-31T04:52:37+00:00</td>\n",
              "      <td>yes</td>\n",
              "      <td>2024-05-31T05:10:24+00:00</td>\n",
              "      <td>yes</td>\n",
              "      <td>Allegro</td>\n",
              "    </tr>\n",
              "    <tr>\n",
              "      <th>4</th>\n",
              "      <td>8593536</td>\n",
              "      <td>http://a1legrolokalnie.20745755.xyz/undmynfy</td>\n",
              "      <td>http://www.phishtank.com/phish_detail.php?phis...</td>\n",
              "      <td>2024-05-31T04:52:37+00:00</td>\n",
              "      <td>yes</td>\n",
              "      <td>2024-05-31T05:10:24+00:00</td>\n",
              "      <td>yes</td>\n",
              "      <td>Allegro</td>\n",
              "    </tr>\n",
              "  </tbody>\n",
              "</table>\n",
              "</div>"
            ],
            "text/plain": [
              "   phish_id                                                url  \\\n",
              "0   8593541        http://allegro1okalnie.3193849.xyz/wyafcynx   \n",
              "1   8593539  https://allegrolokalnie.oferta16315.pl/oferta/...   \n",
              "2   8593538       http://a1legrolokalnie.20745755.xyz/oornh8gi   \n",
              "3   8593535       http://a1legrolokalnie.20745755.xyz/8fdqei60   \n",
              "4   8593536       http://a1legrolokalnie.20745755.xyz/undmynfy   \n",
              "\n",
              "                                    phish_detail_url  \\\n",
              "0  http://www.phishtank.com/phish_detail.php?phis...   \n",
              "1  http://www.phishtank.com/phish_detail.php?phis...   \n",
              "2  http://www.phishtank.com/phish_detail.php?phis...   \n",
              "3  http://www.phishtank.com/phish_detail.php?phis...   \n",
              "4  http://www.phishtank.com/phish_detail.php?phis...   \n",
              "\n",
              "             submission_time verified          verification_time online  \\\n",
              "0  2024-05-31T04:53:30+00:00      yes  2024-05-31T05:10:24+00:00    yes   \n",
              "1  2024-05-31T04:52:44+00:00      yes  2024-05-31T05:10:24+00:00    yes   \n",
              "2  2024-05-31T04:52:41+00:00      yes  2024-05-31T05:10:24+00:00    yes   \n",
              "3  2024-05-31T04:52:37+00:00      yes  2024-05-31T05:10:24+00:00    yes   \n",
              "4  2024-05-31T04:52:37+00:00      yes  2024-05-31T05:10:24+00:00    yes   \n",
              "\n",
              "    target  \n",
              "0  Allegro  \n",
              "1  Allegro  \n",
              "2  Allegro  \n",
              "3  Allegro  \n",
              "4  Allegro  "
            ]
          },
          "execution_count": 3,
          "metadata": {},
          "output_type": "execute_result"
        }
      ],
      "source": [
        "#loading the phishing URLs data to dataframe\n",
        "data0 = pd.read_csv(\"../Datasets/phishing_url.csv\")\n",
        "data0.head()"
      ]
    },
    {
      "cell_type": "code",
      "execution_count": 4,
      "metadata": {
        "colab": {
          "base_uri": "https://localhost:8080/"
        },
        "id": "mAZAvSe2n1oT",
        "outputId": "49d280ae-fd50-4e4d-9d30-ab112350e623"
      },
      "outputs": [
        {
          "data": {
            "text/plain": [
              "(57060, 8)"
            ]
          },
          "execution_count": 4,
          "metadata": {},
          "output_type": "execute_result"
        }
      ],
      "source": [
        "data0.shape"
      ]
    },
    {
      "cell_type": "markdown",
      "metadata": {
        "id": "fBFvH8h0oFkO"
      },
      "source": [
        "So, the data has thousands of phishing URLs. But the problem here is, this data gets updated hourly. Without getting into the risk of data imbalance, I am considering a margin value of 10,000 phishing URLs & 10,000 legitimate URLs.\n",
        "\n",
        "Thereby, picking up 10000 samples from the above dataframe randomly."
      ]
    },
    {
      "cell_type": "code",
      "execution_count": 5,
      "metadata": {
        "colab": {
          "base_uri": "https://localhost:8080/",
          "height": 293
        },
        "id": "9CTCI_EgERPM",
        "outputId": "bd1b025b-a5a3-44bb-e00f-9cc7430b4e77"
      },
      "outputs": [
        {
          "data": {
            "text/html": [
              "<div>\n",
              "<style scoped>\n",
              "    .dataframe tbody tr th:only-of-type {\n",
              "        vertical-align: middle;\n",
              "    }\n",
              "\n",
              "    .dataframe tbody tr th {\n",
              "        vertical-align: top;\n",
              "    }\n",
              "\n",
              "    .dataframe thead th {\n",
              "        text-align: right;\n",
              "    }\n",
              "</style>\n",
              "<table border=\"1\" class=\"dataframe\">\n",
              "  <thead>\n",
              "    <tr style=\"text-align: right;\">\n",
              "      <th></th>\n",
              "      <th>phish_id</th>\n",
              "      <th>url</th>\n",
              "      <th>phish_detail_url</th>\n",
              "      <th>submission_time</th>\n",
              "      <th>verified</th>\n",
              "      <th>verification_time</th>\n",
              "      <th>online</th>\n",
              "      <th>target</th>\n",
              "    </tr>\n",
              "  </thead>\n",
              "  <tbody>\n",
              "    <tr>\n",
              "      <th>0</th>\n",
              "      <td>8294261</td>\n",
              "      <td>https://ipfs.eth.aragon.network/ipfs/bafybeid4...</td>\n",
              "      <td>http://www.phishtank.com/phish_detail.php?phis...</td>\n",
              "      <td>2023-09-11T23:02:33+00:00</td>\n",
              "      <td>yes</td>\n",
              "      <td>2023-09-11T23:33:58+00:00</td>\n",
              "      <td>yes</td>\n",
              "      <td>Other</td>\n",
              "    </tr>\n",
              "    <tr>\n",
              "      <th>1</th>\n",
              "      <td>7956224</td>\n",
              "      <td>https://qontomsg02.web.app/</td>\n",
              "      <td>http://www.phishtank.com/phish_detail.php?phis...</td>\n",
              "      <td>2022-11-24T23:42:36+00:00</td>\n",
              "      <td>yes</td>\n",
              "      <td>2022-11-24T23:52:55+00:00</td>\n",
              "      <td>yes</td>\n",
              "      <td>Other</td>\n",
              "    </tr>\n",
              "    <tr>\n",
              "      <th>2</th>\n",
              "      <td>8397713</td>\n",
              "      <td>https://peak-mech-6hm.pages.dev/</td>\n",
              "      <td>http://www.phishtank.com/phish_detail.php?phis...</td>\n",
              "      <td>2023-12-19T06:57:55+00:00</td>\n",
              "      <td>yes</td>\n",
              "      <td>2023-12-19T07:04:30+00:00</td>\n",
              "      <td>yes</td>\n",
              "      <td>Adobe</td>\n",
              "    </tr>\n",
              "    <tr>\n",
              "      <th>3</th>\n",
              "      <td>8543258</td>\n",
              "      <td>https://serc.unimap.edu.my/wp-content/themes/t...</td>\n",
              "      <td>http://www.phishtank.com/phish_detail.php?phis...</td>\n",
              "      <td>2024-04-19T11:47:03+00:00</td>\n",
              "      <td>yes</td>\n",
              "      <td>2024-04-19T11:52:54+00:00</td>\n",
              "      <td>yes</td>\n",
              "      <td>Other</td>\n",
              "    </tr>\n",
              "    <tr>\n",
              "      <th>4</th>\n",
              "      <td>8401172</td>\n",
              "      <td>https://mamaspotrestaurantappnow.gilberto7.wor...</td>\n",
              "      <td>http://www.phishtank.com/phish_detail.php?phis...</td>\n",
              "      <td>2023-12-23T12:33:08+00:00</td>\n",
              "      <td>yes</td>\n",
              "      <td>2023-12-23T12:42:57+00:00</td>\n",
              "      <td>yes</td>\n",
              "      <td>Other</td>\n",
              "    </tr>\n",
              "  </tbody>\n",
              "</table>\n",
              "</div>"
            ],
            "text/plain": [
              "   phish_id                                                url  \\\n",
              "0   8294261  https://ipfs.eth.aragon.network/ipfs/bafybeid4...   \n",
              "1   7956224                        https://qontomsg02.web.app/   \n",
              "2   8397713                   https://peak-mech-6hm.pages.dev/   \n",
              "3   8543258  https://serc.unimap.edu.my/wp-content/themes/t...   \n",
              "4   8401172  https://mamaspotrestaurantappnow.gilberto7.wor...   \n",
              "\n",
              "                                    phish_detail_url  \\\n",
              "0  http://www.phishtank.com/phish_detail.php?phis...   \n",
              "1  http://www.phishtank.com/phish_detail.php?phis...   \n",
              "2  http://www.phishtank.com/phish_detail.php?phis...   \n",
              "3  http://www.phishtank.com/phish_detail.php?phis...   \n",
              "4  http://www.phishtank.com/phish_detail.php?phis...   \n",
              "\n",
              "             submission_time verified          verification_time online target  \n",
              "0  2023-09-11T23:02:33+00:00      yes  2023-09-11T23:33:58+00:00    yes  Other  \n",
              "1  2022-11-24T23:42:36+00:00      yes  2022-11-24T23:52:55+00:00    yes  Other  \n",
              "2  2023-12-19T06:57:55+00:00      yes  2023-12-19T07:04:30+00:00    yes  Adobe  \n",
              "3  2024-04-19T11:47:03+00:00      yes  2024-04-19T11:52:54+00:00    yes  Other  \n",
              "4  2023-12-23T12:33:08+00:00      yes  2023-12-23T12:42:57+00:00    yes  Other  "
            ]
          },
          "execution_count": 5,
          "metadata": {},
          "output_type": "execute_result"
        }
      ],
      "source": [
        "#Collecting 10,000 Phishing URLs randomly\n",
        "phishurl = data0.sample(n = 10000, random_state = 12).copy()\n",
        "phishurl = phishurl.reset_index(drop=True)\n",
        "phishurl.head()"
      ]
    },
    {
      "cell_type": "code",
      "execution_count": 6,
      "metadata": {
        "colab": {
          "base_uri": "https://localhost:8080/"
        },
        "id": "-FOfv0bspc8N",
        "outputId": "ae6edf61-b0a5-4918-c937-171525bb77c7"
      },
      "outputs": [
        {
          "data": {
            "text/plain": [
              "(10000, 8)"
            ]
          },
          "execution_count": 6,
          "metadata": {},
          "output_type": "execute_result"
        }
      ],
      "source": [
        "phishurl.shape"
      ]
    },
    {
      "cell_type": "markdown",
      "metadata": {
        "id": "Sb4afcd5pges"
      },
      "source": [
        "As of now we collected 5000 phishing URLs. Now, we need to collect the legitimate URLs.\n",
        "\n",
        "## **2.2. Legitimate URLs:**\n",
        "\n",
        "From the uploaded *Benign_list_big_final.csv* file, the URLs are loaded into a dataframe."
      ]
    },
    {
      "cell_type": "code",
      "execution_count": 7,
      "metadata": {
        "colab": {
          "base_uri": "https://localhost:8080/",
          "height": 206
        },
        "id": "0wkw4wGAsIbT",
        "outputId": "3ae58ed4-6bcd-40aa-ac8e-c9d8833f8d77"
      },
      "outputs": [
        {
          "data": {
            "text/html": [
              "<div>\n",
              "<style scoped>\n",
              "    .dataframe tbody tr th:only-of-type {\n",
              "        vertical-align: middle;\n",
              "    }\n",
              "\n",
              "    .dataframe tbody tr th {\n",
              "        vertical-align: top;\n",
              "    }\n",
              "\n",
              "    .dataframe thead th {\n",
              "        text-align: right;\n",
              "    }\n",
              "</style>\n",
              "<table border=\"1\" class=\"dataframe\">\n",
              "  <thead>\n",
              "    <tr style=\"text-align: right;\">\n",
              "      <th></th>\n",
              "      <th>URLs</th>\n",
              "    </tr>\n",
              "  </thead>\n",
              "  <tbody>\n",
              "    <tr>\n",
              "      <th>0</th>\n",
              "      <td>http://1337x.to/torrent/1110018/Blackhat-2015-...</td>\n",
              "    </tr>\n",
              "    <tr>\n",
              "      <th>1</th>\n",
              "      <td>http://1337x.to/torrent/1122940/Blackhat-2015-...</td>\n",
              "    </tr>\n",
              "    <tr>\n",
              "      <th>2</th>\n",
              "      <td>http://1337x.to/torrent/1124395/Fast-and-Furio...</td>\n",
              "    </tr>\n",
              "    <tr>\n",
              "      <th>3</th>\n",
              "      <td>http://1337x.to/torrent/1145504/Avengers-Age-o...</td>\n",
              "    </tr>\n",
              "    <tr>\n",
              "      <th>4</th>\n",
              "      <td>http://1337x.to/torrent/1160078/Avengers-age-o...</td>\n",
              "    </tr>\n",
              "  </tbody>\n",
              "</table>\n",
              "</div>"
            ],
            "text/plain": [
              "                                                URLs\n",
              "0  http://1337x.to/torrent/1110018/Blackhat-2015-...\n",
              "1  http://1337x.to/torrent/1122940/Blackhat-2015-...\n",
              "2  http://1337x.to/torrent/1124395/Fast-and-Furio...\n",
              "3  http://1337x.to/torrent/1145504/Avengers-Age-o...\n",
              "4  http://1337x.to/torrent/1160078/Avengers-age-o..."
            ]
          },
          "execution_count": 7,
          "metadata": {},
          "output_type": "execute_result"
        }
      ],
      "source": [
        "#Loading legitimate files\n",
        "data1 = pd.read_csv(\"../Datasets/legitimate_url.csv\")\n",
        "data1.columns = ['URLs']\n",
        "data1.head()"
      ]
    },
    {
      "cell_type": "markdown",
      "metadata": {
        "id": "MdvE4YfWtCJr"
      },
      "source": [
        "\n",
        "As stated above, 10000 legitimate URLs are randomaly picked from the above dataframe."
      ]
    },
    {
      "cell_type": "code",
      "execution_count": 8,
      "metadata": {
        "colab": {
          "base_uri": "https://localhost:8080/",
          "height": 206
        },
        "id": "EQRtf9Ybs5sv",
        "outputId": "22b4dea2-c25a-453b-a82b-623e4c5f7a5f"
      },
      "outputs": [
        {
          "data": {
            "text/html": [
              "<div>\n",
              "<style scoped>\n",
              "    .dataframe tbody tr th:only-of-type {\n",
              "        vertical-align: middle;\n",
              "    }\n",
              "\n",
              "    .dataframe tbody tr th {\n",
              "        vertical-align: top;\n",
              "    }\n",
              "\n",
              "    .dataframe thead th {\n",
              "        text-align: right;\n",
              "    }\n",
              "</style>\n",
              "<table border=\"1\" class=\"dataframe\">\n",
              "  <thead>\n",
              "    <tr style=\"text-align: right;\">\n",
              "      <th></th>\n",
              "      <th>URLs</th>\n",
              "    </tr>\n",
              "  </thead>\n",
              "  <tbody>\n",
              "    <tr>\n",
              "      <th>0</th>\n",
              "      <td>http://graphicriver.net/search?date=this-month...</td>\n",
              "    </tr>\n",
              "    <tr>\n",
              "      <th>1</th>\n",
              "      <td>http://ecnavi.jp/redirect/?url=http://www.cros...</td>\n",
              "    </tr>\n",
              "    <tr>\n",
              "      <th>2</th>\n",
              "      <td>https://hubpages.com/signin?explain=follow+Hub...</td>\n",
              "    </tr>\n",
              "    <tr>\n",
              "      <th>3</th>\n",
              "      <td>http://extratorrent.cc/torrent/4190536/AOMEI+B...</td>\n",
              "    </tr>\n",
              "    <tr>\n",
              "      <th>4</th>\n",
              "      <td>http://icicibank.com/Personal-Banking/offers/o...</td>\n",
              "    </tr>\n",
              "  </tbody>\n",
              "</table>\n",
              "</div>"
            ],
            "text/plain": [
              "                                                URLs\n",
              "0  http://graphicriver.net/search?date=this-month...\n",
              "1  http://ecnavi.jp/redirect/?url=http://www.cros...\n",
              "2  https://hubpages.com/signin?explain=follow+Hub...\n",
              "3  http://extratorrent.cc/torrent/4190536/AOMEI+B...\n",
              "4  http://icicibank.com/Personal-Banking/offers/o..."
            ]
          },
          "execution_count": 8,
          "metadata": {},
          "output_type": "execute_result"
        }
      ],
      "source": [
        "#Collecting 10,000 Legitimate URLs randomly\n",
        "legiurl = data1.sample(n = 10000, random_state = 12).copy()\n",
        "legiurl = legiurl.reset_index(drop=True)\n",
        "legiurl.head()"
      ]
    },
    {
      "cell_type": "code",
      "execution_count": 9,
      "metadata": {
        "colab": {
          "base_uri": "https://localhost:8080/"
        },
        "id": "QrpSRXzDuKwW",
        "outputId": "2b7d2441-b38e-4bb0-942f-fcba8b6b7724"
      },
      "outputs": [
        {
          "data": {
            "text/plain": [
              "(10000, 1)"
            ]
          },
          "execution_count": 9,
          "metadata": {},
          "output_type": "execute_result"
        }
      ],
      "source": [
        "legiurl.shape"
      ]
    },
    {
      "cell_type": "markdown",
      "metadata": {
        "id": "xbzZbsWIEV6J"
      },
      "source": [
        "# **3. Feature Extraction:**\n",
        "\n",
        "In this step, features are extracted from the URLs dataset.\n",
        "\n",
        "The extracted features are categorized into\n",
        "\n",
        "\n",
        "1.   Address Bar based Features\n",
        "2.   Domain based Features\n",
        "3.   HTML & Javascript based Features\n",
        "\n"
      ]
    },
    {
      "cell_type": "markdown",
      "metadata": {
        "id": "vABNo39RQljI"
      },
      "source": [
        "### **3.1. Address Bar Based Features:**\n",
        "\n",
        "Many features can be extracted that can be consided as address bar base features. Out of them, below mentioned were considered for this project.\n",
        "\n",
        "\n",
        "*   Domain of URL\n",
        "*   IP Address in URL\n",
        "*   \"@\" Symbol in URL\n",
        "*   Length of URL\n",
        "*   Depth of URL\n",
        "*   Redirection \"//\" in URL\n",
        "*   \"http/https\" in Domain name\n",
        "*   Using URL Shortening Services “TinyURL”\n",
        "*   Prefix or Suffix \"-\" in Domain\n",
        "\n",
        "Each of these features are explained and the coded below:"
      ]
    },
    {
      "cell_type": "code",
      "execution_count": 10,
      "metadata": {
        "id": "Rk4HFWsEKXpS"
      },
      "outputs": [],
      "source": [
        "# importing required packages for this section\n",
        "from urllib.parse import urlparse,urlencode\n",
        "import ipaddress\n",
        "import re"
      ]
    },
    {
      "cell_type": "markdown",
      "metadata": {
        "id": "xd-UZd3c60-a"
      },
      "source": [
        "#### **3.1.1. Domain of the URL**\n",
        "Here, we are just extracting the domain present in the URL. This feature doesn't have much significance in the training. May even be dropped while training the model."
      ]
    },
    {
      "cell_type": "code",
      "execution_count": 11,
      "metadata": {
        "id": "S0QorYenhaOD"
      },
      "outputs": [],
      "source": [
        "# 1.Domain of the URL (Domain)\n",
        "def getDomain(url):\n",
        "  domain = urlparse(url).netloc\n",
        "  if re.match(r\"^www.\",domain):\n",
        "\t       domain = domain.replace(\"www.\",\"\")\n",
        "  return domain"
      ]
    },
    {
      "cell_type": "markdown",
      "metadata": {
        "id": "1EPO6HJ87Pdv"
      },
      "source": [
        "#### **3.1.2. IP Address in the URL**\n",
        "\n",
        "Checks for the presence of IP address in the URL. URLs may have IP address instead of domain name. If an IP address is used as an alternative of the domain name in the URL, we can be sure that someone is trying to steal personal information with this URL.\n",
        "\n",
        "If the domain part of URL has IP address, the value assigned to this feature is 1 (phishing) or else 0 (legitimate).\n",
        "\n"
      ]
    },
    {
      "cell_type": "code",
      "execution_count": 12,
      "metadata": {
        "id": "SX-4mbq27QBj"
      },
      "outputs": [],
      "source": [
        "# 2.Checks for IP address in URL (Have_IP)\n",
        "def havingIP(url):\n",
        "  domain = urlparse(url).netloc\n",
        "  # print(\"Domain:\",domain)\n",
        "  try:\n",
        "    ipaddress.ip_address(domain)\n",
        "    ip = 1\n",
        "  except:\n",
        "    ip = 0\n",
        "  # print(\"Have IP:\",ip)\n",
        "  return ip\n"
      ]
    },
    {
      "cell_type": "markdown",
      "metadata": {
        "id": "Vcy-zay47S-q"
      },
      "source": [
        "#### **3.1.3. \"@\" Symbol in URL**\n",
        "\n",
        "Checks for the presence of '@' symbol in the URL. Using “@” symbol in the URL leads the browser to ignore everything preceding the “@” symbol and the real address often follows the “@” symbol.\n",
        "\n",
        "If the URL has '@' symbol, the value assigned to this feature is 1 (phishing) or else 0 (legitimate)."
      ]
    },
    {
      "cell_type": "code",
      "execution_count": 13,
      "metadata": {
        "id": "XZQZi3K17TcR"
      },
      "outputs": [],
      "source": [
        "# 3.Checks the presence of @ in URL (Have_At)\n",
        "def haveAtSign(url):\n",
        "  if \"@\" in url:\n",
        "    print(\"Have At Sign\")\n",
        "    at = 1\n",
        "  else:\n",
        "    at = 0\n",
        "  return at"
      ]
    },
    {
      "cell_type": "markdown",
      "metadata": {
        "id": "mhFeCv2N9KLU"
      },
      "source": [
        "#### **3.1.4. Length of URL**\n",
        "\n",
        "Computes the length of the URL. Phishers can use long URL to hide the doubtful part in the address bar. In this project, if the length of the URL is greater than or equal 54 characters then the URL classified as phishing otherwise legitimate.\n",
        "\n",
        "If the length of URL >= 54 , the value assigned to this feature is 1 (phishing) or else 0 (legitimate)."
      ]
    },
    {
      "cell_type": "code",
      "execution_count": 14,
      "metadata": {
        "id": "fnQazil39Kra"
      },
      "outputs": [],
      "source": [
        "# 4.Finding the length of URL and categorizing (URL_Length)\n",
        "def getLength(url):\n",
        "  if len(url) < 54:\n",
        "    length = 0\n",
        "  else:\n",
        "    length = 1\n",
        "  return length"
      ]
    },
    {
      "cell_type": "markdown",
      "metadata": {
        "id": "8ICyOWg59LHt"
      },
      "source": [
        "#### **3.1.5. Depth of URL**\n",
        "\n",
        "Computes the depth of the URL. This feature calculates the number of sub pages in the given url based on the '/'.\n",
        "\n",
        "The value of feature is a numerical based on the URL."
      ]
    },
    {
      "cell_type": "code",
      "execution_count": 15,
      "metadata": {
        "id": "yILgNFf_9L3X"
      },
      "outputs": [],
      "source": [
        "# 5.Gives number of '/' in URL (URL_Depth)\n",
        "def getDepth(url):\n",
        "  s = urlparse(url).path.split('/')\n",
        "  depth = 0\n",
        "  for j in range(len(s)):\n",
        "    if len(s[j]) != 0:\n",
        "      depth = depth+1\n",
        "  return depth"
      ]
    },
    {
      "cell_type": "markdown",
      "metadata": {
        "id": "T5-eL0bBBRdx"
      },
      "source": [
        "#### **3.1.6. Redirection \"//\" in URL**\n",
        "\n",
        "Checks the presence of \"//\" in the URL. The existence of “//” within the URL path means that the user will be redirected to another website. The location of the “//” in URL is computed. We find that if the URL starts with “HTTP”, that means the “//” should appear in the sixth position. However, if the URL employs “HTTPS” then the “//” should appear in seventh position.\n",
        "\n",
        "If the \"//\" is anywhere in the URL apart from after the protocal, thee value assigned to this feature is 1 (phishing) or else 0 (legitimate)."
      ]
    },
    {
      "cell_type": "code",
      "execution_count": 16,
      "metadata": {
        "id": "RIJEiq51BSy0"
      },
      "outputs": [],
      "source": [
        "# 6.Checking for redirection '//' in the url (Redirection)\n",
        "def redirection(url):\n",
        "  pos = url.rfind('//')\n",
        "  if pos > 6:\n",
        "    if pos > 7:\n",
        "      return 1\n",
        "    else:\n",
        "      return 0\n",
        "  else:\n",
        "    return 0"
      ]
    },
    {
      "cell_type": "markdown",
      "metadata": {
        "id": "hHWQDIrtBa7n"
      },
      "source": [
        "#### **3.1.7. \"http/https\" in Domain name**\n",
        "\n",
        "Checks for the presence of \"http/https\" in the domain part of the URL. The phishers may add the “HTTPS” token to the domain part of a URL in order to trick users.\n",
        "\n",
        "If the URL has \"http/https\" in the domain part, the value assigned to this feature is 1 (phishing) or else 0 (legitimate)."
      ]
    },
    {
      "cell_type": "code",
      "execution_count": 17,
      "metadata": {
        "id": "h2vW23O1BbWl"
      },
      "outputs": [],
      "source": [
        "# 7.Existence of “HTTPS” Token in the Domain Part of the URL (https_Domain)\n",
        "def httpDomain(url):\n",
        "  domain = urlparse(url).netloc\n",
        "  if 'https' in domain:\n",
        "    return 1\n",
        "  else:\n",
        "    return 0"
      ]
    },
    {
      "cell_type": "markdown",
      "metadata": {
        "id": "rKL4jpeaPIvA"
      },
      "source": [
        "#### **3.1.8. Using URL Shortening Services “TinyURL”**\n",
        "\n",
        "URL shortening is a method on the “World Wide Web” in which a URL may be made considerably smaller in length and still lead to the required webpage. This is accomplished by means of an “HTTP Redirect” on a domain name that is short, which links to the webpage that has a long URL.\n",
        "\n",
        "If the URL is using Shortening Services, the value assigned to this feature is 1 (phishing) or else 0 (legitimate)."
      ]
    },
    {
      "cell_type": "code",
      "execution_count": 18,
      "metadata": {
        "id": "UdC9pUdTAVRU"
      },
      "outputs": [],
      "source": [
        "#listing shortening services\n",
        "shortening_services = r\"bit\\.ly|goo\\.gl|shorte\\.st|go2l\\.ink|x\\.co|ow\\.ly|t\\.co|tinyurl|tr\\.im|is\\.gd|cli\\.gs|\" \\\n",
        "                      r\"yfrog\\.com|migre\\.me|ff\\.im|tiny\\.cc|url4\\.eu|twit\\.ac|su\\.pr|twurl\\.nl|snipurl\\.com|\" \\\n",
        "                      r\"short\\.to|BudURL\\.com|ping\\.fm|post\\.ly|Just\\.as|bkite\\.com|snipr\\.com|fic\\.kr|loopt\\.us|\" \\\n",
        "                      r\"doiop\\.com|short\\.ie|kl\\.am|wp\\.me|rubyurl\\.com|om\\.ly|to\\.ly|bit\\.do|t\\.co|lnkd\\.in|db\\.tt|\" \\\n",
        "                      r\"qr\\.ae|adf\\.ly|goo\\.gl|bitly\\.com|cur\\.lv|tinyurl\\.com|ow\\.ly|bit\\.ly|ity\\.im|q\\.gs|is\\.gd|\" \\\n",
        "                      r\"po\\.st|bc\\.vc|twitthis\\.com|u\\.to|j\\.mp|buzurl\\.com|cutt\\.us|u\\.bb|yourls\\.org|x\\.co|\" \\\n",
        "                      r\"prettylinkpro\\.com|scrnch\\.me|filoops\\.info|vzturl\\.com|qr\\.net|1url\\.com|tweez\\.me|v\\.gd|\" \\\n",
        "                      r\"tr\\.im|link\\.zip\\.net\""
      ]
    },
    {
      "cell_type": "code",
      "execution_count": 19,
      "metadata": {
        "id": "IUkU9UbbnKpY"
      },
      "outputs": [],
      "source": [
        "# 8. Checking for Shortening Services in URL (Tiny_URL)\n",
        "def tinyURL(url):\n",
        "    match=re.search(shortening_services,url)\n",
        "    if match:\n",
        "        return 1\n",
        "    else:\n",
        "        return 0"
      ]
    },
    {
      "cell_type": "markdown",
      "metadata": {
        "id": "HS-BuQJzPkaZ"
      },
      "source": [
        "#### **3.1.9. Prefix or Suffix \"-\" in Domain**\n",
        "\n",
        "Checking the presence of '-' in the domain part of URL. The dash symbol is rarely used in legitimate URLs. Phishers tend to add prefixes or suffixes separated by (-) to the domain name so that users feel that they are dealing with a legitimate webpage.\n",
        "\n",
        "If the URL has '-' symbol in the domain part of the URL, the value assigned to this feature is 1 (phishing) or else 0 (legitimate)."
      ]
    },
    {
      "cell_type": "code",
      "execution_count": 20,
      "metadata": {
        "id": "vLyjiIUgPjuw"
      },
      "outputs": [],
      "source": [
        "# 9.Checking for Prefix or Suffix Separated by (-) in the Domain (Prefix/Suffix)\n",
        "def prefixSuffix(url):\n",
        "    if '-' in urlparse(url).netloc:\n",
        "        return 1            # phishing\n",
        "    else:\n",
        "        return 0            # legitimate"
      ]
    },
    {
      "cell_type": "markdown",
      "metadata": {
        "id": "zO485F_BPk-k"
      },
      "source": [
        "### **3.2. Domain Based Features:**\n",
        "\n",
        "Many features can be extracted that come under this category. Out of them, below mentioned were considered for this project.\n",
        "\n",
        "*   DNS Record\n",
        "*   Website Traffic\n",
        "*   Age of Domain\n",
        "*   End Period of Domain\n",
        "\n",
        "Each of these features are explained and the coded below:"
      ]
    },
    {
      "cell_type": "code",
      "execution_count": 21,
      "metadata": {
        "id": "esZ7FcvlOMZu"
      },
      "outputs": [],
      "source": [
        "# importing required packages for this section\n",
        "import re\n",
        "import whois\n",
        "import urllib\n",
        "import urllib.request\n",
        "from datetime import datetime"
      ]
    },
    {
      "cell_type": "markdown",
      "metadata": {
        "id": "4ExXkkXYZWWZ"
      },
      "source": [
        "#### **3.2.1. DNS Record**\n",
        "\n",
        "For phishing websites, either the claimed identity is not recognized by the WHOIS database or no records founded for the hostname.\n",
        "If the DNS record is empty or not found then, the value assigned to this feature is 1 (phishing) or else 0 (legitimate)."
      ]
    },
    {
      "cell_type": "code",
      "execution_count": 22,
      "metadata": {
        "id": "8O5D1jH0IDgf"
      },
      "outputs": [],
      "source": [
        "# 11.DNS Record availability (DNS_Record)\n",
        "# obtained in the featureExtraction function itself"
      ]
    },
    {
      "cell_type": "markdown",
      "metadata": {
        "id": "M5DKTVPMZ1Yk"
      },
      "source": [
        "#### **3.2.2. Web Traffic**\n",
        "\n",
        "This feature measures the popularity of the website by determining the number of visitors and the number of pages they visit. However, since phishing websites live for a short period of time, they may not be recognized by the Alexa database (Alexa the Web Information Company., 1996). By reviewing our dataset, we find that in worst scenarios, legitimate websites ranked among the top 100,000. Furthermore, if the domain has no traffic or is not recognized by the Alexa database, it is classified as “Phishing”.\n",
        "\n",
        "If the rank of the domain > 100000, the vlaue of this feature is 1 (phishing) else 0 (legitimate)."
      ]
    },
    {
      "cell_type": "code",
      "execution_count": 23,
      "metadata": {},
      "outputs": [],
      "source": [
        "import requests"
      ]
    },
    {
      "cell_type": "code",
      "execution_count": 31,
      "metadata": {
        "id": "mtwQiRotZ2GD"
      },
      "outputs": [],
      "source": [
        "# 12.Web traffic (Web_Traffic)\n",
        "def web_traffic(url):\n",
        "  try:\n",
        "    #Filling the whitespaces in the URL if any\n",
        "    url = urllib.parse.quote(url)\n",
        "\n",
        "    # {\"domain\":\"oracle.com\",\"rank\":77}\n",
        "    res= requests.get(\"https://api.visitrank.com/ranks/\" + url)\n",
        "    rank= res.json()['rank']\n",
        "    print(\"Rank:\",rank)\n",
        "\n",
        "  except TypeError:\n",
        "        return 1\n",
        "  if rank >100000 | rank == 0:\n",
        "    return 1\n",
        "  else:\n",
        "    return 0"
      ]
    },
    {
      "cell_type": "markdown",
      "metadata": {
        "id": "jKHhfv2AacXq"
      },
      "source": [
        "#### **3.2.3. Age of Domain**\n",
        "\n",
        "This feature can be extracted from WHOIS database. Most phishing websites live for a short period of time. The minimum age of the legitimate domain is considered to be 12 months for this project. Age here is nothing but different between creation and expiration time.\n",
        "\n",
        "If age of domain < 12 months, the vlaue of this feature is 1 (phishing) else 0 (legitimate)."
      ]
    },
    {
      "cell_type": "code",
      "execution_count": 24,
      "metadata": {
        "id": "li03hqJgH__j"
      },
      "outputs": [],
      "source": [
        "\n",
        "# def domainAge(domain):\n",
        "#   domain_name = whois.whois(domain)\n",
        "\n",
        "#   creation_date = domain_name.creation_date\n",
        "#   expiration_date = domain_name.expiration_date\n",
        "#   if (isinstance(creation_date,str) or isinstance(expiration_date,str)):\n",
        "#     try:\n",
        "#       creation_date = datetime.strptime(creation_date,'%Y-%m-%d')\n",
        "#       expiration_date = datetime.strptime(expiration_date,\"%Y-%m-%d\")\n",
        "#     except:\n",
        "#       return 1\n",
        "#   if ((expiration_date is None) or (creation_date is None)):\n",
        "#       return 1\n",
        "#   elif ((type(expiration_date) is list) or (type(creation_date) is list)):\n",
        "#       return 1\n",
        "#   else:\n",
        "#     ageofdomain = abs((expiration_date - creation_date).days)\n",
        "#     if ((ageofdomain/30) > 6):\n",
        "#       age = 1\n",
        "#     else:\n",
        "#       age = 0\n",
        "#   return age"
      ]
    },
    {
      "cell_type": "code",
      "execution_count": 25,
      "metadata": {},
      "outputs": [],
      "source": [
        "import whois\n",
        "from datetime import datetime, timedelta\n",
        "\n",
        "# 13.Survival time of domain: The difference between termination time and creation time (Domain_Age)\n",
        "\n",
        "def domainAge(domain):\n",
        "    try:\n",
        "        # Query WHOIS information for the domain\n",
        "        domain_info = whois.whois(domain)\n",
        "        \n",
        "        # Extract the creation and expiration dates\n",
        "        creation_date = domain_info.creation_date\n",
        "        expiration_date = domain_info.expiration_date\n",
        "\n",
        "        # Handle cases where creation_date or expiration_date are lists\n",
        "        if isinstance(creation_date, list):\n",
        "            creation_date = creation_date[0]\n",
        "        if isinstance(expiration_date, list):\n",
        "            expiration_date = expiration_date[0]\n",
        "\n",
        "        # Check if both dates are available\n",
        "        if creation_date and expiration_date:\n",
        "            # Calculate the domain age\n",
        "            domain_age = expiration_date - creation_date\n",
        "            \n",
        "            # Check if the domain age is less than 12 months (365 days)\n",
        "            if domain_age < timedelta(days=365):\n",
        "                return 1  # Phishing\n",
        "            else:\n",
        "                return 0  # Legitimate\n",
        "        else:\n",
        "            print(\"Creation date or expiration date is missing.\")\n",
        "            return 1  # Error in fetching necessary dates\n",
        "    except Exception as e:\n",
        "        print(f\"An error occurred: {e}\")\n",
        "        return 1  # Error in fetching WHOIS information\n",
        "\n",
        "# Example usage\n",
        "# domain = 'google.com'\n",
        "# result = check_domain_age(domain)\n",
        "# if result == 1:\n",
        "#     print(\"Phishing: Domain age is less than 12 months.\")\n",
        "# elif result == 0:\n",
        "#     print(\"Legitimate: Domain age is 12 months or more.\")\n",
        "# else:\n",
        "#     print(\"Error occurred while checking the domain age.\")\n"
      ]
    },
    {
      "cell_type": "code",
      "execution_count": null,
      "metadata": {
        "id": "Lq-Tk8KIdydj"
      },
      "outputs": [],
      "source": []
    },
    {
      "cell_type": "markdown",
      "metadata": {
        "id": "AbjRrzA7aenm"
      },
      "source": [
        "#### **3.2.4. End Period of Domain**\n",
        "\n",
        "This feature can be extracted from WHOIS database. For this feature, the remaining domain time is calculated by finding the different between expiration time & current time. The end period considered for the legitimate domain is 6 months or more  for this project.\n",
        "\n",
        "If end period of domain < 6 months, the vlaue of this feature is 1 (phishing) else 0 (legitimate)."
      ]
    },
    {
      "cell_type": "code",
      "execution_count": 26,
      "metadata": {
        "id": "NueO81-ttKYd"
      },
      "outputs": [],
      "source": [
        "\n",
        "# def domainEnd(domain_name):\n",
        "#   expiration_date = domain_name.expiration_date\n",
        "#   print(\"Expiration:\", expiration_date)\n",
        "#   if isinstance(expiration_date,str):\n",
        "#     try:\n",
        "#       expiration_date = datetime.strptime(expiration_date,\"%Y-%m-%d\")\n",
        "#     except:\n",
        "#       return 1\n",
        "#   if (expiration_date is None):\n",
        "#       return 1\n",
        "#   elif (type(expiration_date) is list):\n",
        "#       return 1\n",
        "#   else:\n",
        "#     today = datetime.now()\n",
        "#     end = abs((expiration_date - today).days)\n",
        "#     if ((end/30) > 6):\n",
        "#       end = 0\n",
        "#     else:\n",
        "#       end = 1\n",
        "#   return end"
      ]
    },
    {
      "cell_type": "code",
      "execution_count": 27,
      "metadata": {},
      "outputs": [],
      "source": [
        "# 14.End time of domain: The difference between termination time and current time (Domain_End)\n",
        "def domainEnd(domain):\n",
        "    try:\n",
        "        # Query WHOIS information for the domain\n",
        "        domain_info = whois.whois(domain)\n",
        "        \n",
        "        # Extract the expiration date\n",
        "        expiration_date = domain_info.expiration_date\n",
        "        \n",
        "        if isinstance(expiration_date, list):\n",
        "            expiration_date = expiration_date[0]  # Handle cases where expiration_date is a list\n",
        "\n",
        "        # Calculate the remaining time until expiration\n",
        "        current_date = datetime.now()\n",
        "        remaining_time = expiration_date - current_date\n",
        "        \n",
        "        # Check if the remaining time is less than 6 months (180 days)\n",
        "        if remaining_time < timedelta(days=180):\n",
        "            return 1  # Phishing\n",
        "        else:\n",
        "            return 0  # Legitimate\n",
        "    except Exception as e:\n",
        "        print(f\"An error occurred: {e}\")\n",
        "        return 1  # Error in fetching WHOIS information\n",
        "\n",
        "# # Example usage\n",
        "# domain = 'google.com'\n",
        "# result = domainEnd(domain)\n",
        "# if result == 1:\n",
        "#     print(\"Phishing: Domain expiration is less than 6 months.\")\n",
        "# elif result == 0:\n",
        "#     print(\"Legitimate: Domain expiration is 6 months or more.\")\n",
        "# else:\n",
        "#     print(\"Error occurred while checking the domain expiration.\")"
      ]
    },
    {
      "cell_type": "markdown",
      "metadata": {
        "id": "Oln3Xj-9t-Y6"
      },
      "source": [
        "## **3.3. HTML and JavaScript based Features**\n",
        "\n",
        "Many features can be extracted that come under this category. Out of them, below mentioned were considered for this project.\n",
        "\n",
        "*   IFrame Redirection\n",
        "*   Status Bar Customization\n",
        "*   Disabling Right Click\n",
        "*   Website Forwarding\n",
        "\n",
        "Each of these features are explained and the coded below:"
      ]
    },
    {
      "cell_type": "markdown",
      "metadata": {
        "id": "RES6bSWPy-Bj"
      },
      "source": [
        "### **3.3.1. IFrame Redirection**\n",
        "\n",
        "IFrame is an HTML tag used to display an additional webpage into one that is currently shown. Phishers can make use of the “iframe” tag and make it invisible i.e. without frame borders. In this regard, phishers make use of the “frameBorder” attribute which causes the browser to render a visual delineation.\n",
        "\n",
        "If the iframe is empty or repsonse is not found then, the value assigned to this feature is 1 (phishing) or else 0 (legitimate)."
      ]
    },
    {
      "cell_type": "code",
      "execution_count": 29,
      "metadata": {
        "id": "F2gpZEMSQGpu"
      },
      "outputs": [],
      "source": [
        "# 15. IFrame Redirection (iFrame)\n",
        "def iframe(response):\n",
        "  if response == \"\":\n",
        "      return 1\n",
        "  else:\n",
        "      if re.findall(r\"[<iframe>|<frameBorder>]\", response.text):\n",
        "          return 0\n",
        "      else:\n",
        "          return 1"
      ]
    },
    {
      "cell_type": "markdown",
      "metadata": {
        "id": "Ggh4ySE0BqjV"
      },
      "source": [
        "### **3.3.2. Status Bar Customization**\n",
        "\n",
        "Phishers may use JavaScript to show a fake URL in the status bar to users. To extract this feature, we must dig-out the webpage source code, particularly the “onMouseOver” event, and check if it makes any changes on the status bar\n",
        "\n",
        "If the response is empty or onmouseover is found then, the value assigned to this feature is 1 (phishing) or else 0 (legitimate)."
      ]
    },
    {
      "cell_type": "code",
      "execution_count": 30,
      "metadata": {
        "id": "eapOq2afVGCF"
      },
      "outputs": [],
      "source": [
        "# 16.Checks the effect of mouse over on status bar (Mouse_Over)\n",
        "def mouseOver(response):\n",
        "  if response == \"\" :\n",
        "    return 1\n",
        "  else:\n",
        "    if re.findall(\"<script>.+onmouseover.+</script>\", response.text):\n",
        "      return 1\n",
        "    else:\n",
        "      return 0"
      ]
    },
    {
      "cell_type": "markdown",
      "metadata": {
        "id": "IYgMTh1zBac9"
      },
      "source": [
        "### **3.3.3. Disabling Right Click**\n",
        "\n",
        "Phishers use JavaScript to disable the right-click function, so that users cannot view and save the webpage source code. This feature is treated exactly as “Using onMouseOver to hide the Link”. Nonetheless, for this feature, we will search for event “event.button==2” in the webpage source code and check if the right click is disabled.\n",
        "\n",
        "If the response is empty or onmouseover is not found then, the value assigned to this feature is 1 (phishing) or else 0 (legitimate).\n",
        "\n",
        "\n"
      ]
    },
    {
      "cell_type": "code",
      "execution_count": 31,
      "metadata": {
        "id": "9x3lR3lFIVj2"
      },
      "outputs": [],
      "source": [
        "\n",
        "# def rightClick(response):\n",
        "#   print(\"Response: \", response.text)\n",
        "#   if response == \"\":\n",
        "#     return 1\n",
        "#   else:\n",
        "#     if re.findall(r\"event.button ?== ?2\", response.text):\n",
        "#       return 0\n",
        "#     else:\n",
        "#       return 1"
      ]
    },
    {
      "cell_type": "code",
      "execution_count": 32,
      "metadata": {},
      "outputs": [],
      "source": [
        "# 17.Checks the status of the right click attribute (Right_Click)\n",
        "def rightClick(response):\n",
        "    if response == \"\":\n",
        "        return 1\n",
        "    else:\n",
        "        try:\n",
        "            if response.status_code == 200:\n",
        "                page_source = response.text\n",
        "\n",
        "                # Search for the specific event pattern in the page source\n",
        "                if 'event.button==2' in page_source or 'oncontextmenu' in page_source:\n",
        "                    return 1  # Phishing\n",
        "                else:\n",
        "                    return 0  # Legitimate\n",
        "            else:\n",
        "                print(f\"Failed to retrieve the webpage. Status code: {response.status_code}\")\n",
        "                return 1  # Error in fetching webpage\n",
        "        except requests.RequestException as e:\n",
        "            print(f\"An error occurred: {e}\")\n",
        "            return 1  # Error in fetching webpage\n",
        "\n",
        "# Example usage\n",
        "# url = 'https://google.com'\n",
        "# result = check_right_click_disabled(url)\n",
        "# if result == 1:\n",
        "#     print(\"Phishing: Right-click is disabled.\")\n",
        "# elif result == 0:\n",
        "#     print(\"Legitimate: Right-click is not disabled.\")\n",
        "# else:\n",
        "#     print(\"Error occurred while checking the webpage.\")"
      ]
    },
    {
      "cell_type": "markdown",
      "metadata": {
        "id": "1NAnYm0wKKRC"
      },
      "source": [
        "### **3.3.4. Website Forwarding**\n",
        "The fine line that distinguishes phishing websites from legitimate ones is how many times a website has been redirected. In our dataset, we find that legitimate websites have been redirected one time max. On the other hand, phishing websites containing this feature have been redirected at least 4 times.\n",
        "\n",
        "\n"
      ]
    },
    {
      "cell_type": "code",
      "execution_count": 33,
      "metadata": {
        "id": "GkpLyDIpKK0W"
      },
      "outputs": [],
      "source": [
        "# 18.Checks the number of forwardings (Web_Forwards)\n",
        "def forwarding(response):\n",
        "  if response == \"\":\n",
        "    return 1\n",
        "  else:\n",
        "    if len(response.history) <= 2:\n",
        "      return 0\n",
        "    else:\n",
        "      return 1"
      ]
    },
    {
      "cell_type": "markdown",
      "metadata": {
        "id": "AVtp7WtjdIfv"
      },
      "source": [
        "## **4. Computing URL Features**\n",
        "\n",
        "Create a list and a function that calls the other functions and stores all the features of the URL in the list. We will extract the features of each URL and append to this list."
      ]
    },
    {
      "cell_type": "code",
      "execution_count": 34,
      "metadata": {
        "id": "u6wYDwD2H1NZ"
      },
      "outputs": [],
      "source": [
        "from urllib.parse import urlsplit\n",
        "\n",
        "def get_domain_from_url(url):\n",
        "    split_url = urlsplit(url)\n",
        "    domain = split_url.netloc\n",
        "    # print(domain)\n",
        "    return domain"
      ]
    },
    {
      "cell_type": "code",
      "execution_count": 35,
      "metadata": {
        "id": "8GzyvCg2rzWU"
      },
      "outputs": [],
      "source": [
        "#Function to extract features\n",
        "def featureExtraction(url,label):\n",
        "\n",
        "  features = []\n",
        "\n",
        "  features.append(url)                # 1\n",
        "  #Address bar based features (10)\n",
        "  features.append(getDomain(url))     # 2\n",
        "  features.append(havingIP(url))      # 3\n",
        "  features.append(haveAtSign(url))    # 4\n",
        "  features.append(getLength(url))     # 5\n",
        "  features.append(getDepth(url))      # 6\n",
        "  features.append(redirection(url))   # 7\n",
        "  features.append(httpDomain(url))    # 8\n",
        "  features.append(tinyURL(url))       # 9\n",
        "  features.append(prefixSuffix(url))  # 10\n",
        "\n",
        "  #Domain based features (4)\n",
        "  dns = 0\n",
        "  try:\n",
        "    domain_name = whois.whois(urlparse(url).netloc)\n",
        "    # Check if the response contains null values\n",
        "    if all(value is None for value in domain_name.values()):\n",
        "        dns = 1\n",
        "  except:\n",
        "    dns = 1\n",
        "\n",
        "  # print(\"DNS\", dns)\n",
        "\n",
        "  features.append(dns)              # 11\n",
        "\n",
        "  domain = get_domain_from_url(url) \n",
        "\n",
        "  # print(\"Domain:\", domain)\n",
        "\n",
        "  features.append(web_traffic(domain))  # 12\n",
        "  features.append(1 if dns == 1 else domainAge(domain))    # 13\n",
        "  features.append(1 if dns == 1 else domainEnd(domain))    # 14\n",
        "\n",
        "  # print(url)\n",
        "\n",
        "  # HTML & Javascript based features (4)\n",
        "  try:\n",
        "    response = requests.get(url, timeout=10)  # Set a timeout (in seconds)\n",
        "    response.raise_for_status()  # Raise an HTTPError for bad responses (4xx or 5xx)\n",
        "  except requests.Timeout:\n",
        "    print(f\"Timeout occurred while making the request to {url}\")\n",
        "    response = \"\"\n",
        "  except:\n",
        "    response = \"\"\n",
        "\n",
        "  features.append(iframe(response))       # 15\n",
        "  features.append(mouseOver(response))    # 16\n",
        "  features.append(rightClick(response))   # 17\n",
        "  features.append(forwarding(response))   # 18\n",
        "  features.append(label)                  # 19\n",
        "\n",
        "  return features"
      ]
    },
    {
      "cell_type": "markdown",
      "metadata": {
        "id": "-v0QtVxld0Qq"
      },
      "source": [
        "### **4.1. Legitimate URLs:**\n",
        "\n",
        "Now, feature extraction is done on legitimate URLs."
      ]
    },
    {
      "cell_type": "code",
      "execution_count": 36,
      "metadata": {
        "colab": {
          "base_uri": "https://localhost:8080/"
        },
        "id": "s_2AX4OPeJRP",
        "outputId": "7dbbe277-1f4c-484f-b4ec-18e25a28e635"
      },
      "outputs": [
        {
          "data": {
            "text/plain": [
              "(10000, 1)"
            ]
          },
          "execution_count": 36,
          "metadata": {},
          "output_type": "execute_result"
        }
      ],
      "source": [
        "legiurl.shape"
      ]
    },
    {
      "cell_type": "code",
      "execution_count": 37,
      "metadata": {},
      "outputs": [
        {
          "data": {
            "text/html": [
              "<div>\n",
              "<style scoped>\n",
              "    .dataframe tbody tr th:only-of-type {\n",
              "        vertical-align: middle;\n",
              "    }\n",
              "\n",
              "    .dataframe tbody tr th {\n",
              "        vertical-align: top;\n",
              "    }\n",
              "\n",
              "    .dataframe thead th {\n",
              "        text-align: right;\n",
              "    }\n",
              "</style>\n",
              "<table border=\"1\" class=\"dataframe\">\n",
              "  <thead>\n",
              "    <tr style=\"text-align: right;\">\n",
              "      <th></th>\n",
              "      <th>URLs</th>\n",
              "    </tr>\n",
              "  </thead>\n",
              "  <tbody>\n",
              "    <tr>\n",
              "      <th>0</th>\n",
              "      <td>http://graphicriver.net/search?date=this-month...</td>\n",
              "    </tr>\n",
              "    <tr>\n",
              "      <th>1</th>\n",
              "      <td>http://ecnavi.jp/redirect/?url=http://www.cros...</td>\n",
              "    </tr>\n",
              "    <tr>\n",
              "      <th>2</th>\n",
              "      <td>https://hubpages.com/signin?explain=follow+Hub...</td>\n",
              "    </tr>\n",
              "    <tr>\n",
              "      <th>3</th>\n",
              "      <td>http://extratorrent.cc/torrent/4190536/AOMEI+B...</td>\n",
              "    </tr>\n",
              "    <tr>\n",
              "      <th>4</th>\n",
              "      <td>http://icicibank.com/Personal-Banking/offers/o...</td>\n",
              "    </tr>\n",
              "  </tbody>\n",
              "</table>\n",
              "</div>"
            ],
            "text/plain": [
              "                                                URLs\n",
              "0  http://graphicriver.net/search?date=this-month...\n",
              "1  http://ecnavi.jp/redirect/?url=http://www.cros...\n",
              "2  https://hubpages.com/signin?explain=follow+Hub...\n",
              "3  http://extratorrent.cc/torrent/4190536/AOMEI+B...\n",
              "4  http://icicibank.com/Personal-Banking/offers/o..."
            ]
          },
          "execution_count": 37,
          "metadata": {},
          "output_type": "execute_result"
        }
      ],
      "source": [
        "legiurl.head()"
      ]
    },
    {
      "cell_type": "code",
      "execution_count": 38,
      "metadata": {
        "colab": {
          "base_uri": "https://localhost:8080/",
          "height": 1000,
          "referenced_widgets": [
            "2e0d997ab80e4bbf8b0ffa364f5fe949",
            "ca3792e7b02d40bba6a2a6e3a78ca1a3",
            "c9405be444c6427f81c8bfb4a3080fc5",
            "4244c946baf74082b71783c4850e53dc",
            "4db982cdfa244fb8a866aad29a81adf7",
            "aa61e64173b94d499cca1a343e7ce62b",
            "55940b2d946f43a5aa3711c2844038e6",
            "857abb76c27a4b7b82fd495024fc0d8c",
            "bd5a3717dddc474ab857d5d0c2ba6e6a",
            "d8b02ec6f86c48d5b74620bc4e596c52",
            "24d64f2c02d849838ca7765ed88642fd"
          ]
        },
        "id": "MBJ58g-MC6Bx",
        "outputId": "a4c27d6e-e85e-42c1-a0b8-4e0d8f9534a8"
      },
      "outputs": [
        {
          "data": {
            "application/vnd.jupyter.widget-view+json": {
              "model_id": "cd9642d05e0447febb7037001e2f30f1",
              "version_major": 2,
              "version_minor": 0
            },
            "text/plain": [
              "Processing:   0%|          | 0/10000 [00:00<?, ?rows/s]"
            ]
          },
          "metadata": {},
          "output_type": "display_data"
        },
        {
          "name": "stderr",
          "output_type": "stream",
          "text": [
            "2024-05-31 23:07:15,241 - whois.whois - ERROR - Error trying to connect to socket: closing socket - [Errno 11001] getaddrinfo failed\n",
            "2024-05-31 23:07:22,627 - whois.whois - ERROR - Error trying to connect to socket: closing socket - [Errno 11001] getaddrinfo failed\n"
          ]
        },
        {
          "name": "stdout",
          "output_type": "stream",
          "text": [
            "Timeout occurred while making the request to https://tune.pk/video/6046458/canelo-vs-kirkland-highlights-hbo-world-championship-boxing\n",
            "Timeout occurred while making the request to http://olx.in/hi/item/nokia-5800-express-music-perfect-working-condition-body-average-cond-IDTIzUp.html\n"
          ]
        },
        {
          "name": "stderr",
          "output_type": "stream",
          "text": [
            "2024-05-31 23:07:36,835 - whois.whois - ERROR - Error trying to connect to socket: closing socket - [Errno 11001] getaddrinfo failed\n"
          ]
        },
        {
          "name": "stdout",
          "output_type": "stream",
          "text": [
            "Creation date or expiration date is missing.\n",
            "Creation date or expiration date is missing.\n",
            "An error occurred: unsupported operand type(s) for -: 'NoneType' and 'datetime.datetime'\n",
            "An error occurred: unsupported operand type(s) for -: 'NoneType' and 'datetime.datetime'\n",
            "Timeout occurred while making the request to http://spankbang.com/4ze1/video/brunette+with+big+boobs+fucked+in+a+cellar+public+agent\n",
            "An error occurred: unsupported operand type(s) for -: 'str' and 'str'\n"
          ]
        },
        {
          "name": "stderr",
          "output_type": "stream",
          "text": [
            "2024-05-31 23:07:44,404 - whois.whois - ERROR - Error trying to connect to socket: closing socket - [Errno 11001] getaddrinfo failed\n"
          ]
        },
        {
          "name": "stdout",
          "output_type": "stream",
          "text": [
            "An error occurred: unsupported operand type(s) for -: 'str' and 'datetime.datetime'\n"
          ]
        },
        {
          "name": "stderr",
          "output_type": "stream",
          "text": [
            "2024-05-31 23:07:48,358 - whois.whois - ERROR - Error trying to connect to socket: closing socket - [Errno 11001] getaddrinfo failed\n",
            "2024-05-31 23:07:50,489 - whois.whois - ERROR - Error trying to connect to socket: closing socket - [Errno 11001] getaddrinfo failed\n",
            "2024-05-31 23:07:54,426 - whois.whois - ERROR - Error trying to connect to socket: closing socket - [Errno 11001] getaddrinfo failed\n"
          ]
        },
        {
          "name": "stdout",
          "output_type": "stream",
          "text": [
            "Creation date or expiration date is missing.\n"
          ]
        },
        {
          "name": "stderr",
          "output_type": "stream",
          "text": [
            "2024-05-31 23:07:54,733 - whois.whois - ERROR - Error trying to connect to socket: closing socket - timed out\n"
          ]
        },
        {
          "name": "stdout",
          "output_type": "stream",
          "text": [
            "An error occurred: unsupported operand type(s) for -: 'NoneType' and 'datetime.datetime'\n"
          ]
        },
        {
          "name": "stderr",
          "output_type": "stream",
          "text": [
            "2024-05-31 23:07:55,476 - whois.whois - ERROR - Error trying to connect to socket: closing socket - timed out\n"
          ]
        },
        {
          "name": "stdout",
          "output_type": "stream",
          "text": [
            "An error occurred: unsupported operand type(s) for -: 'NoneType' and 'datetime.datetime'\n"
          ]
        },
        {
          "name": "stderr",
          "output_type": "stream",
          "text": [
            "2024-05-31 23:08:00,053 - whois.whois - ERROR - Error trying to connect to socket: closing socket - [WinError 10061] No connection could be made because the target machine actively refused it\n"
          ]
        },
        {
          "name": "stdout",
          "output_type": "stream",
          "text": [
            "Timeout occurred while making the request to http://kickass.to/microsoft-office-professional-plus-2013-64-bit-english-rareabyss-t10091322.html\n",
            "Timeout occurred while making the request to https://chaturbate.com/tipping/spy_on_private_show_tokens_per_minute/ingridblondy94/\n",
            "An error occurred: unsupported operand type(s) for -: 'str' and 'str'\n",
            "An error occurred: unsupported operand type(s) for -: 'str' and 'str'\n",
            "An error occurred: unsupported operand type(s) for -: 'str' and 'datetime.datetime'\n",
            "An error occurred: unsupported operand type(s) for -: 'str' and 'datetime.datetime'\n",
            "Creation date or expiration date is missing.\n",
            "Creation date or expiration date is missing.\n",
            "An error occurred: unsupported operand type(s) for -: 'NoneType' and 'datetime.datetime'\n",
            "An error occurred: unsupported operand type(s) for -: 'NoneType' and 'datetime.datetime'\n",
            "Creation date or expiration date is missing.\n",
            "An error occurred: unsupported operand type(s) for -: 'NoneType' and 'datetime.datetime'\n"
          ]
        },
        {
          "name": "stderr",
          "output_type": "stream",
          "text": [
            "2024-05-31 23:08:25,581 - whois.whois - ERROR - Error trying to connect to socket: closing socket - [Errno 11001] getaddrinfo failed\n"
          ]
        },
        {
          "name": "stdout",
          "output_type": "stream",
          "text": [
            "Timeout occurred while making the request to http://buzzfil.net/m/show-art/voici-16-voisins-qui-ont-pique-une-crise-de-nerfs-9.html\n",
            "Creation date or expiration date is missing.\n",
            "An error occurred: unsupported operand type(s) for -: 'NoneType' and 'datetime.datetime'\n",
            "Creation date or expiration date is missing.\n"
          ]
        },
        {
          "name": "stderr",
          "output_type": "stream",
          "text": [
            "2024-05-31 23:08:29,836 - whois.whois - ERROR - Error trying to connect to socket: closing socket - timed out\n"
          ]
        },
        {
          "name": "stdout",
          "output_type": "stream",
          "text": [
            "An error occurred: unsupported operand type(s) for -: 'NoneType' and 'datetime.datetime'\n",
            "An error occurred: unsupported operand type(s) for -: 'NoneType' and 'datetime.datetime'\n",
            "An error occurred: unsupported operand type(s) for -: 'str' and 'str'\n",
            "Creation date or expiration date is missing.\n",
            "An error occurred: unsupported operand type(s) for -: 'NoneType' and 'datetime.datetime'\n",
            "An error occurred: unsupported operand type(s) for -: 'str' and 'datetime.datetime'\n",
            "An error occurred: unsupported operand type(s) for -: 'str' and 'str'\n",
            "An error occurred: unsupported operand type(s) for -: 'str' and 'datetime.datetime'\n",
            "Timeout occurred while making the request to http://olx.co.id/i2/elektronik-gadget/komputer/keyboard-mouse/elektronik-gadget/komputer/keyboard-mouse\n",
            "Timeout occurred while making the request to http://olx.in/hi/item/nokia-lumia-520-with-3-back-covers-and-data-cable-and-box-IDWjzgb.html\n",
            "Have At Sign\n",
            "Have At Sign\n",
            "Timeout occurred while making the request to http://xhamster.com/movies/4567879/you_are_going_to_love_the_way_that_stockings_feel.html\n"
          ]
        },
        {
          "name": "stderr",
          "output_type": "stream",
          "text": [
            "2024-05-31 23:08:55,285 - whois.whois - ERROR - Error trying to connect to socket: closing socket - [Errno 11001] getaddrinfo failed\n"
          ]
        },
        {
          "name": "stdout",
          "output_type": "stream",
          "text": [
            "Timeout occurred while making the request to http://katproxy.com/fast-and-furious-7-2015-hd-ts-xvid-ac3-hq-hive-cm8-t10472303.html\n",
            "Creation date or expiration date is missing.\n"
          ]
        },
        {
          "name": "stderr",
          "output_type": "stream",
          "text": [
            "2024-05-31 23:08:57,148 - whois.whois - ERROR - Error trying to connect to socket: closing socket - [Errno 11001] getaddrinfo failed\n"
          ]
        },
        {
          "name": "stdout",
          "output_type": "stream",
          "text": [
            "An error occurred: unsupported operand type(s) for -: 'NoneType' and 'datetime.datetime'\n",
            "Timeout occurred while making the request to http://zozo.jp/shop/boissonchocolat/?price=proper&p_ssy=2015&p_ssm=5&p_ssd=13&p_sey=2015&p_sem=5&p_sed=13&dstk=2\n",
            "Creation date or expiration date is missing.\n",
            "An error occurred: unsupported operand type(s) for -: 'NoneType' and 'datetime.datetime'\n",
            "Timeout occurred while making the request to http://buzzfil.net/article/5466/animaux/georges-le-chat-qui-se-tient-debout-tout-le-temps-3.html?href=inner_website\n"
          ]
        },
        {
          "name": "stderr",
          "output_type": "stream",
          "text": [
            "2024-05-31 23:09:12,194 - whois.whois - ERROR - Error trying to connect to socket: closing socket - [WinError 10061] No connection could be made because the target machine actively refused it\n"
          ]
        },
        {
          "name": "stdout",
          "output_type": "stream",
          "text": [
            "Creation date or expiration date is missing.\n",
            "An error occurred: unsupported operand type(s) for -: 'NoneType' and 'datetime.datetime'\n",
            "Timeout occurred while making the request to http://1337x.to/torrent/1147924/The-Avengers-Age-of-Ultron-2015-CAM-HINDI-Xclusive-Makintos13/\n",
            "Have At Sign\n",
            "Timeout occurred while making the request to http://katproxy.com/desktop-wallpapers-girls-1680x1050-4186x2727-100pcs-2015-jpg-t10632368.html\n"
          ]
        },
        {
          "name": "stderr",
          "output_type": "stream",
          "text": [
            "2024-05-31 23:09:30,008 - whois.whois - ERROR - Error trying to connect to socket: closing socket - [Errno 11001] getaddrinfo failed\n"
          ]
        },
        {
          "name": "stdout",
          "output_type": "stream",
          "text": [
            "Timeout occurred while making the request to http://katproxy.com/community/show/12-monkeys-2015-tv-show-syfy-discussion-thread/?unread=16468419\n"
          ]
        },
        {
          "name": "stderr",
          "output_type": "stream",
          "text": [
            "2024-05-31 23:09:34,626 - whois.whois - ERROR - Error trying to connect to socket: closing socket - [WinError 10061] No connection could be made because the target machine actively refused it\n"
          ]
        },
        {
          "name": "stdout",
          "output_type": "stream",
          "text": [
            "Timeout occurred while making the request to http://yourlust.com/videos/chubby-dutch-honey-with-massive-tits-pets-her-cunt-with-dildo.html\n",
            "Creation date or expiration date is missing.\n",
            "An error occurred: unsupported operand type(s) for -: 'NoneType' and 'datetime.datetime'\n",
            "Timeout occurred while making the request to http://olx.co.id/i2/hobi-olahraga/olahraga/olahraga-lainnya/hobi-olahraga/olahraga/olahraga-lainnya\n",
            "Timeout occurred while making the request to http://buzzfil.net/m/show-art/quand-jamel-debbouze-retourne-le-plateau-de-tf1-wow-quel-jt-9.html\n",
            "Timeout occurred while making the request to http://1337x.to/torrent/1145444/Avengers-Age-of-Ultron-2015-HQCAM-REPACK-D-XVID-MP3-MURD3R/\n",
            "An error occurred: unsupported operand type(s) for -: 'str' and 'str'\n",
            "An error occurred: unsupported operand type(s) for -: 'str' and 'str'\n",
            "An error occurred: unsupported operand type(s) for -: 'str' and 'datetime.datetime'\n",
            "An error occurred: unsupported operand type(s) for -: 'str' and 'datetime.datetime'\n"
          ]
        },
        {
          "name": "stderr",
          "output_type": "stream",
          "text": [
            "2024-05-31 23:09:48,783 - whois.whois - ERROR - Error trying to connect to socket: closing socket - [Errno 11001] getaddrinfo failed\n"
          ]
        },
        {
          "name": "stdout",
          "output_type": "stream",
          "text": [
            "Creation date or expiration date is missing.\n",
            "An error occurred: unsupported operand type(s) for -: 'NoneType' and 'datetime.datetime'\n",
            "An error occurred: unsupported operand type(s) for -: 'str' and 'str'\n",
            "An error occurred: unsupported operand type(s) for -: 'str' and 'datetime.datetime'\n",
            "Creation date or expiration date is missing.\n",
            "An error occurred: unsupported operand type(s) for -: 'NoneType' and 'datetime.datetime'\n",
            "Timeout occurred while making the request to http://xhamster.com/movies/3319804/whooty_florida_slut_carmen_valentina_fucks_a_fan.html?promo=1\n"
          ]
        },
        {
          "name": "stderr",
          "output_type": "stream",
          "text": [
            "2024-05-31 23:10:02,488 - whois.whois - ERROR - Error trying to connect to socket: closing socket - [WinError 10061] No connection could be made because the target machine actively refused it\n",
            "2024-05-31 23:10:04,338 - whois.whois - ERROR - Error trying to connect to socket: closing socket - [Errno 11001] getaddrinfo failed\n"
          ]
        },
        {
          "name": "stdout",
          "output_type": "stream",
          "text": [
            "Timeout occurred while making the request to http://xhamster.com/movies/4554943/scandal_milf_teacher_sacked_after_students_find_her_porn_vid.html\n",
            "Creation date or expiration date is missing.\n",
            "Creation date or expiration date is missing.\n",
            "An error occurred: unsupported operand type(s) for -: 'NoneType' and 'datetime.datetime'\n",
            "An error occurred: unsupported operand type(s) for -: 'NoneType' and 'datetime.datetime'\n",
            "Creation date or expiration date is missing.\n",
            "An error occurred: unsupported operand type(s) for -: 'NoneType' and 'datetime.datetime'\n",
            "Timeout occurred while making the request to http://kickass.to/adobe-photoshop-cs6-13-0-final-extended-eng-jpn-mac-os-x-chingliu-t6355553.html\n",
            "Timeout occurred while making the request to http://hdfcbank.com/personal/article/know-your-finances-article/hto2kzho/1323951143\n",
            "Timeout occurred while making the request to http://olx.co.id/i2/elektronik-gadget/komputer/proyektor/elektronik-gadget/komputer/proyektor\n",
            "An error occurred: unsupported operand type(s) for -: 'str' and 'str'\n",
            "An error occurred: unsupported operand type(s) for -: 'str' and 'datetime.datetime'\n",
            "Timeout occurred while making the request to http://buzzfil.net/article/5584/animaux/apres-de-longues-annees-d-enchainement-qui-ont-failli-lui-arrache-la-vie-ce-puma-retrouve-aujourd-hui-sa-liberte-9.html?href=inner_website\n",
            "Timeout occurred while making the request to http://nymag.com/thecut/2013/06/gisele-bundchen-look-book/slideshow/2012/08/20/gisele_bundchen\n",
            "Timeout occurred while making the request to http://olx.co.id/q-%7Bq%7D/jawa-timur?utm_source=google&utm_medium=search&utm_campaign=search_organic&mappingUrl=1\n"
          ]
        },
        {
          "name": "stderr",
          "output_type": "stream",
          "text": [
            "2024-05-31 23:10:35,475 - whois.whois - ERROR - Error trying to connect to socket: closing socket - [Errno 11001] getaddrinfo failed\n"
          ]
        },
        {
          "name": "stdout",
          "output_type": "stream",
          "text": [
            "Timeout occurred while making the request to http://depositphotos.com/login.html?url=%2F59798211%2Fstock-photo-two-cups-of-coffee-and.html\n",
            "Timeout occurred while making the request to http://tune.pk/video/6047819/%E2%97%86-zinedine-zidane-zizou-%E2%97%86-skillstricks-amp-goals-hd-\n",
            "Timeout occurred while making the request to http://tune.pk/video/6046470/happy-hippie-presents-peace-will-come-according-to-plan-featuring-melanie-safka\n",
            "An error occurred: unsupported operand type(s) for -: 'str' and 'str'\n",
            "Timeout occurred while making the request to http://olx.co.id/bali/q-%7Bq%7D/?utm_source=google&utm_medium=search&utm_campaign=search_organic\n"
          ]
        },
        {
          "name": "stderr",
          "output_type": "stream",
          "text": [
            "2024-05-31 23:10:57,835 - whois.whois - ERROR - Error trying to connect to socket: closing socket - [Errno 11001] getaddrinfo failed\n"
          ]
        },
        {
          "name": "stdout",
          "output_type": "stream",
          "text": [
            "An error occurred: unsupported operand type(s) for -: 'str' and 'datetime.datetime'\n"
          ]
        },
        {
          "name": "stderr",
          "output_type": "stream",
          "text": [
            "2024-05-31 23:10:58,964 - whois.whois - ERROR - Error trying to connect to socket: closing socket - [Errno 11001] getaddrinfo failed\n",
            "2024-05-31 23:10:59,119 - whois.whois - ERROR - Error trying to connect to socket: closing socket - [Errno 11001] getaddrinfo failed\n"
          ]
        },
        {
          "name": "stdout",
          "output_type": "stream",
          "text": [
            "Timeout occurred while making the request to http://allrecipes.com/video/4986/oatmeal-cookie-apple-crisp/detail.aspx?prop24=VH_Newest\n",
            "Creation date or expiration date is missing.\n",
            "An error occurred: unsupported operand type(s) for -: 'NoneType' and 'datetime.datetime'\n"
          ]
        },
        {
          "name": "stderr",
          "output_type": "stream",
          "text": [
            "2024-05-31 23:11:05,074 - whois.whois - ERROR - Error trying to connect to socket: closing socket - [Errno 11001] getaddrinfo failed\n"
          ]
        },
        {
          "name": "stdout",
          "output_type": "stream",
          "text": [
            "Creation date or expiration date is missing.\n",
            "An error occurred: unsupported operand type(s) for -: 'NoneType' and 'datetime.datetime'\n",
            "Creation date or expiration date is missing.\n",
            "An error occurred: unsupported operand type(s) for -: 'NoneType' and 'datetime.datetime'\n",
            "Creation date or expiration date is missing.\n",
            "An error occurred: unsupported operand type(s) for -: 'str' and 'str'\n",
            "An error occurred: unsupported operand type(s) for -: 'NoneType' and 'datetime.datetime'\n",
            "An error occurred: unsupported operand type(s) for -: 'str' and 'datetime.datetime'\n",
            "An error occurred: unsupported operand type(s) for -: 'str' and 'str'\n",
            "An error occurred: unsupported operand type(s) for -: 'str' and 'datetime.datetime'\n",
            "Timeout occurred while making the request to http://depositphotos.com/login.html?url=%2F58418765%2Fstock-photo-brutal-bearded-man.html\n",
            "Creation date or expiration date is missing.\n",
            "Timeout occurred while making the request to http://zozo.jp/shop/abahouse/?price=proper&p_ssy=2015&p_ssm=5&p_ssd=13&p_sey=2015&p_sem=5&p_sed=13&dstk=2\n",
            "An error occurred: unsupported operand type(s) for -: 'NoneType' and 'datetime.datetime'\n",
            "Creation date or expiration date is missing.\n",
            "An error occurred: unsupported operand type(s) for -: 'NoneType' and 'datetime.datetime'\n"
          ]
        },
        {
          "name": "stderr",
          "output_type": "stream",
          "text": [
            "2024-05-31 23:11:32,556 - whois.whois - ERROR - Error trying to connect to socket: closing socket - [Errno 11001] getaddrinfo failed\n"
          ]
        },
        {
          "name": "stdout",
          "output_type": "stream",
          "text": [
            "An error occurred: unsupported operand type(s) for -: 'str' and 'str'\n",
            "Have At Sign\n"
          ]
        },
        {
          "name": "stderr",
          "output_type": "stream",
          "text": [
            "2024-05-31 23:11:36,491 - whois.whois - ERROR - Error trying to connect to socket: closing socket - timed out\n"
          ]
        },
        {
          "name": "stdout",
          "output_type": "stream",
          "text": [
            "An error occurred: unsupported operand type(s) for -: 'str' and 'datetime.datetime'\n",
            "Have At Sign\n"
          ]
        },
        {
          "name": "stderr",
          "output_type": "stream",
          "text": [
            "2024-05-31 23:11:41,291 - whois.whois - ERROR - Error trying to connect to socket: closing socket - [Errno 11001] getaddrinfo failed\n"
          ]
        },
        {
          "name": "stdout",
          "output_type": "stream",
          "text": [
            "An error occurred: unsupported operand type(s) for -: 'str' and 'str'\n",
            "An error occurred: unsupported operand type(s) for -: 'str' and 'datetime.datetime'\n",
            "Timeout occurred while making the request to http://olx.co.id/i2/elektronik-gadget/aksesoris-hp-tablet/baterai/elektronik-gadget/aksesoris-hp-tablet/baterai\n"
          ]
        },
        {
          "name": "stderr",
          "output_type": "stream",
          "text": [
            "2024-05-31 23:11:49,384 - whois.whois - ERROR - Error trying to connect to socket: closing socket - timed out\n",
            "2024-05-31 23:11:53,228 - whois.whois - ERROR - Error trying to connect to socket: closing socket - [Errno 11001] getaddrinfo failed\n"
          ]
        },
        {
          "name": "stdout",
          "output_type": "stream",
          "text": [
            "An error occurred: unsupported operand type(s) for -: 'str' and 'str'\n",
            "An error occurred: unsupported operand type(s) for -: 'str' and 'datetime.datetime'\n"
          ]
        },
        {
          "name": "stderr",
          "output_type": "stream",
          "text": [
            "2024-05-31 23:12:04,589 - whois.whois - ERROR - Error trying to connect to socket: closing socket - [Errno 11001] getaddrinfo failed\n"
          ]
        },
        {
          "name": "stdout",
          "output_type": "stream",
          "text": [
            "Timeout occurred while making the request to http://olx.in/i2/item/samsung-galaxy-note-2-sell-in-new-condition-at-rs-10300-only-IDWjzGj.html\n",
            "Timeout occurred while making the request to http://depositphotos.com/search.html?st=0&image=1&vector=0&video=0&sorting=best_match&editorial_only=1&editorial_exclude=0&orientation=all&search_size=all&limit=60&nudity=0&query=fitness\n"
          ]
        },
        {
          "name": "stderr",
          "output_type": "stream",
          "text": [
            "2024-05-31 23:12:06,176 - whois.whois - ERROR - Error trying to connect to socket: closing socket - [Errno 11001] getaddrinfo failed\n",
            "2024-05-31 23:12:06,511 - whois.whois - ERROR - Error trying to connect to socket: closing socket - [Errno 11001] getaddrinfo failed\n"
          ]
        },
        {
          "name": "stdout",
          "output_type": "stream",
          "text": [
            "Timeout occurred while making the request to http://olx.co.id/all-results/q-%7Bq%7D/?utm_source=google&utm_medium=search&utm_campaign=search_organic&view=galleryBig\n",
            "Timeout occurred while making the request to http://buzzfil.net/article/5674/c-mignon/la-petite-n-a-que-10-ans-et-elle-a-deja-une-voix-d-or-tres-impressionnante-9.html?href=inner_website\n"
          ]
        },
        {
          "name": "stderr",
          "output_type": "stream",
          "text": [
            "2024-05-31 23:12:11,226 - whois.whois - ERROR - Error trying to connect to socket: closing socket - [Errno 11001] getaddrinfo failed\n",
            "2024-05-31 23:12:11,925 - whois.whois - ERROR - Error trying to connect to socket: closing socket - [Errno 11001] getaddrinfo failed\n",
            "2024-05-31 23:12:22,722 - whois.whois - ERROR - Error trying to connect to socket: closing socket - [Errno 11001] getaddrinfo failed\n"
          ]
        },
        {
          "name": "stdout",
          "output_type": "stream",
          "text": [
            "Timeout occurred while making the request to http://buzzfil.net/article/5629/photo-look/gif-avantaujourd-hui-d-un-patrimoine-delaisse-la-mythique-route-66-3.html?href=inner_website\n",
            "Creation date or expiration date is missing.\n",
            "An error occurred: unsupported operand type(s) for -: 'NoneType' and 'datetime.datetime'\n",
            "Creation date or expiration date is missing.\n",
            "Creation date or expiration date is missing.\n",
            "An error occurred: unsupported operand type(s) for -: 'NoneType' and 'datetime.datetime'\n",
            "An error occurred: unsupported operand type(s) for -: 'NoneType' and 'datetime.datetime'\n",
            "An error occurred: unsupported operand type(s) for -: 'str' and 'str'\n",
            "An error occurred: unsupported operand type(s) for -: 'str' and 'datetime.datetime'\n"
          ]
        },
        {
          "name": "stderr",
          "output_type": "stream",
          "text": [
            "2024-05-31 23:12:40,469 - whois.whois - ERROR - Error trying to connect to socket: closing socket - [Errno 11001] getaddrinfo failed\n"
          ]
        },
        {
          "name": "stdout",
          "output_type": "stream",
          "text": [
            "Timeout occurred while making the request to http://depositphotos.com/stock-photos/%D0%9F%D1%83%D1%82%D0%B5%D1%88%D0%B5%D1%81%D1%82%D0%B2%D0%B8%D0%B5.html\n",
            "Creation date or expiration date is missing.\n",
            "An error occurred: unsupported operand type(s) for -: 'str' and 'str'\n",
            "An error occurred: unsupported operand type(s) for -: 'NoneType' and 'datetime.datetime'\n",
            "An error occurred: unsupported operand type(s) for -: 'str' and 'datetime.datetime'\n",
            "Creation date or expiration date is missing.\n",
            "An error occurred: unsupported operand type(s) for -: 'NoneType' and 'datetime.datetime'\n"
          ]
        },
        {
          "name": "stderr",
          "output_type": "stream",
          "text": [
            "2024-05-31 23:13:05,883 - whois.whois - ERROR - Error trying to connect to socket: closing socket - [Errno 11001] getaddrinfo failed\n"
          ]
        },
        {
          "name": "stdout",
          "output_type": "stream",
          "text": [
            "Creation date or expiration date is missing.\n",
            "An error occurred: unsupported operand type(s) for -: 'NoneType' and 'datetime.datetime'\n",
            "Timeout occurred while making the request to http://olx.in/hi/sikkim/q-%7Bq%7D/?utm_source=google&utm_medium=search&utm_campaign=search_organic\n",
            "Timeout occurred while making the request to http://katproxy.com/garrys-mod-v14-07-10-full-autoupdate-multilanguage-t9320099.html\n"
          ]
        },
        {
          "name": "stderr",
          "output_type": "stream",
          "text": [
            "2024-05-31 23:13:13,486 - whois.whois - ERROR - Error trying to connect to socket: closing socket - [Errno 11001] getaddrinfo failed\n"
          ]
        },
        {
          "name": "stdout",
          "output_type": "stream",
          "text": [
            "Timeout occurred while making the request to http://olx.co.id/i2/elektronik-gadget/aksesoris-hp-tablet/elektronik-gadget/aksesoris-hp-tablet\n",
            "Creation date or expiration date is missing.\n",
            "An error occurred: unsupported operand type(s) for -: 'NoneType' and 'datetime.datetime'\n",
            "Timeout occurred while making the request to http://yourlust.com/videos/mad-reverse-gang-bang-action-with-spoiled-ladies-and-one-big-dick.html\n"
          ]
        },
        {
          "name": "stderr",
          "output_type": "stream",
          "text": [
            "2024-05-31 23:13:16,301 - whois.whois - ERROR - Error trying to connect to socket: closing socket - [Errno 11001] getaddrinfo failed\n"
          ]
        },
        {
          "name": "stdout",
          "output_type": "stream",
          "text": [
            "Creation date or expiration date is missing.\n",
            "An error occurred: unsupported operand type(s) for -: 'NoneType' and 'datetime.datetime'\n",
            "Creation date or expiration date is missing.\n",
            "An error occurred: unsupported operand type(s) for -: 'NoneType' and 'datetime.datetime'\n"
          ]
        },
        {
          "name": "stderr",
          "output_type": "stream",
          "text": [
            "2024-05-31 23:13:28,658 - whois.whois - ERROR - Error trying to connect to socket: closing socket - [Errno 11001] getaddrinfo failed\n",
            "2024-05-31 23:13:29,043 - whois.whois - ERROR - Error trying to connect to socket: closing socket - [Errno 11001] getaddrinfo failed\n"
          ]
        },
        {
          "name": "stdout",
          "output_type": "stream",
          "text": [
            "Timeout occurred while making the request to http://depositphotos.com/login.html?url=%2F59221241%2Fstock-photo-bearded-tattooed-guy.html\n",
            "An error occurred: unsupported operand type(s) for -: 'str' and 'str'\n",
            "An error occurred: unsupported operand type(s) for -: 'str' and 'datetime.datetime'\n"
          ]
        },
        {
          "name": "stderr",
          "output_type": "stream",
          "text": [
            "2024-05-31 23:13:36,866 - whois.whois - ERROR - Error trying to connect to socket: closing socket - [Errno 11001] getaddrinfo failed\n"
          ]
        },
        {
          "name": "stdout",
          "output_type": "stream",
          "text": [
            "Timeout occurred while making the request to http://motherless.com/login?back=%252Fcredits%252Fsend%253Fu%253Dswitches%2526back%253Dhttp%253A%252F%252Fmotherless.com%252Fm%252Fswitches\n",
            "Timeout occurred while making the request to http://xhamster.com/movies/4578121/blindfold_girl_gets_anal_sex_toy_up_her_ass.html?s=6\n",
            "An error occurred: unsupported operand type(s) for -: 'str' and 'str'\n",
            "An error occurred: unsupported operand type(s) for -: 'str' and 'datetime.datetime'\n"
          ]
        },
        {
          "name": "stderr",
          "output_type": "stream",
          "text": [
            "2024-05-31 23:14:01,638 - whois.whois - ERROR - Error trying to connect to socket: closing socket - [Errno 11001] getaddrinfo failed\n"
          ]
        },
        {
          "name": "stdout",
          "output_type": "stream",
          "text": [
            "An error occurred: unsupported operand type(s) for -: 'str' and 'str'\n",
            "An error occurred: unsupported operand type(s) for -: 'str' and 'datetime.datetime'\n"
          ]
        },
        {
          "name": "stderr",
          "output_type": "stream",
          "text": [
            "2024-05-31 23:14:10,200 - whois.whois - ERROR - Error trying to connect to socket: closing socket - [WinError 10061] No connection could be made because the target machine actively refused it\n",
            "2024-05-31 23:14:15,376 - whois.whois - ERROR - Error trying to connect to socket: closing socket - [WinError 10061] No connection could be made because the target machine actively refused it\n"
          ]
        },
        {
          "name": "stdout",
          "output_type": "stream",
          "text": [
            "Timeout occurred while making the request to http://depositphotos.com/login.html?url=%2F27024353%2Fstock-video-on-the-beach-practicing-yoga.html\n",
            "Creation date or expiration date is missing.\n",
            "Creation date or expiration date is missing.\n",
            "An error occurred: unsupported operand type(s) for -: 'NoneType' and 'datetime.datetime'\n"
          ]
        },
        {
          "name": "stderr",
          "output_type": "stream",
          "text": [
            "2024-05-31 23:14:19,721 - whois.whois - ERROR - Error trying to connect to socket: closing socket - [Errno 11001] getaddrinfo failed\n"
          ]
        },
        {
          "name": "stdout",
          "output_type": "stream",
          "text": [
            "An error occurred: unsupported operand type(s) for -: 'NoneType' and 'datetime.datetime'\n",
            "Timeout occurred while making the request to http://kickass.to/dc-week-05-13-2015-vertigo-aka-new-52-week-193-nem-t10640710.html\n",
            "Creation date or expiration date is missing.\n",
            "An error occurred: unsupported operand type(s) for -: 'NoneType' and 'datetime.datetime'\n",
            "Timeout occurred while making the request to http://1337x.to/torrent/1160602/Apowersoft-Streaming-Audio-Recorder-3-4-5-Keygen-100-Working/\n",
            "Creation date or expiration date is missing.\n",
            "An error occurred: unsupported operand type(s) for -: 'NoneType' and 'datetime.datetime'\n",
            "An error occurred: [WinError 10054] An existing connection was forcibly closed by the remote host\n",
            "Timeout occurred while making the request to http://xhamster.com/movies/4580180/black_slut_jordan_love_fucks_her_girlfriend_with_a_dildo.html\n"
          ]
        },
        {
          "name": "stderr",
          "output_type": "stream",
          "text": [
            "2024-05-31 23:14:36,199 - whois.whois - ERROR - Error trying to connect to socket: closing socket - timed out\n"
          ]
        },
        {
          "name": "stdout",
          "output_type": "stream",
          "text": [
            "Have At Sign\n",
            "Timeout occurred while making the request to http://buzzfil.net/article/4867/buzz/ils-ignorent-totalement-cet-enfant-sans-abris-congele-par-le-froid-ce-qui-se-passe-ensuite-vous-laissera-bouche-bee-1.html?href=inner_website\n",
            "An error occurred: unsupported operand type(s) for -: 'str' and 'str'\n"
          ]
        },
        {
          "name": "stderr",
          "output_type": "stream",
          "text": [
            "2024-05-31 23:14:55,277 - whois.whois - ERROR - Error trying to connect to socket: closing socket - [Errno 11001] getaddrinfo failed\n"
          ]
        },
        {
          "name": "stdout",
          "output_type": "stream",
          "text": [
            "An error occurred: unsupported operand type(s) for -: 'str' and 'datetime.datetime'\n",
            "Timeout occurred while making the request to http://olx.co.id/i2/hobi-olahraga/buku-majalah/agama-kerohanian/hobi-olahraga/buku-majalah/agama-kerohanian\n",
            "Timeout occurred while making the request to http://moviepilot.com/quizzes/2015/04/10/which-of-the-original-mighty-morphin-power-ranger-are-you-2846958\n",
            "Creation date or expiration date is missing.\n",
            "An error occurred: unsupported operand type(s) for -: 'NoneType' and 'datetime.datetime'\n",
            "Timeout occurred while making the request to http://katproxy.com/kinpatu86-striped-panties-uniform-blonde-bernice-2013-uncensored-amwf-hd-720p-t10617559.html\n",
            "Creation date or expiration date is missing.\n",
            "An error occurred: unsupported operand type(s) for -: 'NoneType' and 'datetime.datetime'\n"
          ]
        },
        {
          "name": "stderr",
          "output_type": "stream",
          "text": [
            "2024-05-31 23:15:19,647 - whois.whois - ERROR - Error trying to connect to socket: closing socket - [Errno 11001] getaddrinfo failed\n",
            "2024-05-31 23:15:20,637 - whois.whois - ERROR - Error trying to connect to socket: closing socket - [Errno 11001] getaddrinfo failed\n"
          ]
        },
        {
          "name": "stdout",
          "output_type": "stream",
          "text": [
            "Timeout occurred while making the request to https://tune.pk/video/6045670/the-human-centipede-3-final-sequence-official-trailer\n",
            "Creation date or expiration date is missing.\n",
            "An error occurred: unsupported operand type(s) for -: 'str' and 'str'\n",
            "An error occurred: unsupported operand type(s) for -: 'NoneType' and 'datetime.datetime'\n",
            "An error occurred: unsupported operand type(s) for -: 'str' and 'datetime.datetime'\n"
          ]
        },
        {
          "name": "stderr",
          "output_type": "stream",
          "text": [
            "2024-05-31 23:15:31,701 - whois.whois - ERROR - Error trying to connect to socket: closing socket - [Errno 11001] getaddrinfo failed\n"
          ]
        },
        {
          "name": "stdout",
          "output_type": "stream",
          "text": [
            "Have At Sign\n"
          ]
        },
        {
          "name": "stderr",
          "output_type": "stream",
          "text": [
            "2024-05-31 23:15:41,142 - whois.whois - ERROR - Error trying to connect to socket: closing socket - timed out\n"
          ]
        },
        {
          "name": "stdout",
          "output_type": "stream",
          "text": [
            "Creation date or expiration date is missing.\n",
            "Timeout occurred while making the request to http://depositphotos.com/login.html?url=%2F58248831%2Fstock-illustration-3d-buildings-houses-city-infographic.html\n",
            "An error occurred: unsupported operand type(s) for -: 'str' and 'str'\n",
            "An error occurred: unsupported operand type(s) for -: 'str' and 'datetime.datetime'\n",
            "An error occurred: unsupported operand type(s) for -: 'str' and 'str'\n",
            "Timeout occurred while making the request to http://yourlust.com/videos/ugly-teacher-finally-reached-precious-teen-rosebud-and-sticked-his-wrinkled-horny-cock-in-it.html\n",
            "An error occurred: unsupported operand type(s) for -: 'str' and 'datetime.datetime'\n"
          ]
        },
        {
          "name": "stderr",
          "output_type": "stream",
          "text": [
            "2024-05-31 23:15:53,353 - whois.whois - ERROR - Error trying to connect to socket: closing socket - [Errno 11001] getaddrinfo failed\n",
            "2024-05-31 23:15:55,102 - whois.whois - ERROR - Error trying to connect to socket: closing socket - [WinError 10061] No connection could be made because the target machine actively refused it\n"
          ]
        },
        {
          "name": "stdout",
          "output_type": "stream",
          "text": [
            "Timeout occurred while making the request to http://moviepilot.com/posts/2015/05/11/theme-week-contest-who-is-your-star-to-watch-2913054\n",
            "Creation date or expiration date is missing.\n",
            "An error occurred: unsupported operand type(s) for -: 'NoneType' and 'datetime.datetime'\n",
            "Timeout occurred while making the request to http://kickass.to/zero-tolerance-cougar-sandwich-two-cougars-are-better-than-one-dvdrip-split-scenes-new-release-may-2015-t10640016.html\n"
          ]
        },
        {
          "name": "stderr",
          "output_type": "stream",
          "text": [
            "2024-05-31 23:16:09,748 - whois.whois - ERROR - Error trying to connect to socket: closing socket - [Errno 11001] getaddrinfo failed\n"
          ]
        },
        {
          "name": "stdout",
          "output_type": "stream",
          "text": [
            "Timeout occurred while making the request to http://depositphotos.com/login.html?url=%2F58418321%2Fstock-photo-bearded-man-with-vintage-straight.html\n"
          ]
        },
        {
          "name": "stderr",
          "output_type": "stream",
          "text": [
            "2024-05-31 23:16:14,960 - whois.whois - ERROR - Error trying to connect to socket: closing socket - [WinError 10061] No connection could be made because the target machine actively refused it\n"
          ]
        },
        {
          "name": "stdout",
          "output_type": "stream",
          "text": [
            "Timeout occurred while making the request to http://yourlust.com/videos/amateur-brunette-in-sexy-white-stockings-plays-with-her-pussy-sitting-on-a-chair.html\n",
            "Timeout occurred while making the request to http://tune.pk/video/6052256/scientists-just-captured-stunning-images-of-deep-sea-creatures-off-the-coast-of-puerto-rico\n",
            "An error occurred: [WinError 10054] An existing connection was forcibly closed by the remote host\n",
            "Timeout occurred while making the request to http://kickass.to/desktop-wallpapers-erotic-wallpaper-1050x1680-3328x4992-281pcs-2015-jpg-t10632392.html\n",
            "An error occurred: unsupported operand type(s) for -: 'str' and 'str'\n",
            "An error occurred: unsupported operand type(s) for -: 'str' and 'datetime.datetime'\n"
          ]
        },
        {
          "name": "stderr",
          "output_type": "stream",
          "text": [
            "2024-05-31 23:16:28,696 - whois.whois - ERROR - Error trying to connect to socket: closing socket - [Errno 11001] getaddrinfo failed\n",
            "2024-05-31 23:16:30,662 - whois.whois - ERROR - Error trying to connect to socket: closing socket - [Errno 11001] getaddrinfo failed\n"
          ]
        },
        {
          "name": "stdout",
          "output_type": "stream",
          "text": [
            "Timeout occurred while making the request to http://oneplus.net/ca_en/support/answer/is-the-oneplus-one-compatible-with-my-network\n",
            "Timeout occurred while making the request to http://buzzfil.net/article/5382/vdm/voici-un-boulot-tu-bois-de-la-biere-et-on-te-paye-9.html?href=inner_website\n",
            "Timeout occurred while making the request to http://olx.co.id/q-%7Bq%7D/sumatera-utara?utm_source=google&utm_medium=search&utm_campaign=search_organic&mappingUrl=1\n",
            "Have At Sign\n"
          ]
        },
        {
          "name": "stderr",
          "output_type": "stream",
          "text": [
            "2024-05-31 23:16:43,456 - whois.whois - ERROR - Error trying to connect to socket: closing socket - [Errno 11001] getaddrinfo failed\n"
          ]
        },
        {
          "name": "stdout",
          "output_type": "stream",
          "text": [
            "Timeout occurred while making the request to http://yourlust.com/videos/handsome-guy-licks-asian-pussy-and-penetrates-asian-anal-hole.html\n"
          ]
        },
        {
          "name": "stderr",
          "output_type": "stream",
          "text": [
            "2024-05-31 23:16:49,150 - whois.whois - ERROR - Error trying to connect to socket: closing socket - [Errno 11001] getaddrinfo failed\n"
          ]
        },
        {
          "name": "stdout",
          "output_type": "stream",
          "text": [
            "Timeout occurred while making the request to http://buzzfil.net/article/5246/vdm/ils-creusent-un-tunnel-pour-relier-l-ocean-et-la-riviere-regardez-ce-qui-se-passe-9.html?href=inner_website\n",
            "Timeout occurred while making the request to http://olx.co.id/jakarta-dki/q-%7Bq%7D/?utm_source=google&utm_medium=search&utm_campaign=search_organic\n",
            "Timeout occurred while making the request to http://tune.pk/video/6051999/%E3%83%9E%E3%82%AD%E3%82%B7%E3%83%9E%E3%83%A0-%E3%82%B6-%E3%83%9B%E3%83%AB%E3%83%A2%E3%83%B3maximum-the-hormone-%E3%80%8C%EF%BD%86%E3%80%8Dlive\n"
          ]
        },
        {
          "name": "stderr",
          "output_type": "stream",
          "text": [
            "2024-05-31 23:17:04,139 - whois.whois - ERROR - Error trying to connect to socket: closing socket - [Errno 11001] getaddrinfo failed\n"
          ]
        },
        {
          "name": "stdout",
          "output_type": "stream",
          "text": [
            "Creation date or expiration date is missing.\n",
            "An error occurred: unsupported operand type(s) for -: 'NoneType' and 'datetime.datetime'\n",
            "Creation date or expiration date is missing.\n",
            "Timeout occurred while making the request to http://spankbang.com/563p/video/sexy+tranny+hooker+will+get+her+boobs+covered+of+sperm\n",
            "An error occurred: unsupported operand type(s) for -: 'NoneType' and 'datetime.datetime'\n",
            "Creation date or expiration date is missing.\n",
            "An error occurred: unsupported operand type(s) for -: 'NoneType' and 'datetime.datetime'\n",
            "Timeout occurred while making the request to http://bestblackhatforum.com/Thread-Paulie-Ciara-s-Weekly-Backlink-Packet-4-6-15?action=newpost\n",
            "Timeout occurred while making the request to http://katproxy.com/avicii-ultra-music-festival-2015-2015-mp3-320kbps-h4ckus-glodls-t10627226.html\n",
            "Creation date or expiration date is missing.\n",
            "An error occurred: unsupported operand type(s) for -: 'NoneType' and 'datetime.datetime'\n"
          ]
        },
        {
          "name": "stderr",
          "output_type": "stream",
          "text": [
            "2024-05-31 23:17:34,867 - whois.whois - ERROR - Error trying to connect to socket: closing socket - [Errno 11001] getaddrinfo failed\n"
          ]
        },
        {
          "name": "stdout",
          "output_type": "stream",
          "text": [
            "Timeout occurred while making the request to http://depositphotos.com/login.html?url=%2F70267863%2Fstock-photo-creativity-team-working-together.html\n"
          ]
        },
        {
          "name": "stderr",
          "output_type": "stream",
          "text": [
            "2024-05-31 23:17:39,392 - whois.whois - ERROR - Error trying to connect to socket: closing socket - [Errno 11001] getaddrinfo failed\n"
          ]
        },
        {
          "name": "stdout",
          "output_type": "stream",
          "text": [
            "Creation date or expiration date is missing.\n",
            "An error occurred: unsupported operand type(s) for -: 'NoneType' and 'datetime.datetime'\n"
          ]
        },
        {
          "name": "stderr",
          "output_type": "stream",
          "text": [
            "2024-05-31 23:17:56,966 - whois.whois - ERROR - Error trying to connect to socket: closing socket - [Errno 11001] getaddrinfo failed\n",
            "2024-05-31 23:17:57,393 - whois.whois - ERROR - Error trying to connect to socket: closing socket - [WinError 10061] No connection could be made because the target machine actively refused it\n",
            "2024-05-31 23:17:57,619 - whois.whois - ERROR - Error trying to connect to socket: closing socket - [Errno 11001] getaddrinfo failed\n"
          ]
        },
        {
          "name": "stdout",
          "output_type": "stream",
          "text": [
            "Timeout occurred while making the request to http://xhamster.com/movies/4582404/nozomi_nishiyama_seems_horny_and_eager_to_play_solo.html\n",
            "Timeout occurred while making the request to http://zozo.jp/shop/bapeland/?price=proper&p_ssy=2015&p_ssm=5&p_ssd=13&p_sey=2015&p_sem=5&p_sed=13&dstk=2\n",
            "Timeout occurred while making the request to http://1337x.to/torrent/318051/American-Idol-S11E21-10-Finalists-Compete-HDTV-XviD-FQM-ettv/\n",
            "Creation date or expiration date is missing.\n",
            "Timeout occurred while making the request to http://b9dm.com/index.php/video/index.php/video/show/cid/56/order/video/video/index.php/video/show/cid/56/order/video/show\n",
            "An error occurred: unsupported operand type(s) for -: 'NoneType' and 'datetime.datetime'\n",
            "Timeout occurred while making the request to http://allrecipes.com/recipes/everyday-cooking/seasonal/spring/fruits-and-vegetables/?src=mer1245\n",
            "Timeout occurred while making the request to http://katproxy.com/search/playgirls%20%EF%BD%9E%E6%B3%A2%E5%A4%9A%E9%87%8E%E7%B5%90%E8%A1%A3%20./\n",
            "An error occurred: unsupported operand type(s) for -: 'str' and 'str'\n",
            "An error occurred: unsupported operand type(s) for -: 'str' and 'datetime.datetime'\n",
            "Timeout occurred while making the request to http://xhamster.com/movies/4581097/kicked_in_the_balls_by_mistress_carmen_valentina.html?s=3\n",
            "Have At Sign\n",
            "Timeout occurred while making the request to http://katproxy.com/horriblesubs-shigatsu-wa-kimi-no-uso-22-720p-mkv-t10376403.html\n",
            "Creation date or expiration date is missing.\n",
            "Timeout occurred while making the request to http://depositphotos.com/login.html?url=%2F6140489%2Fstock-photo-father-and-son-having-a.html\n",
            "An error occurred: unsupported operand type(s) for -: 'NoneType' and 'datetime.datetime'\n"
          ]
        },
        {
          "name": "stderr",
          "output_type": "stream",
          "text": [
            "2024-05-31 23:18:39,127 - whois.whois - ERROR - Error trying to connect to socket: closing socket - [Errno 11001] getaddrinfo failed\n"
          ]
        },
        {
          "name": "stdout",
          "output_type": "stream",
          "text": [
            "Timeout occurred while making the request to http://buzzfil.net/article/5650/non-classe/voici-un-film-qui-montrent-parfaitement-notre-addiction-a-nos-smartphones-2.html?href=inner_website\n",
            "Timeout occurred while making the request to http://olx.co.id/bengkulu/q-%7Bq%7D/?utm_source=google&utm_medium=search&utm_campaign=search_organic\n"
          ]
        },
        {
          "name": "stderr",
          "output_type": "stream",
          "text": [
            "2024-05-31 23:18:47,703 - whois.whois - ERROR - Error trying to connect to socket: closing socket - [Errno 11001] getaddrinfo failed\n"
          ]
        },
        {
          "name": "stdout",
          "output_type": "stream",
          "text": [
            "Creation date or expiration date is missing.\n",
            "Timeout occurred while making the request to http://buzzfil.net/article/5373/buzz/porsche-vs-koenigsegg-une-course-a-350-kmh-sur-une-autoroute-allemande-1.html?href=inner_website\n",
            "An error occurred: unsupported operand type(s) for -: 'NoneType' and 'datetime.datetime'\n"
          ]
        },
        {
          "name": "stderr",
          "output_type": "stream",
          "text": [
            "2024-05-31 23:18:51,249 - whois.whois - ERROR - Error trying to connect to socket: closing socket - [Errno 11001] getaddrinfo failed\n",
            "2024-05-31 23:18:52,233 - whois.whois - ERROR - Error trying to connect to socket: closing socket - [Errno 11001] getaddrinfo failed\n"
          ]
        },
        {
          "name": "stdout",
          "output_type": "stream",
          "text": [
            "Timeout occurred while making the request to http://yourlust.com/videos/marvin-from-columbia-buy-prostitute-and-she-give-shim-blowjob.html\n",
            "Creation date or expiration date is missing.\n",
            "An error occurred: unsupported operand type(s) for -: 'NoneType' and 'datetime.datetime'\n",
            "Creation date or expiration date is missing.\n",
            "An error occurred: unsupported operand type(s) for -: 'NoneType' and 'datetime.datetime'\n"
          ]
        },
        {
          "name": "stderr",
          "output_type": "stream",
          "text": [
            "2024-05-31 23:19:00,788 - whois.whois - ERROR - Error trying to connect to socket: closing socket - [Errno 11001] getaddrinfo failed\n",
            "2024-05-31 23:19:01,658 - whois.whois - ERROR - Error trying to connect to socket: closing socket - [Errno 11001] getaddrinfo failed\n"
          ]
        },
        {
          "name": "stdout",
          "output_type": "stream",
          "text": [
            "Timeout occurred while making the request to http://motherless.com/login?back=%252Fcredits%252Fsend%253Fu%253Dpeacedude2%2526back%253Dhttp%253A%252F%252Fmotherless.com%252Fm%252Fpeacedude2\n"
          ]
        },
        {
          "name": "stderr",
          "output_type": "stream",
          "text": [
            "2024-05-31 23:19:02,575 - whois.whois - ERROR - Error trying to connect to socket: closing socket - [Errno 11001] getaddrinfo failed\n",
            "2024-05-31 23:19:04,786 - whois.whois - ERROR - Error trying to connect to socket: closing socket - [Errno 11001] getaddrinfo failed\n"
          ]
        },
        {
          "name": "stdout",
          "output_type": "stream",
          "text": [
            "Timeout occurred while making the request to http://olx.co.id/i2/elektronik-gadget/tablet/samsung/elektronik-gadget/tablet/samsung\n"
          ]
        },
        {
          "name": "stderr",
          "output_type": "stream",
          "text": [
            "2024-05-31 23:19:05,970 - whois.whois - ERROR - Error trying to connect to socket: closing socket - [Errno 11001] getaddrinfo failed\n",
            "2024-05-31 23:19:07,323 - whois.whois - ERROR - Error trying to connect to socket: closing socket - [Errno 11001] getaddrinfo failed\n",
            "2024-05-31 23:19:14,527 - whois.whois - ERROR - Error trying to connect to socket: closing socket - [Errno 11001] getaddrinfo failed\n"
          ]
        },
        {
          "name": "stdout",
          "output_type": "stream",
          "text": [
            "Timeout occurred while making the request to http://livetv.sx/bg/lenta/35231_oficialno_lk_obavi_pred_sportalbg_koga_she_kazhe_dali_cska_i_levski_vzimat_licenz/\n",
            "Creation date or expiration date is missing.\n",
            "An error occurred: unsupported operand type(s) for -: 'NoneType' and 'datetime.datetime'\n"
          ]
        },
        {
          "name": "stderr",
          "output_type": "stream",
          "text": [
            "2024-05-31 23:19:24,633 - whois.whois - ERROR - Error trying to connect to socket: closing socket - [Errno 11001] getaddrinfo failed\n"
          ]
        },
        {
          "name": "stdout",
          "output_type": "stream",
          "text": [
            "Creation date or expiration date is missing.\n",
            "An error occurred: unsupported operand type(s) for -: 'NoneType' and 'datetime.datetime'\n",
            "Timeout occurred while making the request to http://katproxy.com/digitalplayground-15-05-13-farrah-flower-flixxx-engine-trouble-xxx-imageset-ohrly-rarbg-t10642638.html\n",
            "Timeout occurred while making the request to http://xhamster.com/movies/4580783/fat_white_bbc_slut_hog_bitch_named_sherry_i_met_on_meetme.html\n"
          ]
        },
        {
          "name": "stderr",
          "output_type": "stream",
          "text": [
            "2024-05-31 23:19:39,279 - whois.whois - ERROR - Error trying to connect to socket: closing socket - [WinError 10061] No connection could be made because the target machine actively refused it\n",
            "2024-05-31 23:19:40,420 - whois.whois - ERROR - Error trying to connect to socket: closing socket - [WinError 10061] No connection could be made because the target machine actively refused it\n"
          ]
        },
        {
          "name": "stdout",
          "output_type": "stream",
          "text": [
            "Timeout occurred while making the request to http://oneplus.net/support/answer/can-we-purchase-add-ons-during-the-repair-process\n",
            "Creation date or expiration date is missing.\n",
            "An error occurred: unsupported operand type(s) for -: 'NoneType' and 'datetime.datetime'\n"
          ]
        },
        {
          "name": "stderr",
          "output_type": "stream",
          "text": [
            "2024-05-31 23:19:44,311 - whois.whois - ERROR - Error trying to connect to socket: closing socket - [Errno 11001] getaddrinfo failed\n"
          ]
        },
        {
          "name": "stdout",
          "output_type": "stream",
          "text": [
            "Timeout occurred while making the request to http://kickass.to/drake-if-you-re-reading-this-it-s-too-late-chattchitto-rg-t10220445.html\n",
            "Timeout occurred while making the request to http://kickass.to/vmware-workstation-11-1-0-build-2496824-x64-eng-serial-at-team-t10626831.html\n",
            "An error occurred: unsupported operand type(s) for -: 'str' and 'str'\n",
            "An error occurred: unsupported operand type(s) for -: 'str' and 'str'\n",
            "An error occurred: unsupported operand type(s) for -: 'str' and 'datetime.datetime'\n",
            "An error occurred: unsupported operand type(s) for -: 'str' and 'datetime.datetime'\n",
            "Timeout occurred while making the request to http://olx.co.id/i2/jasa-lowongan-kerja/jasa/jasa-jahit/jasa-lowongan-kerja/jasa/jasa-jahit\n",
            "An error occurred: unsupported operand type(s) for -: 'str' and 'str'\n",
            "An error occurred: unsupported operand type(s) for -: 'str' and 'datetime.datetime'\n",
            "Timeout occurred while making the request to http://depositphotos.com/login.html?url=%2F13913122%2Fstock-video-golden-retriever-fetching-stick-on.html\n",
            "An error occurred: unsupported operand type(s) for -: 'str' and 'str'\n",
            "Creation date or expiration date is missing.\n",
            "An error occurred: unsupported operand type(s) for -: 'NoneType' and 'datetime.datetime'\n",
            "An error occurred: unsupported operand type(s) for -: 'str' and 'datetime.datetime'\n",
            "Timeout occurred while making the request to http://buzzfil.net/article/5652/non-classe/il-est-vire-a-vie-de-la-compagnie-aerienne-apres-avoir-exhibe-son-tatouage-intime-dans-l-avion-9.html?href=inner_website\n",
            "Creation date or expiration date is missing.\n",
            "An error occurred: unsupported operand type(s) for -: 'NoneType' and 'datetime.datetime'\n"
          ]
        },
        {
          "name": "stderr",
          "output_type": "stream",
          "text": [
            "2024-05-31 23:20:08,508 - whois.whois - ERROR - Error trying to connect to socket: closing socket - [WinError 10061] No connection could be made because the target machine actively refused it\n",
            "2024-05-31 23:20:10,897 - whois.whois - ERROR - Error trying to connect to socket: closing socket - timed out\n"
          ]
        },
        {
          "name": "stdout",
          "output_type": "stream",
          "text": [
            "An error occurred: [WinError 10054] An existing connection was forcibly closed by the remote host\n"
          ]
        },
        {
          "name": "stderr",
          "output_type": "stream",
          "text": [
            "2024-05-31 23:20:15,928 - whois.whois - ERROR - Error trying to connect to socket: closing socket - [Errno 11001] getaddrinfo failed\n",
            "2024-05-31 23:20:16,432 - whois.whois - ERROR - Error trying to connect to socket: closing socket - [Errno 11001] getaddrinfo failed\n"
          ]
        },
        {
          "name": "stdout",
          "output_type": "stream",
          "text": [
            "Creation date or expiration date is missing.\n",
            "An error occurred: unsupported operand type(s) for -: 'NoneType' and 'datetime.datetime'\n",
            "Timeout occurred while making the request to http://zozo.jp/shop/b2ndrequa/?price=proper&p_ssy=2015&p_ssm=5&p_ssd=13&p_sey=2015&p_sem=5&p_sed=13&dstk=2\n"
          ]
        },
        {
          "name": "stderr",
          "output_type": "stream",
          "text": [
            "2024-05-31 23:20:33,240 - whois.whois - ERROR - Error trying to connect to socket: closing socket - [Errno 11001] getaddrinfo failed\n"
          ]
        },
        {
          "name": "stdout",
          "output_type": "stream",
          "text": [
            "An error occurred:    Domain Name: TORRENTDN.COM\n",
            "   Registry Domain ID: 1912725307_DOMAIN_COM-VRSN\n",
            "   Registrar WHOIS Server: whois.wildwestdomains.com\n",
            "   Registrar URL: http://www.wildwestdomains.com\n",
            "   Updated Date: 2024-05-05T07:34:30Z\n",
            "   Creation Date: 2015-03-24T07:05:16Z\n",
            "   Registry Expiry Date: 2024-03-24T07:05:16Z\n",
            "   Registrar: Wild West Domains, LLC\n",
            "   Registrar IANA ID: 440\n",
            "   Registrar Abuse Contact Email: abuse@wildwestdomains.com\n",
            "   Registrar Abuse Contact Phone: 480-624-2505\n",
            "   Domain Status: redemptionPeriod https://icann.org/epp#redemptionPeriod\n",
            "   DNSSEC: unsigned\n",
            "   URL of the ICANN Whois Inaccuracy Complaint Form: https://www.icann.org/wicf/\n",
            ">>> Last update of whois database: 2024-05-31T17:50:29Z <<<\n",
            "\n",
            "For more information on Whois status codes, please visit https://icann.org/epp\n",
            "\n",
            "NOTICE: The expiration date displayed in this record is the date the\n",
            "registrar's sponsorship of the domain name registration in the registry is\n",
            "currently set to expire. This date does not necessarily reflect the expiration\n",
            "date of the domain name registrant's agreement with the sponsoring\n",
            "registrar.  Users may consult the sponsoring registrar's Whois database to\n",
            "view the registrar's reported date of expiration for this registration.\n",
            "\n",
            "TERMS OF USE: You are not authorized to access or query our Whois\n",
            "database through the use of electronic processes that are high-volume and\n",
            "automated except as reasonably necessary to register domain names or\n",
            "modify existing registrations; the Data in VeriSign Global Registry\n",
            "Services' (\"VeriSign\") Whois database is provided by VeriSign for\n",
            "information purposes only, and to assist persons in obtaining information\n",
            "about or related to a domain name registration record. VeriSign does not\n",
            "guarantee its accuracy. By submitting a Whois query, you agree to abide\n",
            "by the following terms of use: You agree that you may use this Data only\n",
            "for lawful purposes and that under no circumstances will you use this Data\n",
            "to: (1) allow, enable, or otherwise support the transmission of mass\n",
            "unsolicited, commercial advertising or solicitations via e-mail, telephone,\n",
            "or facsimile; or (2) enable high volume, automated, electronic processes\n",
            "that apply to VeriSign (or its computer systems). The compilation,\n",
            "repackaging, dissemination or other use of this Data is expressly\n",
            "prohibited without the prior written consent of VeriSign. You agree not to\n",
            "use electronic processes that are automated and high-volume to access or\n",
            "query the Whois database except as reasonably necessary to register\n",
            "domain names or modify existing registrations. VeriSign reserves the right\n",
            "to restrict your access to the Whois database in its sole discretion to ensure\n",
            "operational stability.  VeriSign may restrict or terminate your access to the\n",
            "Whois database for failure to abide by these terms of use. VeriSign\n",
            "reserves the right to modify these terms at any time.\n",
            "\n",
            "The Registry database contains ONLY .COM, .NET, .EDU domains and\n",
            "Registrars.\n",
            "No match for \"torrentdn.com\" in the registrar database.\n",
            "\n",
            "Timeout occurred while making the request to http://oneplus.net/ca_en/support/answer/why-do-i-need-an-account-to-submit-a-ticket\n",
            "An error occurred:    Domain Name: TORRENTDN.COM\n",
            "   Registry Domain ID: 1912725307_DOMAIN_COM-VRSN\n",
            "   Registrar WHOIS Server: whois.wildwestdomains.com\n",
            "   Registrar URL: http://www.wildwestdomains.com\n",
            "   Updated Date: 2024-05-05T07:34:30Z\n",
            "   Creation Date: 2015-03-24T07:05:16Z\n",
            "   Registry Expiry Date: 2024-03-24T07:05:16Z\n",
            "   Registrar: Wild West Domains, LLC\n",
            "   Registrar IANA ID: 440\n",
            "   Registrar Abuse Contact Email: abuse@wildwestdomains.com\n",
            "   Registrar Abuse Contact Phone: 480-624-2505\n",
            "   Domain Status: redemptionPeriod https://icann.org/epp#redemptionPeriod\n",
            "   DNSSEC: unsigned\n",
            "   URL of the ICANN Whois Inaccuracy Complaint Form: https://www.icann.org/wicf/\n",
            ">>> Last update of whois database: 2024-05-31T17:50:29Z <<<\n",
            "\n",
            "For more information on Whois status codes, please visit https://icann.org/epp\n",
            "\n",
            "NOTICE: The expiration date displayed in this record is the date the\n",
            "registrar's sponsorship of the domain name registration in the registry is\n",
            "currently set to expire. This date does not necessarily reflect the expiration\n",
            "date of the domain name registrant's agreement with the sponsoring\n",
            "registrar.  Users may consult the sponsoring registrar's Whois database to\n",
            "view the registrar's reported date of expiration for this registration.\n",
            "\n",
            "TERMS OF USE: You are not authorized to access or query our Whois\n",
            "database through the use of electronic processes that are high-volume and\n",
            "automated except as reasonably necessary to register domain names or\n",
            "modify existing registrations; the Data in VeriSign Global Registry\n",
            "Services' (\"VeriSign\") Whois database is provided by VeriSign for\n",
            "information purposes only, and to assist persons in obtaining information\n",
            "about or related to a domain name registration record. VeriSign does not\n",
            "guarantee its accuracy. By submitting a Whois query, you agree to abide\n",
            "by the following terms of use: You agree that you may use this Data only\n",
            "for lawful purposes and that under no circumstances will you use this Data\n",
            "to: (1) allow, enable, or otherwise support the transmission of mass\n",
            "unsolicited, commercial advertising or solicitations via e-mail, telephone,\n",
            "or facsimile; or (2) enable high volume, automated, electronic processes\n",
            "that apply to VeriSign (or its computer systems). The compilation,\n",
            "repackaging, dissemination or other use of this Data is expressly\n",
            "prohibited without the prior written consent of VeriSign. You agree not to\n",
            "use electronic processes that are automated and high-volume to access or\n",
            "query the Whois database except as reasonably necessary to register\n",
            "domain names or modify existing registrations. VeriSign reserves the right\n",
            "to restrict your access to the Whois database in its sole discretion to ensure\n",
            "operational stability.  VeriSign may restrict or terminate your access to the\n",
            "Whois database for failure to abide by these terms of use. VeriSign\n",
            "reserves the right to modify these terms at any time.\n",
            "\n",
            "The Registry database contains ONLY .COM, .NET, .EDU domains and\n",
            "Registrars.\n",
            "No match for \"torrentdn.com\" in the registrar database.\n",
            "\n",
            "Timeout occurred while making the request to http://katproxy.com/community/show/what-tv-show-are-you-watching-right-now-v3/?unread=16468326\n",
            "An error occurred: unsupported operand type(s) for -: 'str' and 'str'\n",
            "An error occurred: unsupported operand type(s) for -: 'str' and 'datetime.datetime'\n",
            "An error occurred: unsupported operand type(s) for -: 'str' and 'str'\n",
            "An error occurred: unsupported operand type(s) for -: 'str' and 'datetime.datetime'\n"
          ]
        },
        {
          "name": "stderr",
          "output_type": "stream",
          "text": [
            "2024-05-31 23:20:48,125 - whois.whois - ERROR - Error trying to connect to socket: closing socket - [Errno 11001] getaddrinfo failed\n"
          ]
        },
        {
          "name": "stdout",
          "output_type": "stream",
          "text": [
            "Timeout occurred while making the request to http://olx.in/hi/item/2bhk-for-rent-in-grand-square-society-anand-nagar-g-b-road-IDWjzed.html\n"
          ]
        },
        {
          "name": "stderr",
          "output_type": "stream",
          "text": [
            "2024-05-31 23:20:54,216 - whois.whois - ERROR - Error trying to connect to socket: closing socket - [Errno 11001] getaddrinfo failed\n",
            "2024-05-31 23:20:56,396 - whois.whois - ERROR - Error trying to connect to socket: closing socket - [Errno 11001] getaddrinfo failed\n"
          ]
        },
        {
          "name": "stdout",
          "output_type": "stream",
          "text": [
            "Have At Sign\n",
            "An error occurred: unsupported operand type(s) for -: 'str' and 'str'\n",
            "An error occurred: unsupported operand type(s) for -: 'str' and 'datetime.datetime'\n",
            "An error occurred: unsupported operand type(s) for -: 'str' and 'str'\n",
            "An error occurred: unsupported operand type(s) for -: 'str' and 'datetime.datetime'\n",
            "Creation date or expiration date is missing.\n",
            "An error occurred: unsupported operand type(s) for -: 'NoneType' and 'datetime.datetime'\n",
            "An error occurred: unsupported operand type(s) for -: 'str' and 'str'\n",
            "An error occurred: unsupported operand type(s) for -: 'str' and 'datetime.datetime'\n"
          ]
        },
        {
          "name": "stderr",
          "output_type": "stream",
          "text": [
            "2024-05-31 23:21:10,842 - whois.whois - ERROR - Error trying to connect to socket: closing socket - [Errno 11001] getaddrinfo failed\n",
            "2024-05-31 23:21:13,745 - whois.whois - ERROR - Error trying to connect to socket: closing socket - timed out\n"
          ]
        },
        {
          "name": "stdout",
          "output_type": "stream",
          "text": [
            "Creation date or expiration date is missing.\n"
          ]
        },
        {
          "name": "stderr",
          "output_type": "stream",
          "text": [
            "2024-05-31 23:21:14,220 - whois.whois - ERROR - Error trying to connect to socket: closing socket - [WinError 10061] No connection could be made because the target machine actively refused it\n"
          ]
        },
        {
          "name": "stdout",
          "output_type": "stream",
          "text": [
            "An error occurred: unsupported operand type(s) for -: 'str' and 'str'\n",
            "An error occurred: unsupported operand type(s) for -: 'str' and 'datetime.datetime'\n",
            "Timeout occurred while making the request to http://xhamster.com/movies/4580394/hdvpass_jennifer_white_has_her_asshole_cranked.html\n",
            "Timeout occurred while making the request to http://kickass.to/euro-truck-simulator-2-v1-16-2s-20-dlc-2015-2-click-run-t10148570.html\n",
            "Timeout occurred while making the request to http://xhamster.com/movies/4578276/my_plastic_cock_is_going_straight_up_your_virgin_ass.html\n",
            "An error occurred: unsupported operand type(s) for -: 'str' and 'str'\n",
            "An error occurred: unsupported operand type(s) for -: 'str' and 'datetime.datetime'\n"
          ]
        },
        {
          "name": "stderr",
          "output_type": "stream",
          "text": [
            "2024-05-31 23:21:32,696 - whois.whois - ERROR - Error trying to connect to socket: closing socket - [WinError 10061] No connection could be made because the target machine actively refused it\n"
          ]
        },
        {
          "name": "stdout",
          "output_type": "stream",
          "text": [
            "Timeout occurred while making the request to http://spankbang.com/56af/video/bitch+wives+first+interracial+orgy+at+swinger+party\n"
          ]
        },
        {
          "name": "stderr",
          "output_type": "stream",
          "text": [
            "2024-05-31 23:21:39,110 - whois.whois - ERROR - Error trying to connect to socket: closing socket - timed out\n"
          ]
        },
        {
          "name": "stdout",
          "output_type": "stream",
          "text": [
            "An error occurred: unsupported operand type(s) for -: 'NoneType' and 'datetime.datetime'\n",
            "Creation date or expiration date is missing.\n",
            "Timeout occurred while making the request to http://moviepilot.com/posts/2015/05/12/the-joker-will-appear-in-gotham-season-2-2927538\n",
            "An error occurred: unsupported operand type(s) for -: 'NoneType' and 'datetime.datetime'\n"
          ]
        },
        {
          "name": "stderr",
          "output_type": "stream",
          "text": [
            "2024-05-31 23:21:42,297 - whois.whois - ERROR - Error trying to connect to socket: closing socket - [WinError 10054] An existing connection was forcibly closed by the remote host\n",
            "2024-05-31 23:21:42,318 - whois.whois - ERROR - Error trying to connect to socket: closing socket - [Errno 11001] getaddrinfo failed\n"
          ]
        },
        {
          "name": "stdout",
          "output_type": "stream",
          "text": [
            "Creation date or expiration date is missing.\n",
            "Timeout occurred while making the request to http://buzzfil.net/article/5667/non-classe/10-prenoms-de-mecs-les-plus-nuls-en-drague-9.html?href=inner_website\n",
            "Timeout occurred while making the request to http://1337x.to/torrent/954121/Marvels-Agents-of-S-H-I-E-L-D-S02E03-HDTV-x264-KILLERS-ettv/\n",
            "An error occurred: unsupported operand type(s) for -: 'str' and 'str'\n",
            "An error occurred: unsupported operand type(s) for -: 'str' and 'datetime.datetime'\n",
            "Have At Sign\n",
            "Creation date or expiration date is missing.\n"
          ]
        },
        {
          "name": "stderr",
          "output_type": "stream",
          "text": [
            "2024-05-31 23:21:52,066 - whois.whois - ERROR - Error trying to connect to socket: closing socket - [Errno 11001] getaddrinfo failed\n"
          ]
        },
        {
          "name": "stdout",
          "output_type": "stream",
          "text": [
            "An error occurred: unsupported operand type(s) for -: 'NoneType' and 'datetime.datetime'\n",
            "Timeout occurred while making the request to http://olx.co.id/sumatera-utara/q-%7Bq%7D/?utm_source=google&utm_medium=search&utm_campaign=search_organic\n",
            "Timeout occurred while making the request to http://katproxy.com/drake-if-you-re-reading-this-it-s-too-late-chattchitto-rg-t10220445.html\n"
          ]
        },
        {
          "name": "stderr",
          "output_type": "stream",
          "text": [
            "2024-05-31 23:21:55,843 - whois.whois - ERROR - Error trying to connect to socket: closing socket - [Errno 11001] getaddrinfo failed\n"
          ]
        },
        {
          "name": "stdout",
          "output_type": "stream",
          "text": [
            "Creation date or expiration date is missing.\n",
            "An error occurred: unsupported operand type(s) for -: 'NoneType' and 'datetime.datetime'\n"
          ]
        },
        {
          "name": "stderr",
          "output_type": "stream",
          "text": [
            "2024-05-31 23:22:03,727 - whois.whois - ERROR - Error trying to connect to socket: closing socket - [Errno 11001] getaddrinfo failed\n"
          ]
        },
        {
          "name": "stdout",
          "output_type": "stream",
          "text": [
            "Timeout occurred while making the request to http://kenh14.vn/2-tek/bi-kip-phan-biet-that-gia-o-nhung-san-pham-cong-nghe-20131231113103.chn\n",
            "An error occurred: unsupported operand type(s) for -: 'str' and 'str'\n"
          ]
        },
        {
          "name": "stderr",
          "output_type": "stream",
          "text": [
            "2024-05-31 23:22:13,373 - whois.whois - ERROR - Error trying to connect to socket: closing socket - [WinError 10061] No connection could be made because the target machine actively refused it\n"
          ]
        },
        {
          "name": "stdout",
          "output_type": "stream",
          "text": [
            "An error occurred: unsupported operand type(s) for -: 'str' and 'datetime.datetime'\n"
          ]
        },
        {
          "name": "stderr",
          "output_type": "stream",
          "text": [
            "2024-05-31 23:22:19,495 - whois.whois - ERROR - Error trying to connect to socket: closing socket - [WinError 10061] No connection could be made because the target machine actively refused it\n",
            "2024-05-31 23:22:22,597 - whois.whois - ERROR - Error trying to connect to socket: closing socket - [Errno 11001] getaddrinfo failed\n"
          ]
        },
        {
          "name": "stdout",
          "output_type": "stream",
          "text": [
            "An error occurred: unsupported operand type(s) for -: 'str' and 'str'\n",
            "An error occurred: unsupported operand type(s) for -: 'str' and 'datetime.datetime'\n",
            "Timeout occurred while making the request to http://1337x.to/torrent/1142541/AVENGERS-AGE-OF-ULTRON-2015-EnG-CAMRip-x264-AAC-1CDRip-TeamTelly/\n",
            "Timeout occurred while making the request to http://zozo.jp/shop/barnyardstorm/?price=proper&p_ssy=2015&p_ssm=5&p_ssd=13&p_sey=2015&p_sem=5&p_sed=13&dstk=2\n",
            "Timeout occurred while making the request to http://olx.in/hi/rajasthan/q-%7Bq%7D/?utm_source=google&utm_medium=search&utm_campaign=search_organic\n",
            "An error occurred: unsupported operand type(s) for -: 'str' and 'str'\n",
            "Timeout occurred while making the request to http://kickass.to/malwarebytes-anti-malware-premium-2-0-2-1012-final-keys-atom-t9133459.html\n",
            "An error occurred: unsupported operand type(s) for -: 'str' and 'datetime.datetime'\n",
            "An error occurred: unsupported operand type(s) for -: 'str' and 'str'\n",
            "An error occurred: unsupported operand type(s) for -: 'str' and 'datetime.datetime'\n",
            "Timeout occurred while making the request to http://depositphotos.com/search.html?st=0&image=1&vector=0&video=0&sorting=best_match&editorial_only=1&editorial_exclude=0&orientation=all&search_size=all&limit=60&nudity=0&query=school\n",
            "An error occurred: unsupported operand type(s) for -: 'str' and 'str'\n"
          ]
        },
        {
          "name": "stderr",
          "output_type": "stream",
          "text": [
            "2024-05-31 23:22:44,085 - whois.whois - ERROR - Error trying to connect to socket: closing socket - [WinError 10061] No connection could be made because the target machine actively refused it\n"
          ]
        },
        {
          "name": "stdout",
          "output_type": "stream",
          "text": [
            "An error occurred: unsupported operand type(s) for -: 'str' and 'datetime.datetime'\n",
            "Creation date or expiration date is missing.\n",
            "Timeout occurred while making the request to http://bestblackhatforum.com/Thread-SELL-Complete-Weight-Loss-Sales-Funnel-generating-780-month?action=lastpost\n",
            "An error occurred: unsupported operand type(s) for -: 'NoneType' and 'datetime.datetime'\n",
            "Creation date or expiration date is missing.\n",
            "An error occurred: unsupported operand type(s) for -: 'NoneType' and 'datetime.datetime'\n",
            "Timeout occurred while making the request to http://9gag.tv/p/aKjXXg/blind-man-dropped-wallet-if-people-would-steal-it-stunning-social-experiment\n",
            "Have At Sign\n",
            "Timeout occurred while making the request to http://olx.in/hi/orissa/q-%7Bq%7D/?utm_source=google&utm_medium=search&utm_campaign=search_organic\n"
          ]
        },
        {
          "name": "stderr",
          "output_type": "stream",
          "text": [
            "2024-05-31 23:22:53,951 - whois.whois - ERROR - Error trying to connect to socket: closing socket - [Errno 11001] getaddrinfo failed\n"
          ]
        },
        {
          "name": "stdout",
          "output_type": "stream",
          "text": [
            "Timeout occurred while making the request to http://kickass.to/the-coasters-50-coastin-classics-1992-flac-vtwin88cube-t10641507.html\n",
            "Timeout occurred while making the request to http://bestblackhatforum.com/Thread-%E2%99%9B%E2%96%BA%E2%96%91-HOT-Group-Buy-%E2%96%91%E2%97%84%E2%99%9B-Press-Advantage-%E2%80%93-With-Unlimited-Press-Releases?action=lastpost\n",
            "Timeout occurred while making the request to http://oneplus.net/ca_en/can-i-change-my-charger-to-a-u-s-europe-u-k-one-in-my-order\n",
            "An error occurred: unsupported operand type(s) for -: 'str' and 'str'\n",
            "An error occurred: unsupported operand type(s) for -: 'str' and 'datetime.datetime'\n",
            "Timeout occurred while making the request to http://bestblackhatforum.com/Thread-85M-Email-Addresses-Adobe-List-Address-Verification\n"
          ]
        },
        {
          "name": "stderr",
          "output_type": "stream",
          "text": [
            "2024-05-31 23:23:19,765 - whois.whois - ERROR - Error trying to connect to socket: closing socket - [Errno 11001] getaddrinfo failed\n"
          ]
        },
        {
          "name": "stdout",
          "output_type": "stream",
          "text": [
            "Creation date or expiration date is missing.\n",
            "An error occurred: unsupported operand type(s) for -: 'NoneType' and 'datetime.datetime'\n",
            "Timeout occurred while making the request to http://otomoto.pl/osobowe/jeep/grand-cherokee/ii-1999-2004/JOcK7gzdoyrcIT2176iLzhCz8UoPOGcT6Y1ax8FNTPf.l7\n",
            "Timeout occurred while making the request to http://katproxy.com/community/show/torrents-need-category-change-post-here-super-users-translat/?post=16467939\n"
          ]
        },
        {
          "name": "stderr",
          "output_type": "stream",
          "text": [
            "2024-05-31 23:23:33,775 - whois.whois - ERROR - Error trying to connect to socket: closing socket - [Errno 11001] getaddrinfo failed\n",
            "2024-05-31 23:23:37,089 - whois.whois - ERROR - Error trying to connect to socket: closing socket - [Errno 11001] getaddrinfo failed\n"
          ]
        },
        {
          "name": "stdout",
          "output_type": "stream",
          "text": [
            "Creation date or expiration date is missing.\n",
            "An error occurred: unsupported operand type(s) for -: 'NoneType' and 'datetime.datetime'\n",
            "Timeout occurred while making the request to https://chaturbate.com/tipping/spy_on_private_show_tokens_per_minute/allissonhotbb/\n",
            "Timeout occurred while making the request to http://bestblackhatforum.com/Thread-Private-Skype-Group-Cpalead-AdworkMedia-Cpagrip?action=lastpost\n"
          ]
        },
        {
          "name": "stderr",
          "output_type": "stream",
          "text": [
            "2024-05-31 23:23:45,343 - whois.whois - ERROR - Error trying to connect to socket: closing socket - [WinError 10061] No connection could be made because the target machine actively refused it\n",
            "2024-05-31 23:23:47,288 - whois.whois - ERROR - Error trying to connect to socket: closing socket - [Errno 11001] getaddrinfo failed\n"
          ]
        },
        {
          "name": "stdout",
          "output_type": "stream",
          "text": [
            "Have At Sign\n",
            "Timeout occurred while making the request to http://olx.co.id/i2/elektronik-gadget/komputer/aksesoris/elektronik-gadget/komputer/aksesoris\n"
          ]
        },
        {
          "name": "stderr",
          "output_type": "stream",
          "text": [
            "2024-05-31 23:23:52,092 - whois.whois - ERROR - Error trying to connect to socket: closing socket - [WinError 10061] No connection could be made because the target machine actively refused it\n"
          ]
        },
        {
          "name": "stdout",
          "output_type": "stream",
          "text": [
            "Timeout occurred while making the request to http://yourlust.com/videos/sexy-asian-tattooed-girl-gives-nuru-massage-to-one-young-man.html\n",
            "Timeout occurred while making the request to http://depositphotos.com/search.html?st=0&image=1&vector=0&video=0&sorting=best_match&editorial_only=1&editorial_exclude=0&orientation=all&search_size=all&limit=60&nudity=0&query=tennis\n",
            "Timeout occurred while making the request to http://1337x.to/torrent/1154745/American-Sniper-2014-BRrip-XviD-Italian-English-Ac3-5-1-Sub-Ita-Eng-NUIta-MIRCrew/\n",
            "Timeout occurred while making the request to http://buzzfil.net/article/5586/animaux/voici-une-compilation-qui-montre-que-les-chats-sont-de-vrais-petits-diables-2.html?href=inner_website\n",
            "Timeout occurred while making the request to http://1337x.to/torrent/1160984/Fast-and-Furious-7-2015-720p-HDRip-x264-Dual-Audio-Hindi-English/\n"
          ]
        },
        {
          "name": "stderr",
          "output_type": "stream",
          "text": [
            "2024-05-31 23:24:05,597 - whois.whois - ERROR - Error trying to connect to socket: closing socket - [Errno 11001] getaddrinfo failed\n"
          ]
        },
        {
          "name": "stdout",
          "output_type": "stream",
          "text": [
            "An error occurred: unsupported operand type(s) for -: 'str' and 'str'\n",
            "An error occurred: unsupported operand type(s) for -: 'str' and 'datetime.datetime'\n",
            "Timeout occurred while making the request to http://olx.co.id/i2/hobi-olahraga/handicrafts/barang-daur-ulang/hobi-olahraga/handicrafts/barang-daur-ulang\n",
            "Creation date or expiration date is missing.\n",
            "Creation date or expiration date is missing.\n",
            "An error occurred: unsupported operand type(s) for -: 'NoneType' and 'datetime.datetime'\n",
            "An error occurred: unsupported operand type(s) for -: 'NoneType' and 'datetime.datetime'\n",
            "Timeout occurred while making the request to http://katproxy.com/desktop-wallpapers-erotic-wallpaper-1050x1680-3328x4992-281pcs-2015-jpg-t10632392.html\n",
            "An error occurred: unsupported operand type(s) for -: 'str' and 'str'\n"
          ]
        },
        {
          "name": "stderr",
          "output_type": "stream",
          "text": [
            "2024-05-31 23:24:19,025 - whois.whois - ERROR - Error trying to connect to socket: closing socket - [WinError 10061] No connection could be made because the target machine actively refused it\n"
          ]
        },
        {
          "name": "stdout",
          "output_type": "stream",
          "text": [
            "An error occurred: unsupported operand type(s) for -: 'str' and 'datetime.datetime'\n",
            "Creation date or expiration date is missing.\n",
            "Timeout occurred while making the request to https://myspace.com/article/2015/5/5/tom-higgenson-tim-lopez-plain-white-ts-free-lunch-interview\n",
            "An error occurred: unsupported operand type(s) for -: 'NoneType' and 'datetime.datetime'\n",
            "Timeout occurred while making the request to http://buzzfil.net/m/show-art/20-tatouages-sous-forme-de-dentelle-tres-sensuelle-3.html\n",
            "An error occurred: unsupported operand type(s) for -: 'str' and 'str'\n",
            "Timeout occurred while making the request to http://xhamster.com/movies/4582073/sublime_french_milf_hard_analized_in_3way_for_her_casting.html\n",
            "An error occurred: unsupported operand type(s) for -: 'str' and 'datetime.datetime'\n",
            "Timeout occurred while making the request to http://1337x.to/torrent/1147246/Kingsman-The-Secret-Service-2014-480p-HDRip-HC-x264-AC3-CPG/\n"
          ]
        },
        {
          "name": "stderr",
          "output_type": "stream",
          "text": [
            "2024-05-31 23:24:33,129 - whois.whois - ERROR - Error trying to connect to socket: closing socket - [Errno 11001] getaddrinfo failed\n"
          ]
        },
        {
          "name": "stdout",
          "output_type": "stream",
          "text": [
            "Timeout occurred while making the request to http://olx.co.id/i2/hobi-olahraga/koleksi/kaset-piringan-hitam/hobi-olahraga/koleksi/kaset-piringan-hitam\n"
          ]
        },
        {
          "name": "stderr",
          "output_type": "stream",
          "text": [
            "2024-05-31 23:24:40,240 - whois.whois - ERROR - Error trying to connect to socket: closing socket - [Errno 11001] getaddrinfo failed\n",
            "2024-05-31 23:24:40,531 - whois.whois - ERROR - Error trying to connect to socket: closing socket - [Errno 11001] getaddrinfo failed\n",
            "2024-05-31 23:24:42,141 - whois.whois - ERROR - Error trying to connect to socket: closing socket - [WinError 10061] No connection could be made because the target machine actively refused it\n"
          ]
        },
        {
          "name": "stdout",
          "output_type": "stream",
          "text": [
            "An error occurred: unsupported operand type(s) for -: 'str' and 'str'\n",
            "An error occurred: unsupported operand type(s) for -: 'str' and 'datetime.datetime'\n",
            "Timeout occurred while making the request to http://buzzfil.net/article/5638/non-classe/il-cree-une-voiture-100-en-lego-de-l-exterieur-de-l-interieur-et-meme-le-moteur-3.html?href=inner_website\n"
          ]
        },
        {
          "name": "stderr",
          "output_type": "stream",
          "text": [
            "2024-05-31 23:24:47,251 - whois.whois - ERROR - Error trying to connect to socket: closing socket - [Errno 11001] getaddrinfo failed\n",
            "2024-05-31 23:24:52,159 - whois.whois - ERROR - Error trying to connect to socket: closing socket - [Errno 11001] getaddrinfo failed\n"
          ]
        },
        {
          "name": "stdout",
          "output_type": "stream",
          "text": [
            "Timeout occurred while making the request to http://buzzfil.net/m/show-art/ces-adorables-jumeaux-attaquent-leur-papa-qui-tente-de-les-filmer-3.html\n"
          ]
        },
        {
          "name": "stderr",
          "output_type": "stream",
          "text": [
            "2024-05-31 23:25:04,500 - whois.whois - ERROR - Error trying to connect to socket: closing socket - timed out\n"
          ]
        },
        {
          "name": "stdout",
          "output_type": "stream",
          "text": [
            "An error occurred: unsupported operand type(s) for -: 'NoneType' and 'datetime.datetime'\n"
          ]
        },
        {
          "name": "stderr",
          "output_type": "stream",
          "text": [
            "2024-05-31 23:25:08,835 - whois.whois - ERROR - Error trying to connect to socket: closing socket - [WinError 10061] No connection could be made because the target machine actively refused it\n",
            "2024-05-31 23:25:12,422 - whois.whois - ERROR - Error trying to connect to socket: closing socket - [Errno 11001] getaddrinfo failed\n",
            "2024-05-31 23:25:12,665 - whois.whois - ERROR - Error trying to connect to socket: closing socket - timed out\n"
          ]
        },
        {
          "name": "stdout",
          "output_type": "stream",
          "text": [
            "Timeout occurred while making the request to http://maybank2u.com.my/mbb_info/m2u/public/etiqaProgram01.do?channelId=eINS02.02-Travel&chCatId=/mbb/Personal/eINS-Insurance/eINS02-FindPlan/eINS02.02-Travel\n",
            "Timeout occurred while making the request to http://moviepilot.com/posts/2015/05/13/can-you-bear-to-look-at-what-ed-gein-made-out-of-human-skin-and-bone-2929878\n",
            "Timeout occurred while making the request to http://1337x.to/torrent/1116812/Marvels-Agents-of-S-H-I-E-L-D-S02E15-HDTV-x264-ASAP-ettv/\n"
          ]
        },
        {
          "name": "stderr",
          "output_type": "stream",
          "text": [
            "2024-05-31 23:25:20,433 - whois.whois - ERROR - Error trying to connect to socket: closing socket - [Errno 11001] getaddrinfo failed\n"
          ]
        },
        {
          "name": "stdout",
          "output_type": "stream",
          "text": [
            "Timeout occurred while making the request to http://hdfcbank.com/personal/products/accounts-and-deposits/current-accounts/ultima-current-account\n"
          ]
        },
        {
          "name": "stderr",
          "output_type": "stream",
          "text": [
            "2024-05-31 23:25:29,740 - whois.whois - ERROR - Error trying to connect to socket: closing socket - [WinError 10061] No connection could be made because the target machine actively refused it\n"
          ]
        },
        {
          "name": "stdout",
          "output_type": "stream",
          "text": [
            "Timeout occurred while making the request to http://zozo.jp/shop/ambush/?price=proper&p_ssy=2015&p_ssm=5&p_ssd=13&p_sey=2015&p_sem=5&p_sed=13&dstk=2\n",
            "Timeout occurred while making the request to http://olx.co.id/i2/hobi-olahraga/hewan-peliharaan/makanan-aksesoris/hobi-olahraga/hewan-peliharaan/makanan-aksesoris\n",
            "An error occurred: unsupported operand type(s) for -: 'str' and 'str'\n",
            "An error occurred: unsupported operand type(s) for -: 'str' and 'datetime.datetime'\n"
          ]
        },
        {
          "name": "stderr",
          "output_type": "stream",
          "text": [
            "2024-05-31 23:25:35,452 - whois.whois - ERROR - Error trying to connect to socket: closing socket - [WinError 10061] No connection could be made because the target machine actively refused it\n"
          ]
        },
        {
          "name": "stdout",
          "output_type": "stream",
          "text": [
            "Timeout occurred while making the request to http://tune.pk/video/6051905/jumatul-mubarak-speech-topic-siddiq-e-akbar-17-04-2015-\n",
            "Creation date or expiration date is missing.\n",
            "An error occurred: unsupported operand type(s) for -: 'NoneType' and 'datetime.datetime'\n",
            "Timeout occurred while making the request to http://1337x.to/torrent/1160234/Udemy-This-Is-How-You-Make-iPhone-Apps-iOS-Development-Course/\n"
          ]
        },
        {
          "name": "stderr",
          "output_type": "stream",
          "text": [
            "2024-05-31 23:25:41,655 - whois.whois - ERROR - Error trying to connect to socket: closing socket - [Errno 11001] getaddrinfo failed\n"
          ]
        },
        {
          "name": "stdout",
          "output_type": "stream",
          "text": [
            "Timeout occurred while making the request to http://1337x.to/torrent/321484/American-Idol-S11E24-1-of-10-Voted-Off-HDTV-XviD-FQM-ettv/\n"
          ]
        },
        {
          "name": "stderr",
          "output_type": "stream",
          "text": [
            "2024-05-31 23:25:47,347 - whois.whois - ERROR - Error trying to connect to socket: closing socket - [Errno 11001] getaddrinfo failed\n",
            "2024-05-31 23:25:48,348 - whois.whois - ERROR - Error trying to connect to socket: closing socket - [Errno 11001] getaddrinfo failed\n",
            "2024-05-31 23:25:50,621 - whois.whois - ERROR - Error trying to connect to socket: closing socket - [Errno 11001] getaddrinfo failed\n",
            "2024-05-31 23:25:51,721 - whois.whois - ERROR - Error trying to connect to socket: closing socket - [WinError 10061] No connection could be made because the target machine actively refused it\n"
          ]
        },
        {
          "name": "stdout",
          "output_type": "stream",
          "text": [
            "Timeout occurred while making the request to http://depositphotos.com/24593413/stock-photo-pancake-with-berries-pancakes-stack.html\n",
            "Timeout occurred while making the request to http://kickass.to/desktop-wallpapers-miscellaneous-1680x1050-2560x1600-111pcs-2015-jpg-t10600359.html\n",
            "Timeout occurred while making the request to http://olx.in/hi/rss/q-%7Bq%7D/?utm_source=google&utm_medium=search&utm_campaign=search_organic\n"
          ]
        },
        {
          "name": "stderr",
          "output_type": "stream",
          "text": [
            "2024-05-31 23:26:14,698 - whois.whois - ERROR - Error trying to connect to socket: closing socket - [Errno 11001] getaddrinfo failed\n"
          ]
        },
        {
          "name": "stdout",
          "output_type": "stream",
          "text": [
            "Timeout occurred while making the request to http://maybank2u.com.my/mbb_info/m2u/public/etiqaContent01.do?cntTypeId=3&cntKey=eINS02.04.01.01&programId=eINS02.04.01-Below45&chCatId=/mbb/Personal/eINS-Insurance/eINS02-FindPlan/eINS02.04-PA\n",
            "Timeout occurred while making the request to http://depositphotos.com/48870295/stock-photo-female-photographer-travel-and-freedom.html\n",
            "Timeout occurred while making the request to http://depositphotos.com/login.html?url=%2F7911830%2Fstock-photo-public-space-in-bank-office.html\n"
          ]
        },
        {
          "name": "stderr",
          "output_type": "stream",
          "text": [
            "2024-05-31 23:26:27,163 - whois.whois - ERROR - Error trying to connect to socket: closing socket - timed out\n"
          ]
        },
        {
          "name": "stdout",
          "output_type": "stream",
          "text": [
            "An error occurred: unsupported operand type(s) for -: 'str' and 'str'\n",
            "An error occurred: unsupported operand type(s) for -: 'str' and 'datetime.datetime'\n",
            "Creation date or expiration date is missing.\n",
            "An error occurred: unsupported operand type(s) for -: 'NoneType' and 'datetime.datetime'\n",
            "Timeout occurred while making the request to http://depositphotos.com/login.html?url=%2F21313465%2Fstock-photo-tourists-on-camel.html\n",
            "Timeout occurred while making the request to http://distractify.com/post/related/id/541831a34a0c4be0088b63df/skip/40/limit/10/back/0\n"
          ]
        },
        {
          "name": "stderr",
          "output_type": "stream",
          "text": [
            "2024-05-31 23:26:48,550 - whois.whois - ERROR - Error trying to connect to socket: closing socket - [Errno 11001] getaddrinfo failed\n",
            "2024-05-31 23:26:51,412 - whois.whois - ERROR - Error trying to connect to socket: closing socket - [Errno 11001] getaddrinfo failed\n"
          ]
        },
        {
          "name": "stdout",
          "output_type": "stream",
          "text": [
            "Timeout occurred while making the request to http://olx.co.id/i2/hobi-olahraga/buku-majalah/lifestyle/hobi-olahraga/buku-majalah/lifestyle\n"
          ]
        },
        {
          "name": "stderr",
          "output_type": "stream",
          "text": [
            "2024-05-31 23:26:52,618 - whois.whois - ERROR - Error trying to connect to socket: closing socket - [Errno 11001] getaddrinfo failed\n",
            "2024-05-31 23:26:55,265 - whois.whois - ERROR - Error trying to connect to socket: closing socket - timed out\n"
          ]
        },
        {
          "name": "stdout",
          "output_type": "stream",
          "text": [
            "Creation date or expiration date is missing.\n",
            "Timeout occurred while making the request to http://motherless.com/credits/send?u=switches&back=http://motherless.com/m/switches\n"
          ]
        },
        {
          "name": "stderr",
          "output_type": "stream",
          "text": [
            "2024-05-31 23:26:59,010 - whois.whois - ERROR - Error trying to connect to socket: closing socket - [Errno 11001] getaddrinfo failed\n"
          ]
        },
        {
          "name": "stdout",
          "output_type": "stream",
          "text": [
            "Timeout occurred while making the request to http://kenh14.vn/2-tek/facebook-thu-nghiem-tinh-nang-tim-kiem-hap-dan-hon-2014083001093844.chn\n"
          ]
        },
        {
          "name": "stderr",
          "output_type": "stream",
          "text": [
            "2024-05-31 23:27:01,260 - whois.whois - ERROR - Error trying to connect to socket: closing socket - [Errno 11001] getaddrinfo failed\n",
            "2024-05-31 23:27:02,245 - whois.whois - ERROR - Error trying to connect to socket: closing socket - [Errno 11001] getaddrinfo failed\n"
          ]
        },
        {
          "name": "stdout",
          "output_type": "stream",
          "text": [
            "Timeout occurred while making the request to http://buzzfil.net/article/5602/photo-look/16-photos-innocentes-mais-certaines-ne-seront-pas-de-cet-avis-3.html?href=inner_website\n"
          ]
        },
        {
          "name": "stderr",
          "output_type": "stream",
          "text": [
            "2024-05-31 23:27:08,173 - whois.whois - ERROR - Error trying to connect to socket: closing socket - [WinError 10061] No connection could be made because the target machine actively refused it\n"
          ]
        },
        {
          "name": "stdout",
          "output_type": "stream",
          "text": [
            "Timeout occurred while making the request to http://xhamster.com/movies/815700/yvonne_schneider_madchen_mit_offenen_lippen.html?promo=1\n"
          ]
        },
        {
          "name": "stderr",
          "output_type": "stream",
          "text": [
            "2024-05-31 23:27:10,549 - whois.whois - ERROR - Error trying to connect to socket: closing socket - [Errno 11001] getaddrinfo failed\n",
            "2024-05-31 23:27:10,837 - whois.whois - ERROR - Error trying to connect to socket: closing socket - [Errno 11001] getaddrinfo failed\n"
          ]
        },
        {
          "name": "stdout",
          "output_type": "stream",
          "text": [
            "Creation date or expiration date is missing.\n",
            "An error occurred: unsupported operand type(s) for -: 'NoneType' and 'datetime.datetime'\n",
            "Creation date or expiration date is missing.\n"
          ]
        },
        {
          "name": "stderr",
          "output_type": "stream",
          "text": [
            "2024-05-31 23:27:17,560 - whois.whois - ERROR - Error trying to connect to socket: closing socket - [Errno 11001] getaddrinfo failed\n"
          ]
        },
        {
          "name": "stdout",
          "output_type": "stream",
          "text": [
            "An error occurred: unsupported operand type(s) for -: 'NoneType' and 'datetime.datetime'\n",
            "Timeout occurred while making the request to http://1337x.to/torrent/1086075/Marvels-Agents-of-S-H-I-E-L-D-S02E11-HDTV-x264-KILLERS-ettv/\n",
            "Have At Sign\n"
          ]
        },
        {
          "name": "stderr",
          "output_type": "stream",
          "text": [
            "2024-05-31 23:27:29,557 - whois.whois - ERROR - Error trying to connect to socket: closing socket - [Errno 11001] getaddrinfo failed\n"
          ]
        },
        {
          "name": "stdout",
          "output_type": "stream",
          "text": [
            "Creation date or expiration date is missing.\n",
            "An error occurred: unsupported operand type(s) for -: 'NoneType' and 'datetime.datetime'\n"
          ]
        },
        {
          "name": "stderr",
          "output_type": "stream",
          "text": [
            "2024-05-31 23:27:36,758 - whois.whois - ERROR - Error trying to connect to socket: closing socket - [WinError 10061] No connection could be made because the target machine actively refused it\n",
            "2024-05-31 23:27:41,708 - whois.whois - ERROR - Error trying to connect to socket: closing socket - [Errno 11001] getaddrinfo failed\n"
          ]
        },
        {
          "name": "stdout",
          "output_type": "stream",
          "text": [
            "Timeout occurred while making the request to http://olx.co.id/kalimantan-utara/q-%7Bq%7D/?utm_source=google&utm_medium=search&utm_campaign=search_organic\n",
            "An error occurred: unsupported operand type(s) for -: 'str' and 'str'\n",
            "An error occurred: unsupported operand type(s) for -: 'str' and 'datetime.datetime'\n"
          ]
        },
        {
          "name": "stderr",
          "output_type": "stream",
          "text": [
            "2024-05-31 23:27:47,356 - whois.whois - ERROR - Error trying to connect to socket: closing socket - [Errno 11001] getaddrinfo failed\n"
          ]
        },
        {
          "name": "stdout",
          "output_type": "stream",
          "text": [
            "Timeout occurred while making the request to http://kickass.to/zedd-ft-selena-gomez-i-want-you-to-know-music-video-720p-sbyky-t10642654.html\n"
          ]
        },
        {
          "name": "stderr",
          "output_type": "stream",
          "text": [
            "2024-05-31 23:27:48,795 - whois.whois - ERROR - Error trying to connect to socket: closing socket - [Errno 11001] getaddrinfo failed\n",
            "2024-05-31 23:27:50,809 - whois.whois - ERROR - Error trying to connect to socket: closing socket - [Errno 11001] getaddrinfo failed\n"
          ]
        },
        {
          "name": "stdout",
          "output_type": "stream",
          "text": [
            "An error occurred: unsupported operand type(s) for -: 'str' and 'str'\n",
            "An error occurred: unsupported operand type(s) for -: 'str' and 'datetime.datetime'\n"
          ]
        },
        {
          "name": "stderr",
          "output_type": "stream",
          "text": [
            "2024-05-31 23:28:00,341 - whois.whois - ERROR - Error trying to connect to socket: closing socket - [Errno 11001] getaddrinfo failed\n",
            "2024-05-31 23:28:07,317 - whois.whois - ERROR - Error trying to connect to socket: closing socket - [Errno 11001] getaddrinfo failed\n",
            "2024-05-31 23:28:14,705 - whois.whois - ERROR - Error trying to connect to socket: closing socket - [Errno 11001] getaddrinfo failed\n",
            "2024-05-31 23:28:15,431 - whois.whois - ERROR - Error trying to connect to socket: closing socket - [Errno 11001] getaddrinfo failed\n"
          ]
        },
        {
          "name": "stdout",
          "output_type": "stream",
          "text": [
            "Have At Sign\n",
            "Timeout occurred while making the request to http://oneplus.net/ca_en/support/answer/how-do-i-submit-a-cyanogenmod-11s-software-bug\n",
            "Timeout occurred while making the request to http://depositphotos.com/search.html?st=0&image=1&vector=0&video=0&sorting=best_match&editorial_only=1&editorial_exclude=0&orientation=all&search_size=all&limit=60&nudity=0&query=couple\n"
          ]
        },
        {
          "name": "stderr",
          "output_type": "stream",
          "text": [
            "2024-05-31 23:28:18,024 - whois.whois - ERROR - Error trying to connect to socket: closing socket - [Errno 11001] getaddrinfo failed\n"
          ]
        },
        {
          "name": "stdout",
          "output_type": "stream",
          "text": [
            "Timeout occurred while making the request to http://buzzfil.net/article/5673/non-classe/the-void-le-grand-parc-de-la-realite-augmentee-9.html?href=inner_website\n",
            "Creation date or expiration date is missing.\n",
            "Creation date or expiration date is missing.\n",
            "An error occurred: unsupported operand type(s) for -: 'NoneType' and 'datetime.datetime'\n",
            "An error occurred: unsupported operand type(s) for -: 'NoneType' and 'datetime.datetime'\n",
            "Timeout occurred while making the request to http://distractify.com/Deborah-Gross/and-you-thought-your-parents-were-embarassing/\n",
            "Timeout occurred while making the request to http://yourlust.com/videos/sexy-time-with-bunch-of-curvy-fan-girls-and-cocky-cart-racers.html\n",
            "An error occurred: unsupported operand type(s) for -: 'str' and 'str'\n",
            "An error occurred: unsupported operand type(s) for -: 'str' and 'datetime.datetime'\n"
          ]
        },
        {
          "name": "stderr",
          "output_type": "stream",
          "text": [
            "2024-05-31 23:28:29,284 - whois.whois - ERROR - Error trying to connect to socket: closing socket - [Errno 11001] getaddrinfo failed\n",
            "2024-05-31 23:28:32,006 - whois.whois - ERROR - Error trying to connect to socket: closing socket - timed out\n"
          ]
        },
        {
          "name": "stdout",
          "output_type": "stream",
          "text": [
            "Creation date or expiration date is missing.\n"
          ]
        },
        {
          "name": "stderr",
          "output_type": "stream",
          "text": [
            "2024-05-31 23:28:39,417 - whois.whois - ERROR - Error trying to connect to socket: closing socket - [Errno 11001] getaddrinfo failed\n"
          ]
        },
        {
          "name": "stdout",
          "output_type": "stream",
          "text": [
            "An error occurred: unsupported operand type(s) for -: 'str' and 'str'\n",
            "An error occurred: unsupported operand type(s) for -: 'str' and 'datetime.datetime'\n"
          ]
        },
        {
          "name": "stderr",
          "output_type": "stream",
          "text": [
            "2024-05-31 23:28:40,822 - whois.whois - ERROR - Error trying to connect to socket: closing socket - timed out\n"
          ]
        },
        {
          "name": "stdout",
          "output_type": "stream",
          "text": [
            "Timeout occurred while making the request to http://xhamster.com/movies/4579479/beautiful_indonesian_chick_moaning_during_sex.html\n",
            "Creation date or expiration date is missing.\n",
            "An error occurred: unsupported operand type(s) for -: 'NoneType' and 'datetime.datetime'\n"
          ]
        },
        {
          "name": "stderr",
          "output_type": "stream",
          "text": [
            "2024-05-31 23:28:46,078 - whois.whois - ERROR - Error trying to connect to socket: closing socket - [Errno 11001] getaddrinfo failed\n",
            "2024-05-31 23:28:48,778 - whois.whois - ERROR - Error trying to connect to socket: closing socket - [Errno 11001] getaddrinfo failed\n"
          ]
        },
        {
          "name": "stdout",
          "output_type": "stream",
          "text": [
            "Creation date or expiration date is missing.\n",
            "An error occurred: unsupported operand type(s) for -: 'NoneType' and 'datetime.datetime'\n"
          ]
        },
        {
          "name": "stderr",
          "output_type": "stream",
          "text": [
            "2024-05-31 23:28:58,543 - whois.whois - ERROR - Error trying to connect to socket: closing socket - [WinError 10061] No connection could be made because the target machine actively refused it\n",
            "2024-05-31 23:29:00,529 - whois.whois - ERROR - Error trying to connect to socket: closing socket - [Errno 11001] getaddrinfo failed\n"
          ]
        },
        {
          "name": "stdout",
          "output_type": "stream",
          "text": [
            "Timeout occurred while making the request to http://distractify.com/post/related/id/550ad7194a0c4bf7454a9d93/skip/10/limit/10/back/0\n"
          ]
        },
        {
          "name": "stderr",
          "output_type": "stream",
          "text": [
            "2024-05-31 23:29:06,652 - whois.whois - ERROR - Error trying to connect to socket: closing socket - [Errno 11001] getaddrinfo failed\n"
          ]
        },
        {
          "name": "stdout",
          "output_type": "stream",
          "text": [
            "Creation date or expiration date is missing.\n",
            "An error occurred: unsupported operand type(s) for -: 'NoneType' and 'datetime.datetime'\n",
            "Timeout occurred while making the request to http://kickass.to/desktop-wallpapers-miscellaneous-1680x1050-2560x1600-105pcs-2015-jpg-t10563903.html\n",
            "Timeout occurred while making the request to http://distractify.com/post/related/id/554baa6b4a0c4b623e066a74/skip/10/limit/10/back/0\n"
          ]
        },
        {
          "name": "stderr",
          "output_type": "stream",
          "text": [
            "2024-05-31 23:29:14,241 - whois.whois - ERROR - Error trying to connect to socket: closing socket - [Errno 11001] getaddrinfo failed\n"
          ]
        },
        {
          "name": "stdout",
          "output_type": "stream",
          "text": [
            "An error occurred: unsupported operand type(s) for -: 'str' and 'str'\n",
            "An error occurred: unsupported operand type(s) for -: 'str' and 'str'\n",
            "An error occurred: unsupported operand type(s) for -: 'str' and 'datetime.datetime'\n",
            "An error occurred: unsupported operand type(s) for -: 'str' and 'datetime.datetime'\n"
          ]
        },
        {
          "name": "stderr",
          "output_type": "stream",
          "text": [
            "2024-05-31 23:29:23,483 - whois.whois - ERROR - Error trying to connect to socket: closing socket - [Errno 11001] getaddrinfo failed\n"
          ]
        },
        {
          "name": "stdout",
          "output_type": "stream",
          "text": [
            "An error occurred: unsupported operand type(s) for -: 'str' and 'str'\n"
          ]
        },
        {
          "name": "stderr",
          "output_type": "stream",
          "text": [
            "2024-05-31 23:29:24,719 - whois.whois - ERROR - Error trying to connect to socket: closing socket - [Errno 11001] getaddrinfo failed\n"
          ]
        },
        {
          "name": "stdout",
          "output_type": "stream",
          "text": [
            "An error occurred: unsupported operand type(s) for -: 'str' and 'datetime.datetime'\n",
            "Timeout occurred while making the request to http://allrecipes.com/Recipe/Pesto-Chicken/Detail.aspx?evt19=1&referringHubId=15041\n",
            "An error occurred: unsupported operand type(s) for -: 'str' and 'str'\n",
            "An error occurred: unsupported operand type(s) for -: 'str' and 'datetime.datetime'\n",
            "An error occurred: unsupported operand type(s) for -: 'str' and 'str'\n",
            "Creation date or expiration date is missing.\n",
            "An error occurred: unsupported operand type(s) for -: 'str' and 'datetime.datetime'\n",
            "An error occurred: unsupported operand type(s) for -: 'NoneType' and 'datetime.datetime'\n",
            "Creation date or expiration date is missing.\n",
            "An error occurred: unsupported operand type(s) for -: 'NoneType' and 'datetime.datetime'\n"
          ]
        },
        {
          "name": "stderr",
          "output_type": "stream",
          "text": [
            "2024-05-31 23:29:40,840 - whois.whois - ERROR - Error trying to connect to socket: closing socket - [WinError 10061] No connection could be made because the target machine actively refused it\n"
          ]
        },
        {
          "name": "stdout",
          "output_type": "stream",
          "text": [
            "Timeout occurred while making the request to http://yourlust.com/videos/lesbian-delight-with-two-skinny-european-blonde-angels.html\n",
            "Creation date or expiration date is missing.\n",
            "Timeout occurred while making the request to http://kickass.to/dc-week-04-29-2015-vertigo-aka-new-52-week-191-nem-t10578569.html\n",
            "An error occurred: unsupported operand type(s) for -: 'NoneType' and 'datetime.datetime'\n",
            "Creation date or expiration date is missing.\n",
            "Creation date or expiration date is missing.\n",
            "An error occurred: unsupported operand type(s) for -: 'NoneType' and 'datetime.datetime'\n",
            "An error occurred: unsupported operand type(s) for -: 'NoneType' and 'datetime.datetime'\n"
          ]
        },
        {
          "name": "stderr",
          "output_type": "stream",
          "text": [
            "2024-05-31 23:30:01,447 - whois.whois - ERROR - Error trying to connect to socket: closing socket - [WinError 10061] No connection could be made because the target machine actively refused it\n",
            "2024-05-31 23:30:04,095 - whois.whois - ERROR - Error trying to connect to socket: closing socket - timed out\n"
          ]
        },
        {
          "name": "stdout",
          "output_type": "stream",
          "text": [
            "An error occurred: unsupported operand type(s) for -: 'NoneType' and 'datetime.datetime'\n"
          ]
        },
        {
          "name": "stderr",
          "output_type": "stream",
          "text": [
            "2024-05-31 23:30:06,313 - whois.whois - ERROR - Error trying to connect to socket: closing socket - [Errno 11001] getaddrinfo failed\n",
            "2024-05-31 23:30:07,128 - whois.whois - ERROR - Error trying to connect to socket: closing socket - [Errno 11001] getaddrinfo failed\n"
          ]
        },
        {
          "name": "stdout",
          "output_type": "stream",
          "text": [
            "Timeout occurred while making the request to http://buzzfil.net/article/4665/buzz/ce-bebe-est-ne-d-une-maniere-assez-rare-2.html?href=inner_website\n",
            "Creation date or expiration date is missing.\n",
            "Timeout occurred while making the request to http://yourlust.com/videos/cocky-butler-attack-mature-busty-mistress-with-his-big-dick.html\n",
            "An error occurred: unsupported operand type(s) for -: 'NoneType' and 'datetime.datetime'\n"
          ]
        },
        {
          "name": "stderr",
          "output_type": "stream",
          "text": [
            "2024-05-31 23:30:12,272 - whois.whois - ERROR - Error trying to connect to socket: closing socket - [Errno 11001] getaddrinfo failed\n"
          ]
        },
        {
          "name": "stdout",
          "output_type": "stream",
          "text": [
            "An error occurred: unsupported operand type(s) for -: 'str' and 'str'\n",
            "An error occurred: unsupported operand type(s) for -: 'str' and 'datetime.datetime'\n",
            "Creation date or expiration date is missing.\n",
            "An error occurred: unsupported operand type(s) for -: 'NoneType' and 'datetime.datetime'\n",
            "Timeout occurred while making the request to http://depositphotos.com/login.html?url=%2F63187975%2Fstock-photo-double-exposure-of-hipster-tourist.html\n",
            "Timeout occurred while making the request to http://olx.co.id/i2/hobi-olahraga/sepeda-aksesoris/lipat/hobi-olahraga/sepeda-aksesoris/lipat\n",
            "Timeout occurred while making the request to http://katproxy.com/community/show/when-you-log-say-hello-when-you-leave-say-goodbye-v4/?post=16468364\n"
          ]
        },
        {
          "name": "stderr",
          "output_type": "stream",
          "text": [
            "2024-05-31 23:30:33,461 - whois.whois - ERROR - Error trying to connect to socket: closing socket - [Errno 11001] getaddrinfo failed\n",
            "2024-05-31 23:30:34,254 - whois.whois - ERROR - Error trying to connect to socket: closing socket - [Errno 11001] getaddrinfo failed\n"
          ]
        },
        {
          "name": "stdout",
          "output_type": "stream",
          "text": [
            "Timeout occurred while making the request to http://depositphotos.com/subscribe.html?backURL%5Bpage%5D=%2F48870447%2Fstock-photo-hipster-woman-relax-and-taking.html&backURL%5Bexclude%5D%5B0%5D=login\n",
            "Timeout occurred while making the request to http://tune.pk/video/6047426/wfatw-cultureshockwithcorey-gravess01e02starwarsc-elebration\n"
          ]
        },
        {
          "name": "stderr",
          "output_type": "stream",
          "text": [
            "2024-05-31 23:30:40,853 - whois.whois - ERROR - Error trying to connect to socket: closing socket - timed out\n"
          ]
        },
        {
          "name": "stdout",
          "output_type": "stream",
          "text": [
            "An error occurred: unsupported operand type(s) for -: 'str' and 'str'\n",
            "Timeout occurred while making the request to http://moviepilot.com/posts/2015/05/11/george-lucas-ideas-for-episode-vii-revealed-and-they-re-exactly-what-you-d-expect-2924885\n",
            "An error occurred: unsupported operand type(s) for -: 'str' and 'datetime.datetime'\n",
            "Timeout occurred while making the request to http://kenh14.vn/2-tek/nhung-tinh-nang-khien-lg-g3-hap-dan-hon-galaxy-s5-20140529035030945.chn\n"
          ]
        },
        {
          "name": "stderr",
          "output_type": "stream",
          "text": [
            "2024-05-31 23:30:49,813 - whois.whois - ERROR - Error trying to connect to socket: closing socket - [Errno 11001] getaddrinfo failed\n"
          ]
        },
        {
          "name": "stdout",
          "output_type": "stream",
          "text": [
            "Timeout occurred while making the request to http://yourlust.com/videos/tattooed-brunette-shemale-gets-her-dick-sucked-in-a-bathroom.html\n",
            "Timeout occurred while making the request to http://depositphotos.com/affiliate.html?backURL%5Bpage%5D=%2Fstock-photography.html&backURL%5Bexclude%5D%5B0%5D=login\n"
          ]
        },
        {
          "name": "stderr",
          "output_type": "stream",
          "text": [
            "2024-05-31 23:30:54,016 - whois.whois - ERROR - Error trying to connect to socket: closing socket - [Errno 11001] getaddrinfo failed\n"
          ]
        },
        {
          "name": "stdout",
          "output_type": "stream",
          "text": [
            "Timeout occurred while making the request to http://olx.co.id/i2/keperluan-pribadi/fashion-wanita/baju-tidur/keperluan-pribadi/fashion-wanita/baju-tidur\n"
          ]
        },
        {
          "name": "stderr",
          "output_type": "stream",
          "text": [
            "2024-05-31 23:30:57,277 - whois.whois - ERROR - Error trying to connect to socket: closing socket - [Errno 11001] getaddrinfo failed\n"
          ]
        },
        {
          "name": "stdout",
          "output_type": "stream",
          "text": [
            "An error occurred: unsupported operand type(s) for -: 'str' and 'str'\n"
          ]
        },
        {
          "name": "stderr",
          "output_type": "stream",
          "text": [
            "2024-05-31 23:30:58,535 - whois.whois - ERROR - Error trying to connect to socket: closing socket - [WinError 10061] No connection could be made because the target machine actively refused it\n"
          ]
        },
        {
          "name": "stdout",
          "output_type": "stream",
          "text": [
            "An error occurred: unsupported operand type(s) for -: 'str' and 'datetime.datetime'\n",
            "Timeout occurred while making the request to http://buzzfil.net/article/4912/buzz/ce-moine-applique-la-position-du-lotus-dans-de-l-huile-sur-le-feu-2.html?href=inner_website\n",
            "Creation date or expiration date is missing.\n",
            "An error occurred: unsupported operand type(s) for -: 'NoneType' and 'datetime.datetime'\n",
            "Timeout occurred while making the request to http://distractify.com/post/related/id/554baa6b4a0c4b623e066a74/skip/20/limit/10/back/0\n",
            "Timeout occurred while making the request to http://1337x.to/torrent/1154311/Battle-For-Skyark-2015-English-Movies-DVDRip-XviD-AAC-with-Sample-rDX/\n",
            "Timeout occurred while making the request to http://depositphotos.com/login.html?backURL%5Bpage%5D=%2Fcredits%2Fcheckcard.html&backURL%5Bexclude%5D%5B0%5D=login\n",
            "Creation date or expiration date is missing.\n",
            "Creation date or expiration date is missing.\n",
            "An error occurred: unsupported operand type(s) for -: 'NoneType' and 'datetime.datetime'\n"
          ]
        },
        {
          "name": "stderr",
          "output_type": "stream",
          "text": [
            "2024-05-31 23:31:13,383 - whois.whois - ERROR - Error trying to connect to socket: closing socket - [Errno 11001] getaddrinfo failed\n"
          ]
        },
        {
          "name": "stdout",
          "output_type": "stream",
          "text": [
            "An error occurred: unsupported operand type(s) for -: 'str' and 'str'\n",
            "Timeout occurred while making the request to http://olx.co.id/i2/elektronik-gadget/handphone/mito/elektronik-gadget/handphone/mito\n",
            "An error occurred: unsupported operand type(s) for -: 'NoneType' and 'datetime.datetime'\n",
            "An error occurred: unsupported operand type(s) for -: 'str' and 'datetime.datetime'\n",
            "Timeout occurred while making the request to http://maybank2u.com.my/mbb_info/m2u/public/promoChannel.do?cntTypeId=1&channelId=PRO-Promotions&programId=PRO09-OnlineBanking&chCatId=/mbb/Personal/PRO-Promotions\n",
            "Creation date or expiration date is missing.\n",
            "An error occurred: unsupported operand type(s) for -: 'NoneType' and 'datetime.datetime'\n",
            "Creation date or expiration date is missing.\n",
            "An error occurred: unsupported operand type(s) for -: 'NoneType' and 'datetime.datetime'\n",
            "Timeout occurred while making the request to http://xhamster.com/movies/4552393/kinky_chubby_ebony_nanny_masturbation_at_work.html\n",
            "An error occurred: unsupported operand type(s) for -: 'str' and 'str'\n",
            "An error occurred: unsupported operand type(s) for -: 'str' and 'datetime.datetime'\n",
            "Timeout occurred while making the request to http://manager.co.th/Banner/AdBanner/ShwBanner.aspx?FarmID=10&ZoneID=1&BannerID=0&PositionID=1&t=201505141320181406250\n",
            "Timeout occurred while making the request to http://buzzfil.net/m/show-art/23-superbes-photos-de-parents-tatoues-qui-posent-avec-leurs-enfants-3.html\n"
          ]
        },
        {
          "name": "stderr",
          "output_type": "stream",
          "text": [
            "2024-05-31 23:31:42,717 - whois.whois - ERROR - Error trying to connect to socket: closing socket - [WinError 10061] No connection could be made because the target machine actively refused it\n"
          ]
        },
        {
          "name": "stdout",
          "output_type": "stream",
          "text": [
            "Timeout occurred while making the request to http://katproxy.com/adobe-photoshop-cs6-13-0-final-extended-eng-jpn-mac-os-x-chingliu-t6355553.html\n",
            "An error occurred: unsupported operand type(s) for -: 'str' and 'str'\n",
            "An error occurred: unsupported operand type(s) for -: 'str' and 'datetime.datetime'\n",
            "Timeout occurred while making the request to http://zozo.jp/shop/agete/?price=proper&p_ssy=2015&p_ssm=5&p_ssd=13&p_sey=2015&p_sem=5&p_sed=13&dstk=2\n",
            "Timeout occurred while making the request to http://kickass.to/wonder-woman-v2-001-226-annuals-digi-update-scans-digital-requested-nem-t10634158.html\n",
            "An error occurred: unsupported operand type(s) for -: 'str' and 'str'\n",
            "An error occurred: unsupported operand type(s) for -: 'str' and 'datetime.datetime'\n",
            "Creation date or expiration date is missing.\n",
            "Timeout occurred while making the request to http://zozo.jp/shop/atmos/?price=proper&p_ssy=2015&p_ssm=5&p_ssd=13&p_sey=2015&p_sem=5&p_sed=13&dstk=2\n",
            "An error occurred: unsupported operand type(s) for -: 'NoneType' and 'datetime.datetime'\n",
            "An error occurred: unsupported operand type(s) for -: 'str' and 'str'\n",
            "An error occurred: unsupported operand type(s) for -: 'str' and 'datetime.datetime'\n",
            "Timeout occurred while making the request to http://yourlust.com/videos/pimple-faced-euro-teen-with-slender-body-pokes-her-way-to-orgasm.html\n",
            "Timeout occurred while making the request to https://depositphotos.com/subscribe.html?backURL%5Bpage%5D=%2Fsignup.html&backURL%5Bexclude%5D%5B0%5D=login\n",
            "An error occurred: unsupported operand type(s) for -: 'str' and 'str'\n",
            "Timeout occurred while making the request to http://depositphotos.com/login.html?url=%2F70174505%2Fstock-photo-creativity-team-working-together.html\n",
            "An error occurred: unsupported operand type(s) for -: 'str' and 'datetime.datetime'\n"
          ]
        },
        {
          "name": "stderr",
          "output_type": "stream",
          "text": [
            "2024-05-31 23:32:15,438 - whois.whois - ERROR - Error trying to connect to socket: closing socket - [Errno 11001] getaddrinfo failed\n"
          ]
        },
        {
          "name": "stdout",
          "output_type": "stream",
          "text": [
            "Timeout occurred while making the request to http://olx.co.id/i2/hobi-olahraga/buku-majalah/teknik-dan-keahlian/hobi-olahraga/buku-majalah/teknik-dan-keahlian\n",
            "Timeout occurred while making the request to http://zozo.jp/shop/bagselectiononward/?price=proper&p_ssy=2015&p_ssm=5&p_ssd=13&p_sey=2015&p_sem=5&p_sed=13&dstk=2\n"
          ]
        },
        {
          "name": "stderr",
          "output_type": "stream",
          "text": [
            "2024-05-31 23:32:19,527 - whois.whois - ERROR - Error trying to connect to socket: closing socket - timed out\n"
          ]
        },
        {
          "name": "stdout",
          "output_type": "stream",
          "text": [
            "Creation date or expiration date is missing.\n"
          ]
        },
        {
          "name": "stderr",
          "output_type": "stream",
          "text": [
            "2024-05-31 23:32:22,852 - whois.whois - ERROR - Error trying to connect to socket: closing socket - [Errno 11001] getaddrinfo failed\n",
            "2024-05-31 23:32:24,026 - whois.whois - ERROR - Error trying to connect to socket: closing socket - [Errno 11001] getaddrinfo failed\n",
            "2024-05-31 23:32:25,252 - whois.whois - ERROR - Error trying to connect to socket: closing socket - timed out\n"
          ]
        },
        {
          "name": "stdout",
          "output_type": "stream",
          "text": [
            "Timeout occurred while making the request to http://yourlust.com/videos/bootyful-blonde-shows-off-adorable-ass-and-juicy-butt-cheeks.html\n",
            "Creation date or expiration date is missing.\n",
            "An error occurred: unsupported operand type(s) for -: 'NoneType' and 'datetime.datetime'\n",
            "Timeout occurred while making the request to http://depositphotos.com/login.html?url=%2F12394114%2Fstock-photo-delicious-eggs-served-for-breakfast.html\n",
            "Have At Sign\n",
            "Creation date or expiration date is missing.\n"
          ]
        },
        {
          "name": "stderr",
          "output_type": "stream",
          "text": [
            "2024-05-31 23:32:36,283 - whois.whois - ERROR - Error trying to connect to socket: closing socket - [WinError 10061] No connection could be made because the target machine actively refused it\n"
          ]
        },
        {
          "name": "stdout",
          "output_type": "stream",
          "text": [
            "An error occurred: unsupported operand type(s) for -: 'NoneType' and 'datetime.datetime'\n"
          ]
        },
        {
          "name": "stderr",
          "output_type": "stream",
          "text": [
            "2024-05-31 23:32:40,949 - whois.whois - ERROR - Error trying to connect to socket: closing socket - [Errno 11001] getaddrinfo failed\n",
            "2024-05-31 23:32:43,058 - whois.whois - ERROR - Error trying to connect to socket: closing socket - [Errno 11001] getaddrinfo failed\n"
          ]
        },
        {
          "name": "stdout",
          "output_type": "stream",
          "text": [
            "An error occurred: unsupported operand type(s) for -: 'str' and 'str'\n",
            "Timeout occurred while making the request to http://kickass.to/internet-download-manager-idm-v-6-23-build-10-crack-fake-serial-pop-up-fixed-t10472442.html\n",
            "An error occurred: unsupported operand type(s) for -: 'str' and 'datetime.datetime'\n",
            "Timeout occurred while making the request to http://olx.co.id/sulawesi-utara/q-%7Bq%7D/?utm_source=google&utm_medium=search&utm_campaign=search_organic\n"
          ]
        },
        {
          "name": "stderr",
          "output_type": "stream",
          "text": [
            "2024-05-31 23:32:50,032 - whois.whois - ERROR - Error trying to connect to socket: closing socket - [Errno 11001] getaddrinfo failed\n"
          ]
        },
        {
          "name": "stdout",
          "output_type": "stream",
          "text": [
            "Timeout occurred while making the request to http://buzzfil.net/article/5370/c-mignon/ce-qu-elle-fit-a-son-entree-soutira-quelques-larmes-a-son-homme-2.html?href=inner_website\n",
            "Timeout occurred while making the request to http://olx.co.id/all-results/?q={q}&utm_source=google&utm_medium=search&utm_campaign=search_organic\n"
          ]
        },
        {
          "name": "stderr",
          "output_type": "stream",
          "text": [
            "2024-05-31 23:32:55,136 - whois.whois - ERROR - Error trying to connect to socket: closing socket - timed out\n"
          ]
        },
        {
          "name": "stdout",
          "output_type": "stream",
          "text": [
            "An error occurred: unsupported operand type(s) for -: 'NoneType' and 'datetime.datetime'\n"
          ]
        },
        {
          "name": "stderr",
          "output_type": "stream",
          "text": [
            "2024-05-31 23:32:55,406 - whois.whois - ERROR - Error trying to connect to socket: closing socket - [Errno 11001] getaddrinfo failed\n"
          ]
        },
        {
          "name": "stdout",
          "output_type": "stream",
          "text": [
            "Timeout occurred while making the request to http://udn.com/news/story/7252/899838-%E6%B0%B8%E8%B1%90%E9%87%91-%E5%8D%97%E4%BA%AC%E5%AD%90%E8%A1%8C%E5%8F%AF%E6%9C%9B%E7%8D%B2%E4%BA%BA%E6%B0%91%E5%B9%A3%E6%A5%AD%E5%8B%99%E5%9F%B7%E7%85%A7\n",
            "Have At Sign\n",
            "Timeout occurred while making the request to http://moviepilot.com/posts/2015/05/09/artist-creates-horrifying-new-ben-and-jerry-s-flavors-2920609\n",
            "Timeout occurred while making the request to http://xhamster.com/movies/4582419/junna_kogina_lves_sucking_and_fucking_in_threesome_show.html\n"
          ]
        },
        {
          "name": "stderr",
          "output_type": "stream",
          "text": [
            "2024-05-31 23:33:11,871 - whois.whois - ERROR - Error trying to connect to socket: closing socket - [Errno 11001] getaddrinfo failed\n"
          ]
        },
        {
          "name": "stdout",
          "output_type": "stream",
          "text": [
            "Timeout occurred while making the request to http://buzzfil.net/article/5500/animaux/il-va-gravement-regretter-d-avoir-fait-un-doigt-d-honneur-a-ce-singe-9.html?href=inner_website\n"
          ]
        },
        {
          "name": "stderr",
          "output_type": "stream",
          "text": [
            "2024-05-31 23:33:20,183 - whois.whois - ERROR - Error trying to connect to socket: closing socket - timed out\n"
          ]
        },
        {
          "name": "stdout",
          "output_type": "stream",
          "text": [
            "Creation date or expiration date is missing.\n"
          ]
        },
        {
          "name": "stderr",
          "output_type": "stream",
          "text": [
            "2024-05-31 23:33:23,351 - whois.whois - ERROR - Error trying to connect to socket: closing socket - timed out\n"
          ]
        },
        {
          "name": "stdout",
          "output_type": "stream",
          "text": [
            "Creation date or expiration date is missing.\n"
          ]
        },
        {
          "name": "stderr",
          "output_type": "stream",
          "text": [
            "2024-05-31 23:33:28,079 - whois.whois - ERROR - Error trying to connect to socket: closing socket - [Errno 11001] getaddrinfo failed\n"
          ]
        },
        {
          "name": "stdout",
          "output_type": "stream",
          "text": [
            "Timeout occurred while making the request to http://olx.co.id/elektronik-gadget/q-%7Bq%7D/?utm_source=google&utm_medium=search&utm_campaign=search_organic\n",
            "Timeout occurred while making the request to http://udn.com/news/story/6811/901251-%E9%9F%93%E5%87%BA%E5%8F%A3%E7%BA%8C%E6%B8%9B-%E5%8F%AF%E8%83%BD%E5%86%8D%E9%99%8D%E6%81%AF\n"
          ]
        },
        {
          "name": "stderr",
          "output_type": "stream",
          "text": [
            "2024-05-31 23:33:37,000 - whois.whois - ERROR - Error trying to connect to socket: closing socket - [Errno 11001] getaddrinfo failed\n"
          ]
        },
        {
          "name": "stdout",
          "output_type": "stream",
          "text": [
            "Timeout occurred while making the request to http://distractify.com/post/related/id/54458fea4a0c4b12134864af/skip/10/limit/10/back/0\n",
            "Timeout occurred while making the request to http://katproxy.com/indianbabess-real-indian-babes-being-naughty-complete-video-siterip-t10631030.html\n",
            "An error occurred: unsupported operand type(s) for -: 'str' and 'str'\n"
          ]
        },
        {
          "name": "stderr",
          "output_type": "stream",
          "text": [
            "2024-05-31 23:33:42,157 - whois.whois - ERROR - Error trying to connect to socket: closing socket - [Errno 11001] getaddrinfo failed\n"
          ]
        },
        {
          "name": "stdout",
          "output_type": "stream",
          "text": [
            "An error occurred: unsupported operand type(s) for -: 'str' and 'datetime.datetime'\n",
            "Creation date or expiration date is missing.\n",
            "An error occurred: unsupported operand type(s) for -: 'NoneType' and 'datetime.datetime'\n",
            "Creation date or expiration date is missing.\n",
            "An error occurred: unsupported operand type(s) for -: 'NoneType' and 'datetime.datetime'\n"
          ]
        },
        {
          "name": "stderr",
          "output_type": "stream",
          "text": [
            "2024-05-31 23:33:50,247 - whois.whois - ERROR - Error trying to connect to socket: closing socket - [Errno 11001] getaddrinfo failed\n"
          ]
        },
        {
          "name": "stdout",
          "output_type": "stream",
          "text": [
            "Timeout occurred while making the request to http://buzzfil.net/article/5642/photo-look/aniko-kolesnikova-nous-propose-ses-tres-belles-couvertures-pour-livres-3.html?href=inner_website\n"
          ]
        },
        {
          "name": "stderr",
          "output_type": "stream",
          "text": [
            "2024-05-31 23:33:59,437 - whois.whois - ERROR - Error trying to connect to socket: closing socket - [WinError 10061] No connection could be made because the target machine actively refused it\n"
          ]
        },
        {
          "name": "stdout",
          "output_type": "stream",
          "text": [
            "Timeout occurred while making the request to http://moviepilot.com/posts/2015/03/20/it-s-comic-week-on-moviepilot-2796614?lt_source=external\n",
            "Creation date or expiration date is missing.\n",
            "An error occurred: unsupported operand type(s) for -: 'NoneType' and 'datetime.datetime'\n",
            "Timeout occurred while making the request to http://1337x.to/torrent/1160801/Zombie-Cats-From-Mars-2015-English-Movies-DVDRip-XViD-AAC-with-Sample-rDX/\n"
          ]
        },
        {
          "name": "stderr",
          "output_type": "stream",
          "text": [
            "2024-05-31 23:34:10,461 - whois.whois - ERROR - Error trying to connect to socket: closing socket - [Errno 11001] getaddrinfo failed\n",
            "2024-05-31 23:34:14,878 - whois.whois - ERROR - Error trying to connect to socket: closing socket - [Errno 11001] getaddrinfo failed\n"
          ]
        },
        {
          "name": "stdout",
          "output_type": "stream",
          "text": [
            "Timeout occurred while making the request to http://buzzfil.net/article/5092/lol/du-pur-thug-life-voici-la-scene-d-action-d-un-policier-bollywoodien-la-plus-wtf-jamais-vus-2.html?href=inner_website\n"
          ]
        },
        {
          "name": "stderr",
          "output_type": "stream",
          "text": [
            "2024-05-31 23:34:22,746 - whois.whois - ERROR - Error trying to connect to socket: closing socket - [Errno 11001] getaddrinfo failed\n"
          ]
        },
        {
          "name": "stdout",
          "output_type": "stream",
          "text": [
            "Creation date or expiration date is missing.\n",
            "Timeout occurred while making the request to http://depositphotos.com/login.html?backURL%5Bpage%5D=%2Fcaptcha%2FgetCaptcha.html&backURL%5Bexclude%5D%5B0%5D=login\n",
            "An error occurred: unsupported operand type(s) for -: 'NoneType' and 'datetime.datetime'\n",
            "An error occurred: unsupported operand type(s) for -: 'str' and 'str'\n"
          ]
        },
        {
          "name": "stderr",
          "output_type": "stream",
          "text": [
            "2024-05-31 23:34:31,159 - whois.whois - ERROR - Error trying to connect to socket: closing socket - [Errno 11001] getaddrinfo failed\n"
          ]
        },
        {
          "name": "stdout",
          "output_type": "stream",
          "text": [
            "An error occurred: unsupported operand type(s) for -: 'str' and 'datetime.datetime'\n",
            "Timeout occurred while making the request to http://olx.in/hi/item/ram-kathait-b-p-o-job-rs-10-000-fixed-unlimited-incentives-IDWjzrB.html\n"
          ]
        },
        {
          "name": "stderr",
          "output_type": "stream",
          "text": [
            "2024-05-31 23:34:34,548 - whois.whois - ERROR - Error trying to connect to socket: closing socket - [Errno 11001] getaddrinfo failed\n",
            "2024-05-31 23:34:34,812 - whois.whois - ERROR - Error trying to connect to socket: closing socket - [Errno 11001] getaddrinfo failed\n",
            "2024-05-31 23:34:39,992 - whois.whois - ERROR - Error trying to connect to socket: closing socket - [Errno 11001] getaddrinfo failed\n"
          ]
        },
        {
          "name": "stdout",
          "output_type": "stream",
          "text": [
            "Creation date or expiration date is missing.\n",
            "An error occurred: unsupported operand type(s) for -: 'NoneType' and 'datetime.datetime'\n",
            "Timeout occurred while making the request to http://depositphotos.com/login.html?url=%2F20924557%2Fstock-photo-tourists-on-camel.html\n",
            "Timeout occurred while making the request to http://olx.in/hi/all-results/?utm_source=google&utm_medium=search&utm_campaign=search_organic&view=galleryWide&q=\n"
          ]
        },
        {
          "name": "stderr",
          "output_type": "stream",
          "text": [
            "2024-05-31 23:34:48,677 - whois.whois - ERROR - Error trying to connect to socket: closing socket - [Errno 11001] getaddrinfo failed\n",
            "2024-05-31 23:34:52,296 - whois.whois - ERROR - Error trying to connect to socket: closing socket - [Errno 11001] getaddrinfo failed\n"
          ]
        },
        {
          "name": "stdout",
          "output_type": "stream",
          "text": [
            "An error occurred: unsupported operand type(s) for -: 'str' and 'str'\n",
            "Timeout occurred while making the request to http://9gag.tv/p/aKNEWR/jason-mraz-invites-fan-to-play-shaker-on-stage-but-end-up-in-an-unplanned-duet\n",
            "An error occurred: unsupported operand type(s) for -: 'str' and 'datetime.datetime'\n",
            "Timeout occurred while making the request to http://zozo.jp/shop/ato/?price=proper&p_ssy=2015&p_ssm=5&p_ssd=13&p_sey=2015&p_sem=5&p_sed=13&dstk=2\n",
            "An error occurred: unsupported operand type(s) for -: 'str' and 'str'\n",
            "An error occurred: unsupported operand type(s) for -: 'str' and 'datetime.datetime'\n"
          ]
        },
        {
          "name": "stderr",
          "output_type": "stream",
          "text": [
            "2024-05-31 23:34:58,503 - whois.whois - ERROR - Error trying to connect to socket: closing socket - [Errno 11001] getaddrinfo failed\n",
            "2024-05-31 23:34:59,276 - whois.whois - ERROR - Error trying to connect to socket: closing socket - timed out\n"
          ]
        },
        {
          "name": "stdout",
          "output_type": "stream",
          "text": [
            "Creation date or expiration date is missing.\n",
            "Timeout occurred while making the request to http://olx.in/hi/all-results/q-%7Bq%7D/?utm_source=google&utm_medium=search&utm_campaign=search_organic&page=8\n",
            "Creation date or expiration date is missing.\n",
            "Timeout occurred while making the request to http://olx.co.id/i2/keperluan-pribadi/fashion-pria/sandal/keperluan-pribadi/fashion-pria/sandal\n",
            "An error occurred: unsupported operand type(s) for -: 'NoneType' and 'datetime.datetime'\n"
          ]
        },
        {
          "name": "stderr",
          "output_type": "stream",
          "text": [
            "2024-05-31 23:35:08,761 - whois.whois - ERROR - Error trying to connect to socket: closing socket - [Errno 11001] getaddrinfo failed\n"
          ]
        },
        {
          "name": "stdout",
          "output_type": "stream",
          "text": [
            "An error occurred: unsupported operand type(s) for -: 'str' and 'str'\n"
          ]
        },
        {
          "name": "stderr",
          "output_type": "stream",
          "text": [
            "2024-05-31 23:35:10,665 - whois.whois - ERROR - Error trying to connect to socket: closing socket - [Errno 11001] getaddrinfo failed\n"
          ]
        },
        {
          "name": "stdout",
          "output_type": "stream",
          "text": [
            "An error occurred: unsupported operand type(s) for -: 'str' and 'datetime.datetime'\n"
          ]
        },
        {
          "name": "stderr",
          "output_type": "stream",
          "text": [
            "2024-05-31 23:35:11,565 - whois.whois - ERROR - Error trying to connect to socket: closing socket - [WinError 10061] No connection could be made because the target machine actively refused it\n",
            "2024-05-31 23:35:16,662 - whois.whois - ERROR - Error trying to connect to socket: closing socket - [Errno 11001] getaddrinfo failed\n"
          ]
        },
        {
          "name": "stdout",
          "output_type": "stream",
          "text": [
            "An error occurred: unsupported operand type(s) for -: 'str' and 'str'\n",
            "An error occurred: unsupported operand type(s) for -: 'str' and 'datetime.datetime'\n",
            "Timeout occurred while making the request to http://udn.com/news/story/7332/900879-%E7%A6%8F%E5%B7%9E%E5%BB%BF%E5%B9%B4%E7%AB%8B%E4%BA%A4%E6%A9%8B%E6%8B%86%E9%99%A4\n",
            "Timeout occurred while making the request to http://1337x.to/torrent/1160233/Udemy-18-Life-Changing-Ideas-from-the-World-s-Smartest-People/\n",
            "Creation date or expiration date is missing.\n",
            "An error occurred: unsupported operand type(s) for -: 'NoneType' and 'datetime.datetime'\n"
          ]
        },
        {
          "name": "stderr",
          "output_type": "stream",
          "text": [
            "2024-05-31 23:35:32,352 - whois.whois - ERROR - Error trying to connect to socket: closing socket - [Errno 11001] getaddrinfo failed\n"
          ]
        },
        {
          "name": "stdout",
          "output_type": "stream",
          "text": [
            "Creation date or expiration date is missing.\n",
            "An error occurred: unsupported operand type(s) for -: 'NoneType' and 'datetime.datetime'\n"
          ]
        },
        {
          "name": "stderr",
          "output_type": "stream",
          "text": [
            "2024-05-31 23:35:36,316 - whois.whois - ERROR - Error trying to connect to socket: closing socket - [Errno 11001] getaddrinfo failed\n"
          ]
        },
        {
          "name": "stdout",
          "output_type": "stream",
          "text": [
            "An error occurred: unsupported operand type(s) for -: 'str' and 'str'\n",
            "An error occurred: unsupported operand type(s) for -: 'str' and 'datetime.datetime'\n",
            "Timeout occurred while making the request to http://moviepilot.com/posts/2015/05/11/director-brad-bird-confirms-incredibles-2-will-be-his-next-project-2925087\n"
          ]
        },
        {
          "name": "stderr",
          "output_type": "stream",
          "text": [
            "2024-05-31 23:35:40,178 - whois.whois - ERROR - Error trying to connect to socket: closing socket - [Errno 11001] getaddrinfo failed\n"
          ]
        },
        {
          "name": "stdout",
          "output_type": "stream",
          "text": [
            "Timeout occurred while making the request to http://udn.com/news/story/7323/897997-%E8%81%96%E7%B4%84%E7%BF%B0%E7%A7%91%E5%A4%A7%E9%AD%9A%E6%9C%A8%E8%8A%B1%E7%9B%9B%E9%96%8B-%E6%AD%A1%E8%BF%8E%E6%B0%91%E7%9C%BE%E4%BE%86%E8%B3%9E%E8%8A%B1\n"
          ]
        },
        {
          "name": "stderr",
          "output_type": "stream",
          "text": [
            "2024-05-31 23:35:41,878 - whois.whois - ERROR - Error trying to connect to socket: closing socket - [Errno 11001] getaddrinfo failed\n"
          ]
        },
        {
          "name": "stdout",
          "output_type": "stream",
          "text": [
            "Timeout occurred while making the request to http://depositphotos.com/login.html?url=%2F70541279%2Fstock-photo-double-exposure-map-combined-with.html\n"
          ]
        },
        {
          "name": "stderr",
          "output_type": "stream",
          "text": [
            "2024-05-31 23:35:46,493 - whois.whois - ERROR - Error trying to connect to socket: closing socket - [WinError 10061] No connection could be made because the target machine actively refused it\n"
          ]
        },
        {
          "name": "stdout",
          "output_type": "stream",
          "text": [
            "An error occurred: unsupported operand type(s) for -: 'str' and 'str'\n",
            "An error occurred: unsupported operand type(s) for -: 'str' and 'datetime.datetime'\n"
          ]
        },
        {
          "name": "stderr",
          "output_type": "stream",
          "text": [
            "2024-05-31 23:35:51,621 - whois.whois - ERROR - Error trying to connect to socket: closing socket - [Errno 11001] getaddrinfo failed\n"
          ]
        },
        {
          "name": "stdout",
          "output_type": "stream",
          "text": [
            "Creation date or expiration date is missing.\n",
            "An error occurred: unsupported operand type(s) for -: 'NoneType' and 'datetime.datetime'\n",
            "Timeout occurred while making the request to http://kickass.to/mother-daughter-exchange-club-38-2015-full-porn-movie-lesbian-taboo-family-sex-roleplay-teen-milf-t10642656.html\n",
            "Have At Sign\n",
            "An error occurred: unsupported operand type(s) for -: 'str' and 'str'\n",
            "An error occurred: unsupported operand type(s) for -: 'str' and 'datetime.datetime'\n",
            "Timeout occurred while making the request to http://olx.co.id/q-%7Bq%7D/bengkulu?utm_source=google&utm_medium=search&utm_campaign=search_organic&mappingUrl=1\n"
          ]
        },
        {
          "name": "stderr",
          "output_type": "stream",
          "text": [
            "2024-05-31 23:36:03,177 - whois.whois - ERROR - Error trying to connect to socket: closing socket - [Errno 11001] getaddrinfo failed\n"
          ]
        },
        {
          "name": "stdout",
          "output_type": "stream",
          "text": [
            "An error occurred: [WinError 10054] An existing connection was forcibly closed by the remote host\n"
          ]
        },
        {
          "name": "stderr",
          "output_type": "stream",
          "text": [
            "2024-05-31 23:36:08,248 - whois.whois - ERROR - Error trying to connect to socket: closing socket - timed out\n"
          ]
        },
        {
          "name": "stdout",
          "output_type": "stream",
          "text": [
            "Creation date or expiration date is missing.\n"
          ]
        },
        {
          "name": "stderr",
          "output_type": "stream",
          "text": [
            "2024-05-31 23:36:15,269 - whois.whois - ERROR - Error trying to connect to socket: closing socket - [WinError 10061] No connection could be made because the target machine actively refused it\n"
          ]
        },
        {
          "name": "stdout",
          "output_type": "stream",
          "text": [
            "Timeout occurred while making the request to http://depositphotos.com/search.html?st=0&image=1&vector=0&video=0&sorting=best_match&editorial_only=1&editorial_exclude=0&orientation=all&search_size=all&limit=60&nudity=0&query=boy\n",
            "Timeout occurred while making the request to http://olx.in/hi/uttaranchal/q-%7Bq%7D/?utm_source=google&utm_medium=search&utm_campaign=search_organic\n",
            "Timeout occurred while making the request to http://tune.pk/video/6050797/subh-e-pakistan-on-geo-news-%E2%80%93-13th-may-2015-part-1\n",
            "Creation date or expiration date is missing.\n",
            "An error occurred: unsupported operand type(s) for -: 'NoneType' and 'datetime.datetime'\n",
            "Timeout occurred while making the request to http://buzzfil.net/article/5662/photo-look/ingenieux-ce-qu-elle-fabrique-pour-amuser-ses-enfants-durant-l-ete-3.html?href=inner_website\n",
            "Timeout occurred while making the request to http://kickass.to/driverpack-solution-15-5-full-driverpack-s-15-04-5-team-os-hkrg-t10597131.html\n",
            "Creation date or expiration date is missing.\n",
            "An error occurred: unsupported operand type(s) for -: 'NoneType' and 'datetime.datetime'\n",
            "An error occurred: unsupported operand type(s) for -: 'str' and 'str'\n"
          ]
        },
        {
          "name": "stderr",
          "output_type": "stream",
          "text": [
            "2024-05-31 23:36:33,628 - whois.whois - ERROR - Error trying to connect to socket: closing socket - [Errno 11001] getaddrinfo failed\n"
          ]
        },
        {
          "name": "stdout",
          "output_type": "stream",
          "text": [
            "An error occurred: unsupported operand type(s) for -: 'str' and 'datetime.datetime'\n"
          ]
        },
        {
          "name": "stderr",
          "output_type": "stream",
          "text": [
            "2024-05-31 23:36:35,040 - whois.whois - ERROR - Error trying to connect to socket: closing socket - [Errno 11001] getaddrinfo failed\n"
          ]
        },
        {
          "name": "stdout",
          "output_type": "stream",
          "text": [
            "Timeout occurred while making the request to http://buzzfil.net/article/5677/non-classe/ces-marines-l-exemple-parfait-de-leurs-valeurs-de-base-3.html?href=inner_website\n"
          ]
        },
        {
          "name": "stderr",
          "output_type": "stream",
          "text": [
            "2024-05-31 23:36:46,267 - whois.whois - ERROR - Error trying to connect to socket: closing socket - [Errno 11001] getaddrinfo failed\n"
          ]
        },
        {
          "name": "stdout",
          "output_type": "stream",
          "text": [
            "Timeout occurred while making the request to http://depositphotos.com/search.html?st=0&image=1&vector=0&video=0&sorting=best_match&editorial_only=1&editorial_exclude=0&orientation=all&search_size=all&limit=60&nudity=0&query=cat\n",
            "An error occurred: unsupported operand type(s) for -: 'str' and 'str'\n",
            "An error occurred: unsupported operand type(s) for -: 'str' and 'datetime.datetime'\n",
            "An error occurred: unsupported operand type(s) for -: 'str' and 'str'\n",
            "An error occurred: unsupported operand type(s) for -: 'str' and 'datetime.datetime'\n",
            "Timeout occurred while making the request to http://olx.co.id/i2/hobi-olahraga/olahraga/olahraga-air/hobi-olahraga/olahraga/olahraga-air\n"
          ]
        },
        {
          "name": "stderr",
          "output_type": "stream",
          "text": [
            "2024-05-31 23:37:01,661 - whois.whois - ERROR - Error trying to connect to socket: closing socket - [Errno 11001] getaddrinfo failed\n"
          ]
        },
        {
          "name": "stdout",
          "output_type": "stream",
          "text": [
            "An error occurred: unsupported operand type(s) for -: 'str' and 'str'\n",
            "An error occurred: unsupported operand type(s) for -: 'str' and 'str'\n",
            "An error occurred: unsupported operand type(s) for -: 'str' and 'datetime.datetime'\n",
            "An error occurred: unsupported operand type(s) for -: 'str' and 'datetime.datetime'\n",
            "Timeout occurred while making the request to https://depositphotos.com/signup.html?type=seller&url=https%3A%2F%2Fdepositphotos.com%2Fexamination.html\n",
            "Have At Sign\n",
            "Creation date or expiration date is missing.\n",
            "An error occurred: unsupported operand type(s) for -: 'NoneType' and 'datetime.datetime'\n",
            "Creation date or expiration date is missing.\n",
            "An error occurred: unsupported operand type(s) for -: 'NoneType' and 'datetime.datetime'\n"
          ]
        },
        {
          "name": "stderr",
          "output_type": "stream",
          "text": [
            "2024-05-31 23:37:14,697 - whois.whois - ERROR - Error trying to connect to socket: closing socket - [Errno 11001] getaddrinfo failed\n"
          ]
        },
        {
          "name": "stdout",
          "output_type": "stream",
          "text": [
            "Creation date or expiration date is missing.\n"
          ]
        },
        {
          "name": "stderr",
          "output_type": "stream",
          "text": [
            "2024-05-31 23:37:24,876 - whois.whois - ERROR - Error trying to connect to socket: closing socket - [WinError 10061] No connection could be made because the target machine actively refused it\n"
          ]
        },
        {
          "name": "stdout",
          "output_type": "stream",
          "text": [
            "An error occurred: unsupported operand type(s) for -: 'NoneType' and 'datetime.datetime'\n",
            "Timeout occurred while making the request to http://depositphotos.com/login.html?url=%2Fstock-photos%2Fmodern-interior-design.html\n",
            "Timeout occurred while making the request to http://kickass.to/desktop-wallpapers-miscellaneous-1680x1050-2560x1600-225pcs-2015-jpg-t10632378.html\n",
            "Timeout occurred while making the request to http://udn.com/news/story/7332/900210-%E5%8F%88%E4%BE%86%E4%BA%86%EF%BC%81-3%E9%87%8E%E8%B1%AC%E9%97%96%E9%86%AB%E9%99%A2%E5%90%83%E8%8D%89\n",
            "Timeout occurred while making the request to http://olx.co.id/q-%7Bq%7D/jakarta-dki?utm_source=google&utm_medium=search&utm_campaign=search_organic&mappingUrl=1\n",
            "Creation date or expiration date is missing.\n",
            "An error occurred: unsupported operand type(s) for -: 'NoneType' and 'datetime.datetime'\n",
            "An error occurred: unsupported operand type(s) for -: 'str' and 'str'\n",
            "An error occurred: unsupported operand type(s) for -: 'str' and 'datetime.datetime'\n",
            "Timeout occurred while making the request to http://olx.co.id/hobi-olahraga/q-%7Bq%7D/?utm_source=google&utm_medium=search&utm_campaign=search_organic\n",
            "Timeout occurred while making the request to http://udn.com/news/story/7482/851431-%E3%80%8C%E9%98%BF%E5%B8%95%E5%A5%91%E5%A5%B3%E7%8E%8B%E3%80%8D%E6%9D%8E%E8%92%A8%E8%93%89%E7%9A%84%E6%98%8E%E5%A4%A9%E9%81%8E%E5%BE%8C%E2%80%A6\n",
            "Timeout occurred while making the request to http://olx.co.id/q-%7Bq%7D/nusa-tenggara-barat?utm_source=google&utm_medium=search&utm_campaign=search_organic&mappingUrl=1\n",
            "Timeout occurred while making the request to http://buzzfil.net/article/5617/vdm/wtf-il-est-a-l-hopital-parce-qu-il-a-tente-d-embrasser-un-serpent-3.html?href=inner_website\n",
            "Timeout occurred while making the request to http://moviepilot.com/posts/2015/05/13/this-oscar-winning-actor-is-officially-in-talks-for-the-lead-in-the-harry-potter-spinoff-fantastic-beasts-2930456\n",
            "An error occurred: unsupported operand type(s) for -: 'str' and 'str'\n",
            "An error occurred: unsupported operand type(s) for -: 'str' and 'datetime.datetime'\n",
            "Creation date or expiration date is missing.\n",
            "An error occurred: unsupported operand type(s) for -: 'NoneType' and 'datetime.datetime'\n",
            "Timeout occurred while making the request to http://depositphotos.com/search.html?st=0&image=1&vector=0&video=0&sorting=best_match&editorial_only=1&editorial_exclude=0&orientation=all&search_size=all&limit=60&nudity=0&query=baby\n",
            "Creation date or expiration date is missing.\n",
            "An error occurred: unsupported operand type(s) for -: 'NoneType' and 'datetime.datetime'\n",
            "Timeout occurred while making the request to http://moviepilot.com/posts/2014/09/16/matt-damon-and-paul-greengrass-reuniting-for-new-bourne-film-in-2016-2274205\n"
          ]
        },
        {
          "name": "stderr",
          "output_type": "stream",
          "text": [
            "2024-05-31 23:38:19,167 - whois.whois - ERROR - Error trying to connect to socket: closing socket - [Errno 11001] getaddrinfo failed\n"
          ]
        },
        {
          "name": "stdout",
          "output_type": "stream",
          "text": [
            "An error occurred: unsupported operand type(s) for -: 'str' and 'str'Creation date or expiration date is missing.\n",
            "\n",
            "An error occurred: unsupported operand type(s) for -: 'NoneType' and 'datetime.datetime'\n",
            "An error occurred: unsupported operand type(s) for -: 'str' and 'str'\n",
            "An error occurred: unsupported operand type(s) for -: 'str' and 'datetime.datetime'\n",
            "An error occurred: unsupported operand type(s) for -: 'str' and 'datetime.datetime'\n",
            "Timeout occurred while making the request to http://olx.co.id/i2/jasa-lowongan-kerja/cari-pekerjaan/freelance/jasa-lowongan-kerja/cari-pekerjaan/freelance\n",
            "Timeout occurred while making the request to http://buzzfil.net/article/5647/non-classe/cet-homme-plonge-dans-une-piscine-remplie-de-piranhas-pour-voir-s-ils-sont-vraiment-dangereux-2.html?href=inner_website\n",
            "An error occurred: unsupported operand type(s) for -: 'str' and 'str'\n",
            "An error occurred: unsupported operand type(s) for -: 'str' and 'datetime.datetime'\n",
            "Timeout occurred while making the request to http://xhamster.com/movies/4570778/ruined_orgasms_over_and_over_in_bondage_chair.html\n"
          ]
        },
        {
          "name": "stderr",
          "output_type": "stream",
          "text": [
            "2024-05-31 23:38:47,700 - whois.whois - ERROR - Error trying to connect to socket: closing socket - [Errno 11001] getaddrinfo failed\n"
          ]
        },
        {
          "name": "stdout",
          "output_type": "stream",
          "text": [
            "Timeout occurred while making the request to http://xhamster.com/movies/2645005/i_want_to_watch_you_suck_another_mans_cock.html?promo=1\n",
            "Creation date or expiration date is missing.\n",
            "Creation date or expiration date is missing.\n",
            "An error occurred: unsupported operand type(s) for -: 'NoneType' and 'datetime.datetime'\n",
            "Timeout occurred while making the request to http://tune.pk/video/6047618/jaguar-muzical-doctorz-sukhe-feat-bohemia-latest-punjabi-song-2015\n",
            "An error occurred: unsupported operand type(s) for -: 'NoneType' and 'datetime.datetime'\n",
            "Timeout occurred while making the request to http://olx.co.id/i2/hobi-olahraga/buku-majalah/buku-sekolah/hobi-olahraga/buku-majalah/buku-sekolah\n"
          ]
        },
        {
          "name": "stderr",
          "output_type": "stream",
          "text": [
            "2024-05-31 23:38:58,327 - whois.whois - ERROR - Error trying to connect to socket: closing socket - [WinError 10061] No connection could be made because the target machine actively refused it\n",
            "2024-05-31 23:39:08,548 - whois.whois - ERROR - Error trying to connect to socket: closing socket - timed out\n"
          ]
        },
        {
          "name": "stdout",
          "output_type": "stream",
          "text": [
            "An error occurred: unsupported operand type(s) for -: 'NoneType' and 'datetime.datetime'\n",
            "Timeout occurred while making the request to http://1337x.to/torrent/1109721/Seventh-Son-2015-720p-Hd-Dual-Audio-English-Hindi-PC-Exclusive/\n",
            "An error occurred: unsupported operand type(s) for -: 'str' and 'str'\n",
            "An error occurred: unsupported operand type(s) for -: 'str' and 'datetime.datetime'\n",
            "Timeout occurred while making the request to http://olx.co.id/m/iklanku/?ref%5B0%5D%5Baction%5D=index&ref%5B0%5D%5Bmethod%5D=index\n",
            "Timeout occurred while making the request to http://olx.in/hi/item/alappuzha-town-15-cent-3-bhk-house-percent-7-5-lakhs-IDTVv2x.html\n"
          ]
        },
        {
          "name": "stderr",
          "output_type": "stream",
          "text": [
            "2024-05-31 23:39:31,307 - whois.whois - ERROR - Error trying to connect to socket: closing socket - timed out\n"
          ]
        },
        {
          "name": "stdout",
          "output_type": "stream",
          "text": [
            "An error occurred: unsupported operand type(s) for -: 'NoneType' and 'datetime.datetime'\n",
            "Timeout occurred while making the request to http://maybank2u.com.my/mbb_info/m2u/public/personalList04.do?cntTypeId=0&channelId=CRD-Cards&programId=CRD03-DebitCards&cntKey=&chCatId=/mbb/Personal/CRD-Cards\n",
            "Timeout occurred while making the request to http://katproxy.com/fast-and-furious-7-2015-1080p-hdrip-x264-ac3-jyk-t10626365.html\n",
            "Timeout occurred while making the request to http://depositphotos.com/34608681/stock-illustration-vector-abstract-3d-road-infographics.html\n",
            "Timeout occurred while making the request to http://9gag.tv/p/a5w3GA/33-exotic-classic-cars-roar-to-life-to-create-this-epic-symphony-getting-started\n",
            "Creation date or expiration date is missing.\n",
            "An error occurred: unsupported operand type(s) for -: 'str' and 'str'\n",
            "An error occurred: unsupported operand type(s) for -: 'NoneType' and 'datetime.datetime'\n",
            "An error occurred: unsupported operand type(s) for -: 'str' and 'datetime.datetime'\n",
            "An error occurred: unsupported operand type(s) for -: 'str' and 'str'\n",
            "An error occurred: unsupported operand type(s) for -: 'str' and 'str'\n",
            "An error occurred: unsupported operand type(s) for -: 'str' and 'datetime.datetime'\n",
            "Have At Sign\n",
            "An error occurred: unsupported operand type(s) for -: 'str' and 'datetime.datetime'\n"
          ]
        },
        {
          "name": "stderr",
          "output_type": "stream",
          "text": [
            "2024-05-31 23:39:47,588 - whois.whois - ERROR - Error trying to connect to socket: closing socket - [Errno 11001] getaddrinfo failed\n"
          ]
        },
        {
          "name": "stdout",
          "output_type": "stream",
          "text": [
            "An error occurred: unsupported operand type(s) for -: 'str' and 'str'\n",
            "Timeout occurred while making the request to http://tune.pk/video/6050780/subh-e-pakistan-on-geo-news-%E2%80%93-13th-may-2015-part-2\n",
            "An error occurred: unsupported operand type(s) for -: 'str' and 'datetime.datetime'\n"
          ]
        },
        {
          "name": "stderr",
          "output_type": "stream",
          "text": [
            "2024-05-31 23:39:52,567 - whois.whois - ERROR - Error trying to connect to socket: closing socket - [Errno 11001] getaddrinfo failed\n"
          ]
        },
        {
          "name": "stdout",
          "output_type": "stream",
          "text": [
            "An error occurred: unsupported operand type(s) for -: 'str' and 'str'\n",
            "Creation date or expiration date is missing.\n",
            "An error occurred: unsupported operand type(s) for -: 'NoneType' and 'datetime.datetime'\n",
            "An error occurred: unsupported operand type(s) for -: 'str' and 'datetime.datetime'\n",
            "Timeout occurred while making the request to http://buzzfil.net/m/show-art/ils-etaient-loin-de-s-imaginer-que-le-hibou-allait-faire-ceci-quand-ils-filmaient-2.html\n"
          ]
        },
        {
          "name": "stderr",
          "output_type": "stream",
          "text": [
            "2024-05-31 23:40:03,209 - whois.whois - ERROR - Error trying to connect to socket: closing socket - [Errno 11001] getaddrinfo failed\n",
            "2024-05-31 23:40:05,061 - whois.whois - ERROR - Error trying to connect to socket: closing socket - [Errno 11001] getaddrinfo failed\n",
            "2024-05-31 23:40:06,582 - whois.whois - ERROR - Error trying to connect to socket: closing socket - [Errno 11001] getaddrinfo failed\n"
          ]
        },
        {
          "name": "stdout",
          "output_type": "stream",
          "text": [
            "Timeout occurred while making the request to http://depositphotos.com/stock-photos/%D0%B6%D0%B8%D0%B2%D0%BE%D1%82%D0%BD%D1%8B%D0%B5.html\n"
          ]
        },
        {
          "name": "stderr",
          "output_type": "stream",
          "text": [
            "2024-05-31 23:40:10,646 - whois.whois - ERROR - Error trying to connect to socket: closing socket - [Errno 11001] getaddrinfo failed\n"
          ]
        },
        {
          "name": "stdout",
          "output_type": "stream",
          "text": [
            "Timeout occurred while making the request to http://buzzfil.net/article/5433/lol/85-pires-messages-sur-les-reseaux-sociaux-a-mourir-de-rire-9.html?href=inner_website\n",
            "An error occurred: unsupported operand type(s) for -: 'str' and 'str'\n",
            "An error occurred: unsupported operand type(s) for -: 'str' and 'datetime.datetime'\n",
            "Creation date or expiration date is missing.\n",
            "An error occurred: unsupported operand type(s) for -: 'NoneType' and 'datetime.datetime'\n",
            "Timeout occurred while making the request to http://depositphotos.com/login.html?url=%2Fsubscribe.html%3FbackURL%255Bpage%255D%3D%252Fcontact_us.html%26backURL%255Bexclude%255D%255B0%255D%3Dlogin\n"
          ]
        },
        {
          "name": "stderr",
          "output_type": "stream",
          "text": [
            "2024-05-31 23:40:21,625 - whois.whois - ERROR - Error trying to connect to socket: closing socket - [WinError 10061] No connection could be made because the target machine actively refused it\n"
          ]
        },
        {
          "name": "stdout",
          "output_type": "stream",
          "text": [
            "Timeout occurred while making the request to http://9gag.tv/p/aK1rMJ/8fact-8-facts-about-aaron-paul-that-will-make-you-love-him-more-breaking-bad\n"
          ]
        },
        {
          "name": "stderr",
          "output_type": "stream",
          "text": [
            "2024-05-31 23:40:28,123 - whois.whois - ERROR - Error trying to connect to socket: closing socket - [Errno 11001] getaddrinfo failed\n"
          ]
        },
        {
          "name": "stdout",
          "output_type": "stream",
          "text": [
            "Timeout occurred while making the request to http://techcrunch.com/2015/05/13/walmart-to-test-a-free-three-day-shipping-service-thats-half-the-price-of-amazon-prime/\n",
            "Timeout occurred while making the request to http://kickass.to/learn-and-master-piano-14-dvds-5-cds-and-lesson-book-dvdrip-t3018008.html\n",
            "Timeout occurred while making the request to http://olx.in/hi/all-results/q-%7Bq%7D/?utm_source=google&utm_medium=search&utm_campaign=search_organic&page=10\n",
            "Timeout occurred while making the request to http://xhamster.com/movies/2028125/cute_chubby_mature_amateur_richelle_loves_to_fuck.html?promo=1\n",
            "Timeout occurred while making the request to http://olx.co.id/i2/jasa-lowongan-kerja/jasa/jasa-lainnya/jasa-lowongan-kerja/jasa/jasa-lainnya\n",
            "Timeout occurred while making the request to http://olx.co.id/i2/hobi-olahraga/koleksi/uang-dan-koin/hobi-olahraga/koleksi/uang-dan-koin\n",
            "Creation date or expiration date is missing.\n",
            "An error occurred: unsupported operand type(s) for -: 'NoneType' and 'datetime.datetime'\n",
            "An error occurred: unsupported operand type(s) for -: 'str' and 'str'\n",
            "An error occurred: unsupported operand type(s) for -: 'str' and 'str'\n",
            "An error occurred: unsupported operand type(s) for -: 'str' and 'datetime.datetime'\n",
            "An error occurred: unsupported operand type(s) for -: 'str' and 'datetime.datetime'\n"
          ]
        },
        {
          "name": "stderr",
          "output_type": "stream",
          "text": [
            "2024-05-31 23:40:47,341 - whois.whois - ERROR - Error trying to connect to socket: closing socket - [Errno 11001] getaddrinfo failed\n"
          ]
        },
        {
          "name": "stdout",
          "output_type": "stream",
          "text": [
            "Timeout occurred while making the request to http://allrecipes.com/Recipe/Apple-Pie-by-Grandma-Ople/Detail.aspx?evt19=1&referringHubId=1\n",
            "An error occurred: unsupported operand type(s) for -: 'str' and 'str'\n",
            "An error occurred: unsupported operand type(s) for -: 'str' and 'datetime.datetime'\n"
          ]
        },
        {
          "name": "stderr",
          "output_type": "stream",
          "text": [
            "2024-05-31 23:40:57,415 - whois.whois - ERROR - Error trying to connect to socket: closing socket - [Errno 11001] getaddrinfo failed\n"
          ]
        },
        {
          "name": "stdout",
          "output_type": "stream",
          "text": [
            "An error occurred: unsupported operand type(s) for -: 'str' and 'str'\n",
            "An error occurred: unsupported operand type(s) for -: 'str' and 'datetime.datetime'\n"
          ]
        },
        {
          "name": "stderr",
          "output_type": "stream",
          "text": [
            "2024-05-31 23:41:09,773 - whois.whois - ERROR - Error trying to connect to socket: closing socket - [Errno 11001] getaddrinfo failed\n"
          ]
        },
        {
          "name": "stdout",
          "output_type": "stream",
          "text": [
            "Timeout occurred while making the request to http://buzzfil.net/m/show-art/la-maniere-dont-cette-femelle-orang-outan-s-occupe-de-trois-bebes-tigres-est-extraordinaire-2.html\n",
            "Timeout occurred while making the request to http://tune.pk/video/6045699/wahab-riaz-amp-sakib-al-hasan-came-to-blows-in-last-day-test-match-2015\n",
            "An error occurred: unsupported operand type(s) for -: 'str' and 'str'\n",
            "An error occurred: unsupported operand type(s) for -: 'str' and 'datetime.datetime'\n"
          ]
        },
        {
          "name": "stderr",
          "output_type": "stream",
          "text": [
            "2024-05-31 23:41:20,049 - whois.whois - ERROR - Error trying to connect to socket: closing socket - [Errno 11001] getaddrinfo failed\n",
            "2024-05-31 23:41:22,091 - whois.whois - ERROR - Error trying to connect to socket: closing socket - [Errno 11001] getaddrinfo failed\n"
          ]
        },
        {
          "name": "stdout",
          "output_type": "stream",
          "text": [
            "Timeout occurred while making the request to http://yourlust.com/videos/texas-bbw-gal-pounding-her-fat-ass-giant-chubby-tits-ass.html\n",
            "An error occurred: unsupported operand type(s) for -: 'str' and 'str'\n"
          ]
        },
        {
          "name": "stderr",
          "output_type": "stream",
          "text": [
            "2024-05-31 23:41:25,422 - whois.whois - ERROR - Error trying to connect to socket: closing socket - [Errno 11001] getaddrinfo failed\n"
          ]
        },
        {
          "name": "stdout",
          "output_type": "stream",
          "text": [
            "An error occurred: unsupported operand type(s) for -: 'str' and 'datetime.datetime'\n"
          ]
        },
        {
          "name": "stderr",
          "output_type": "stream",
          "text": [
            "2024-05-31 23:41:26,515 - whois.whois - ERROR - Error trying to connect to socket: closing socket - timed out\n"
          ]
        },
        {
          "name": "stdout",
          "output_type": "stream",
          "text": [
            "An error occurred: unsupported operand type(s) for -: 'str' and 'str'\n",
            "An error occurred: unsupported operand type(s) for -: 'str' and 'datetime.datetime'\n",
            "Timeout occurred while making the request to http://olx.in/hi/i2/item/deill-vostro-1310-core-2-duo-2-pieces-mint-condition-in-21500-only-IDWjz0d.html\n",
            "Timeout occurred while making the request to http://olx.in/hi/account/?origin=observepopup&ref%5B0%5D%5Baction%5D=ads&ref%5B0%5D%5Bmethod%5D=index&ref%5B0%5D%5Bparams%5D%5Bq%5D=tv&ref%5B0%5D%5Bcategory%5D=5&ref%5B0%5D%5Bregion%5D=1163&ref%5B0%5D%5Bsubregion%5D=58998&ref%5B0%5D%5Bcity%5D=58998\n"
          ]
        },
        {
          "name": "stderr",
          "output_type": "stream",
          "text": [
            "2024-05-31 23:41:42,539 - whois.whois - ERROR - Error trying to connect to socket: closing socket - [Errno 11001] getaddrinfo failed\n"
          ]
        },
        {
          "name": "stdout",
          "output_type": "stream",
          "text": [
            "An error occurred: unsupported operand type(s) for -: 'str' and 'str'\n",
            "Timeout occurred while making the request to http://olx.co.id/i2/keperluan-pribadi/perhiasan/cincin/keperluan-pribadi/perhiasan/cincin\n",
            "An error occurred: unsupported operand type(s) for -: 'str' and 'datetime.datetime'\n",
            "Timeout occurred while making the request to http://buzzfil.net/article/5225/c-mignon/elle-sut-que-sa-chienne-avait-le-cancer-et-fit-une-chose-incroyable-pour-embellir-ses-derniers-jours-2.html?href=inner_website\n",
            "An error occurred: unsupported operand type(s) for -: 'str' and 'str'\n",
            "Timeout occurred while making the request to http://nymag.com/thecut/2013/08/lady-gaga-one-upped-selena-gomezs-vmas-outfit/slideshow/2012/08/01/lady_gaga\n",
            "An error occurred: unsupported operand type(s) for -: 'str' and 'datetime.datetime'\n"
          ]
        },
        {
          "name": "stderr",
          "output_type": "stream",
          "text": [
            "2024-05-31 23:41:49,828 - whois.whois - ERROR - Error trying to connect to socket: closing socket - [Errno 11001] getaddrinfo failed\n"
          ]
        },
        {
          "name": "stdout",
          "output_type": "stream",
          "text": [
            "Timeout occurred while making the request to http://olx.co.id/i2/hobi-olahraga/alat-alat-musik/gitar-bass/hobi-olahraga/alat-alat-musik/gitar-bass\n",
            "Timeout occurred while making the request to http://olx.co.id/papua-barat/q-%7Bq%7D/?utm_source=google&utm_medium=search&utm_campaign=search_organic\n"
          ]
        },
        {
          "name": "stderr",
          "output_type": "stream",
          "text": [
            "2024-05-31 23:41:58,048 - whois.whois - ERROR - Error trying to connect to socket: closing socket - [Errno 11001] getaddrinfo failed\n"
          ]
        },
        {
          "name": "stdout",
          "output_type": "stream",
          "text": [
            "Timeout occurred while making the request to http://depositphotos.com/login.html?url=%2F7888251%2Fstock-photo-cafe-with-stone-wall.html\n"
          ]
        },
        {
          "name": "stderr",
          "output_type": "stream",
          "text": [
            "2024-05-31 23:42:07,109 - whois.whois - ERROR - Error trying to connect to socket: closing socket - [Errno 11001] getaddrinfo failed\n",
            "2024-05-31 23:42:07,849 - whois.whois - ERROR - Error trying to connect to socket: closing socket - [WinError 10061] No connection could be made because the target machine actively refused it\n",
            "2024-05-31 23:42:08,252 - whois.whois - ERROR - Error trying to connect to socket: closing socket - [Errno 11001] getaddrinfo failed\n"
          ]
        },
        {
          "name": "stdout",
          "output_type": "stream",
          "text": [
            "An error occurred: unsupported operand type(s) for -: 'str' and 'str'Creation date or expiration date is missing.\n",
            "\n",
            "An error occurred: unsupported operand type(s) for -: 'str' and 'datetime.datetime'\n",
            "An error occurred: unsupported operand type(s) for -: 'NoneType' and 'datetime.datetime'\n",
            "Timeout occurred while making the request to http://olx.co.id/i2/elektronik-gadget/elektronik-rumah-tangga/kipas-angin-ac-exhaust/\n"
          ]
        },
        {
          "name": "stderr",
          "output_type": "stream",
          "text": [
            "2024-05-31 23:42:13,058 - whois.whois - ERROR - Error trying to connect to socket: closing socket - [Errno 11001] getaddrinfo failed\n",
            "2024-05-31 23:42:13,757 - whois.whois - ERROR - Error trying to connect to socket: closing socket - [Errno 11001] getaddrinfo failed\n"
          ]
        },
        {
          "name": "stdout",
          "output_type": "stream",
          "text": [
            "Timeout occurred while making the request to http://xhamster.com/movies/4581513/extrem_geile_milf_aus_nuernberg_hart_genagelt.html?s=9\n",
            "Timeout occurred while making the request to http://1337x.to/torrent/1154931/Angels-2014-Malayalam-DVDRip-x264-AAC-5-1-E-Subs-MBRHDRG/\n"
          ]
        },
        {
          "name": "stderr",
          "output_type": "stream",
          "text": [
            "2024-05-31 23:42:25,608 - whois.whois - ERROR - Error trying to connect to socket: closing socket - timed out\n"
          ]
        },
        {
          "name": "stdout",
          "output_type": "stream",
          "text": [
            "Creation date or expiration date is missing.\n"
          ]
        },
        {
          "name": "stderr",
          "output_type": "stream",
          "text": [
            "2024-05-31 23:42:27,842 - whois.whois - ERROR - Error trying to connect to socket: closing socket - [Errno 11001] getaddrinfo failed\n",
            "2024-05-31 23:42:29,454 - whois.whois - ERROR - Error trying to connect to socket: closing socket - [Errno 11001] getaddrinfo failed\n"
          ]
        },
        {
          "name": "stdout",
          "output_type": "stream",
          "text": [
            "Timeout occurred while making the request to http://depositphotos.com/login.html?url=%2F7899229%2Fstock-photo-operation-in-dental-clinic.html\n",
            "Creation date or expiration date is missing.\n",
            "An error occurred: unsupported operand type(s) for -: 'NoneType' and 'datetime.datetime'\n",
            "An error occurred: unsupported operand type(s) for -: 'str' and 'str'\n",
            "An error occurred: unsupported operand type(s) for -: 'str' and 'datetime.datetime'\n"
          ]
        },
        {
          "name": "stderr",
          "output_type": "stream",
          "text": [
            "2024-05-31 23:42:42,221 - whois.whois - ERROR - Error trying to connect to socket: closing socket - [Errno 11001] getaddrinfo failed\n",
            "2024-05-31 23:42:43,668 - whois.whois - ERROR - Error trying to connect to socket: closing socket - [Errno 11001] getaddrinfo failed\n"
          ]
        },
        {
          "name": "stdout",
          "output_type": "stream",
          "text": [
            "Timeout occurred while making the request to http://katproxy.com/the-coasters-50-coastin-classics-1992-flac-vtwin88cube-t10641507.html\n",
            "Timeout occurred while making the request to http://zozo.jp/shop/ameliermajesticlegon/?price=proper&p_ssy=2015&p_ssm=5&p_ssd=13&p_sey=2015&p_sem=5&p_sed=13&dstk=2\n",
            "Timeout occurred while making the request to http://buzzfil.net/article/5529/c-mignon/regardez-ce-que-fait-ce-beau-bebe-lorsque-son-pere-souffle-un-pissenlit-trop-mignon-9.html?href=inner_website\n"
          ]
        },
        {
          "name": "stderr",
          "output_type": "stream",
          "text": [
            "2024-05-31 23:42:59,422 - whois.whois - ERROR - Error trying to connect to socket: closing socket - [Errno 11001] getaddrinfo failed\n"
          ]
        },
        {
          "name": "stdout",
          "output_type": "stream",
          "text": [
            "Creation date or expiration date is missing.\n",
            "An error occurred: unsupported operand type(s) for -: 'NoneType' and 'datetime.datetime'\n"
          ]
        },
        {
          "name": "stderr",
          "output_type": "stream",
          "text": [
            "2024-05-31 23:43:03,469 - whois.whois - ERROR - Error trying to connect to socket: closing socket - [Errno 11001] getaddrinfo failed\n"
          ]
        },
        {
          "name": "stdout",
          "output_type": "stream",
          "text": [
            "Creation date or expiration date is missing.\n",
            "An error occurred: unsupported operand type(s) for -: 'NoneType' and 'datetime.datetime'\n",
            "An error occurred: unsupported operand type(s) for -: 'str' and 'str'\n",
            "An error occurred: unsupported operand type(s) for -: 'str' and 'datetime.datetime'\n",
            "Timeout occurred while making the request to http://buzzfil.net/m/show-art/les-fanatiques-d-histoires-comprendront-ces-21-blagues-tres-droles-3.html\n",
            "Timeout occurred while making the request to http://buzzfil.net/article/5400/vdm/voici-le-top-13-des-meilleures-repliques-jamais-vues-2.html?href=inner_website\n",
            "Creation date or expiration date is missing.\n",
            "An error occurred: unsupported operand type(s) for -: 'NoneType' and 'datetime.datetime'\n",
            "An error occurred: unsupported operand type(s) for -: 'str' and 'str'\n",
            "An error occurred: unsupported operand type(s) for -: 'str' and 'datetime.datetime'\n",
            "An error occurred: unsupported operand type(s) for -: 'str' and 'str'\n",
            "Timeout occurred while making the request to http://katproxy.com/desktop-wallpapers-miscellaneous-1680x1050-2560x1600-111pcs-2015-jpg-t10600359.html\n",
            "An error occurred: unsupported operand type(s) for -: 'str' and 'datetime.datetime'\n",
            "An error occurred: unsupported operand type(s) for -: 'str' and 'str'\n",
            "An error occurred: unsupported operand type(s) for -: 'str' and 'str'\n"
          ]
        },
        {
          "name": "stderr",
          "output_type": "stream",
          "text": [
            "2024-05-31 23:43:41,766 - whois.whois - ERROR - Error trying to connect to socket: closing socket - timed out\n"
          ]
        },
        {
          "name": "stdout",
          "output_type": "stream",
          "text": [
            "Creation date or expiration date is missing.\n",
            "An error occurred: unsupported operand type(s) for -: 'str' and 'datetime.datetime'\n",
            "An error occurred: unsupported operand type(s) for -: 'str' and 'datetime.datetime'\n"
          ]
        },
        {
          "name": "stderr",
          "output_type": "stream",
          "text": [
            "2024-05-31 23:43:43,111 - whois.whois - ERROR - Error trying to connect to socket: closing socket - [Errno 11001] getaddrinfo failed\n",
            "2024-05-31 23:43:43,783 - whois.whois - ERROR - Error trying to connect to socket: closing socket - [Errno 11001] getaddrinfo failed\n"
          ]
        },
        {
          "name": "stdout",
          "output_type": "stream",
          "text": [
            "An error occurred: unsupported operand type(s) for -: 'str' and 'str'\n",
            "Creation date or expiration date is missing.\n",
            "An error occurred: unsupported operand type(s) for -: 'str' and 'datetime.datetime'\n",
            "An error occurred: unsupported operand type(s) for -: 'NoneType' and 'datetime.datetime'\n"
          ]
        },
        {
          "name": "stderr",
          "output_type": "stream",
          "text": [
            "2024-05-31 23:43:48,760 - whois.whois - ERROR - Error trying to connect to socket: closing socket - [Errno 11001] getaddrinfo failed\n",
            "2024-05-31 23:43:50,819 - whois.whois - ERROR - Error trying to connect to socket: closing socket - [Errno 11001] getaddrinfo failed\n"
          ]
        },
        {
          "name": "stdout",
          "output_type": "stream",
          "text": [
            "Timeout occurred while making the request to http://udn.com/news/story/7088/898402-%E5%BE%AE%E8%BB%9F%E5%BB%BA%E9%80%A0%E4%B8%89%E7%B5%84%E6%B5%B7%E5%BA%95%E9%9B%BB%E7%BA%9C-%E5%B8%B6%E5%8B%95%E7%B6%B2%E8%B7%AF%E5%82%B3%E8%BC%B8\n"
          ]
        },
        {
          "name": "stderr",
          "output_type": "stream",
          "text": [
            "2024-05-31 23:44:03,146 - whois.whois - ERROR - Error trying to connect to socket: closing socket - [Errno 11001] getaddrinfo failed\n"
          ]
        },
        {
          "name": "stdout",
          "output_type": "stream",
          "text": [
            "Timeout occurred while making the request to http://xhamster.com/movies/4558822/blacked_petite_blonde_screams_on_huge_black_dick.html\n",
            "Creation date or expiration date is missing.\n"
          ]
        },
        {
          "name": "stderr",
          "output_type": "stream",
          "text": [
            "2024-05-31 23:44:07,666 - whois.whois - ERROR - Error trying to connect to socket: closing socket - [Errno 11001] getaddrinfo failed\n"
          ]
        },
        {
          "name": "stdout",
          "output_type": "stream",
          "text": [
            "An error occurred: unsupported operand type(s) for -: 'str' and 'str'\n",
            "An error occurred: unsupported operand type(s) for -: 'str' and 'datetime.datetime'\n"
          ]
        },
        {
          "name": "stderr",
          "output_type": "stream",
          "text": [
            "2024-05-31 23:44:12,202 - whois.whois - ERROR - Error trying to connect to socket: closing socket - [Errno 11001] getaddrinfo failed\n",
            "2024-05-31 23:44:13,297 - whois.whois - ERROR - Error trying to connect to socket: closing socket - [Errno 11001] getaddrinfo failed\n",
            "2024-05-31 23:44:15,085 - whois.whois - ERROR - Error trying to connect to socket: closing socket - timed out\n"
          ]
        },
        {
          "name": "stdout",
          "output_type": "stream",
          "text": [
            "An error occurred: unsupported operand type(s) for -: 'NoneType' and 'datetime.datetime'\n",
            "Timeout occurred while making the request to http://olx.co.id/i2/perlengkapan-bayi-anak/buku-anak-anak/perlengkapan-bayi-anak/buku-anak-anak\n",
            "Timeout occurred while making the request to http://tune.pk/video/6046061/ab-de-villiers-and-hashim-amla-press-conference-dec-2nd\n",
            "Creation date or expiration date is missing.\n",
            "An error occurred: unsupported operand type(s) for -: 'NoneType' and 'datetime.datetime'\n",
            "Timeout occurred while making the request to http://oneplus.net/support/answer/can-i-change-my-charger-to-a-u-s-europe-u-k-one-in-my-order\n"
          ]
        },
        {
          "name": "stderr",
          "output_type": "stream",
          "text": [
            "2024-05-31 23:44:34,015 - whois.whois - ERROR - Error trying to connect to socket: closing socket - timed out\n",
            "2024-05-31 23:44:39,550 - whois.whois - ERROR - Error trying to connect to socket: closing socket - [Errno 11001] getaddrinfo failed\n",
            "2024-05-31 23:44:44,078 - whois.whois - ERROR - Error trying to connect to socket: closing socket - timed out\n"
          ]
        },
        {
          "name": "stdout",
          "output_type": "stream",
          "text": [
            "Timeout occurred while making the request to http://katproxy.com/horriblesubs-assassination-classroom-16-720p-mkv-t10620200.html\n",
            "Creation date or expiration date is missing.\n",
            "An error occurred: unsupported operand type(s) for -: 'NoneType' and 'datetime.datetime'\n"
          ]
        },
        {
          "name": "stderr",
          "output_type": "stream",
          "text": [
            "2024-05-31 23:44:50,966 - whois.whois - ERROR - Error trying to connect to socket: closing socket - [Errno 11001] getaddrinfo failed\n"
          ]
        },
        {
          "name": "stdout",
          "output_type": "stream",
          "text": [
            "Timeout occurred while making the request to http://b9dm.com/index.php/video/index.php/video/show/cid/56/order/video/index.php/video/show/cid/56/order/video/show\n",
            "Timeout occurred while making the request to http://olx.in/i2/all-results/?q={q}&utm_source=google&utm_medium=search&utm_campaign=search_organic\n"
          ]
        },
        {
          "name": "stderr",
          "output_type": "stream",
          "text": [
            "2024-05-31 23:44:54,520 - whois.whois - ERROR - Error trying to connect to socket: closing socket - [WinError 10061] No connection could be made because the target machine actively refused it\n",
            "2024-05-31 23:44:58,284 - whois.whois - ERROR - Error trying to connect to socket: closing socket - [Errno 11001] getaddrinfo failed\n",
            "2024-05-31 23:45:00,059 - whois.whois - ERROR - Error trying to connect to socket: closing socket - [WinError 10061] No connection could be made because the target machine actively refused it\n",
            "2024-05-31 23:45:01,197 - whois.whois - ERROR - Error trying to connect to socket: closing socket - timed out\n"
          ]
        },
        {
          "name": "stdout",
          "output_type": "stream",
          "text": [
            "An error occurred: unsupported operand type(s) for -: 'str' and 'str'\n"
          ]
        },
        {
          "name": "stderr",
          "output_type": "stream",
          "text": [
            "2024-05-31 23:45:05,581 - whois.whois - ERROR - Error trying to connect to socket: closing socket - [Errno 11001] getaddrinfo failed\n"
          ]
        },
        {
          "name": "stdout",
          "output_type": "stream",
          "text": [
            "An error occurred: unsupported operand type(s) for -: 'str' and 'datetime.datetime'\n"
          ]
        },
        {
          "name": "stderr",
          "output_type": "stream",
          "text": [
            "2024-05-31 23:45:07,831 - whois.whois - ERROR - Error trying to connect to socket: closing socket - [Errno 11001] getaddrinfo failed\n",
            "2024-05-31 23:45:11,107 - whois.whois - ERROR - Error trying to connect to socket: closing socket - [Errno 11001] getaddrinfo failed\n"
          ]
        },
        {
          "name": "stdout",
          "output_type": "stream",
          "text": [
            "Timeout occurred while making the request to http://1337x.to/torrent/1160230/Learn-Wordpress-By-Watching-How-I-Create-a-FULL-Website/\n",
            "Have At Sign\n",
            "Timeout occurred while making the request to http://katproxy.com/desktop-wallpapers-girls-1680x1050-2560x1600-124pcs-2015-jpg-t10628520.html\n",
            "Timeout occurred while making the request to http://olx.co.id/i2/keperluan-pribadi/make-up-parfum/keperluan-pribadi/make-up-parfum\n",
            "An error occurred: unsupported operand type(s) for -: 'str' and 'str'\n"
          ]
        },
        {
          "name": "stderr",
          "output_type": "stream",
          "text": [
            "2024-05-31 23:45:20,808 - whois.whois - ERROR - Error trying to connect to socket: closing socket - [Errno 11001] getaddrinfo failed\n"
          ]
        },
        {
          "name": "stdout",
          "output_type": "stream",
          "text": [
            "An error occurred: unsupported operand type(s) for -: 'str' and 'datetime.datetime'\n",
            "Have At Sign\n"
          ]
        },
        {
          "name": "stderr",
          "output_type": "stream",
          "text": [
            "2024-05-31 23:45:28,947 - whois.whois - ERROR - Error trying to connect to socket: closing socket - [Errno 11001] getaddrinfo failed\n"
          ]
        },
        {
          "name": "stdout",
          "output_type": "stream",
          "text": [
            "Timeout occurred while making the request to http://olx.in/hi/real-estate/q-%7Bq%7D/?utm_source=google&utm_medium=search&utm_campaign=search_organic\n",
            "Timeout occurred while making the request to http://xhamster.com/movies/4569737/blowjob_and_handjob_by_wild_czech_casting_girl.html\n",
            "Creation date or expiration date is missing.\n",
            "An error occurred: unsupported operand type(s) for -: 'NoneType' and 'datetime.datetime'\n",
            "Creation date or expiration date is missing.\n",
            "An error occurred: unsupported operand type(s) for -: 'NoneType' and 'datetime.datetime'\n"
          ]
        },
        {
          "name": "stderr",
          "output_type": "stream",
          "text": [
            "2024-05-31 23:45:40,721 - whois.whois - ERROR - Error trying to connect to socket: closing socket - [Errno 11001] getaddrinfo failed\n"
          ]
        },
        {
          "name": "stdout",
          "output_type": "stream",
          "text": [
            "Timeout occurred while making the request to http://buzzfil.net/article/5284/vdm/voici-les-images-les-plus-insolites-jamais-vus-2.html?href=inner_website\n",
            "Timeout occurred while making the request to http://yourlust.com/videos/frantic-european-blondie-rocks-the-show-with-masturbation-solo.html\n",
            "Timeout occurred while making the request to http://olx.co.id/i2/elektronik-gadget/handphone/xiaomi/elektronik-gadget/handphone/xiaomi\n",
            "Timeout occurred while making the request to http://bmi.ir/wEPDwUJODU5NTc0MDkwD2QWAmYPZBYCAgMPZBYCAgEPZBYCAgEPZBYCAgEPZBYCAgEPFgIeBFRleHQFOtii2LHZhSDYqNin2YbZgyDZhdmE2Yog2Ygg2obZhtivINin2LXZhNin2K0g2q/Ysdin2YHZitmD2YpkZJYmMnzHr5Vj95eHvEgXfiu6ML2f\n",
            "An error occurred: unsupported operand type(s) for -: 'str' and 'str'\n",
            "Creation date or expiration date is missing.\n",
            "An error occurred: unsupported operand type(s) for -: 'NoneType' and 'datetime.datetime'\n",
            "An error occurred: unsupported operand type(s) for -: 'str' and 'datetime.datetime'\n",
            "Creation date or expiration date is missing.\n",
            "An error occurred: unsupported operand type(s) for -: 'NoneType' and 'datetime.datetime'\n"
          ]
        },
        {
          "name": "stderr",
          "output_type": "stream",
          "text": [
            "2024-05-31 23:45:57,949 - whois.whois - ERROR - Error trying to connect to socket: closing socket - [Errno 11001] getaddrinfo failed\n",
            "2024-05-31 23:45:59,360 - whois.whois - ERROR - Error trying to connect to socket: closing socket - [WinError 10061] No connection could be made because the target machine actively refused it\n"
          ]
        },
        {
          "name": "stdout",
          "output_type": "stream",
          "text": [
            "Have At Sign\n"
          ]
        },
        {
          "name": "stderr",
          "output_type": "stream",
          "text": [
            "2024-05-31 23:46:08,528 - whois.whois - ERROR - Error trying to connect to socket: closing socket - [Errno 11001] getaddrinfo failed\n"
          ]
        },
        {
          "name": "stdout",
          "output_type": "stream",
          "text": [
            "Timeout occurred while making the request to http://kickass.to/community/show/kat-working-proxies-adding-proxies-only/?post=16468139\n",
            "Timeout occurred while making the request to http://depositphotos.com/affiliate.html?backURL%5Bpage%5D=%2F63188155%2Fstock-photo-double-exposure-of-traveler-and.html&backURL%5Bexclude%5D%5B0%5D=login\n"
          ]
        },
        {
          "name": "stderr",
          "output_type": "stream",
          "text": [
            "2024-05-31 23:46:19,359 - whois.whois - ERROR - Error trying to connect to socket: closing socket - [Errno 11001] getaddrinfo failed\n"
          ]
        },
        {
          "name": "stdout",
          "output_type": "stream",
          "text": [
            "Timeout occurred while making the request to http://katproxy.com/empire-cast-original-soundtrack-from-season-1-of-empire-deluxe-2015-mp3-vbuc-t10326875.html\n",
            "An error occurred: unsupported operand type(s) for -: 'str' and 'str'\n"
          ]
        },
        {
          "name": "stderr",
          "output_type": "stream",
          "text": [
            "2024-05-31 23:46:23,415 - whois.whois - ERROR - Error trying to connect to socket: closing socket - [WinError 10061] No connection could be made because the target machine actively refused it\n"
          ]
        },
        {
          "name": "stdout",
          "output_type": "stream",
          "text": [
            "An error occurred: unsupported operand type(s) for -: 'str' and 'datetime.datetime'\n",
            "An error occurred: unsupported operand type(s) for -: 'str' and 'str'\n",
            "An error occurred: unsupported operand type(s) for -: 'str' and 'datetime.datetime'\n",
            "Creation date or expiration date is missing.\n"
          ]
        }
      ],
      "source": [
        "from concurrent.futures import ThreadPoolExecutor\n",
        "from tqdm.notebook import tqdm_notebook\n",
        "\n",
        "# Function to extract features\n",
        "def process_url(url, label):\n",
        "    return featureExtraction(url, label)\n",
        "\n",
        "# Number of threads to use\n",
        "num_threads = 14\n",
        "\n",
        "# Extracting the features and storing them in a list\n",
        "legi_features = []\n",
        "label = 0\n",
        "\n",
        "# Progress bar\n",
        "total_rows = 10000\n",
        "pbar = tqdm_notebook(total=total_rows, desc=\"Processing\", unit=\"rows\")\n",
        "\n",
        "# Function to update progress bar\n",
        "def update_progress(*_):\n",
        "    pbar.update(1)\n",
        "\n",
        "# Using ThreadPoolExecutor for parallel execution\n",
        "with ThreadPoolExecutor(max_workers=num_threads) as executor:\n",
        "    futures = []\n",
        "\n",
        "    for i in range(total_rows):\n",
        "        url = legiurl['URLs'][i]\n",
        "        future = executor.submit(process_url, url, label)\n",
        "        future.add_done_callback(update_progress)\n",
        "        futures.append(future)\n",
        "\n",
        "    # Wait for all threads to complete\n",
        "    for future in futures:\n",
        "        future.result()\n",
        "\n",
        "# Close the progress bar\n",
        "pbar.close()\n"
      ]
    },
    {
      "cell_type": "code",
      "execution_count": 345,
      "metadata": {
        "id": "BKNg26HEP5kN"
      },
      "outputs": [
        {
          "name": "stderr",
          "output_type": "stream",
          "text": [
            "2024-05-31 22:37:11,202 - whois.whois - ERROR - Error trying to connect to socket: closing socket - [Errno 11001] getaddrinfo failed\n"
          ]
        }
      ],
      "source": [
        "# from tqdm.notebook import tqdm_notebook\n",
        "\n",
        "#Extracting the feautres & storing them in a list\n",
        "legi_features = []\n",
        "label = 0\n",
        "\n",
        "# Progress bar\n",
        "# pbar = tqdm_notebook(total=10000, desc=\"Processing\", unit=\"rows\")\n",
        "\n",
        "for i in range(0, 10000):\n",
        "  url = legiurl['URLs'][i]\n",
        "  legi_features.append(featureExtraction(url,label))\n",
        "  # pbar.update(1)"
      ]
    },
    {
      "cell_type": "code",
      "execution_count": null,
      "metadata": {
        "id": "BY9iOMtTbGj7"
      },
      "outputs": [],
      "source": [
        "for future in futures:\n",
        "        result = future.result()\n",
        "        legi_features.append(result)"
      ]
    },
    {
      "cell_type": "code",
      "execution_count": null,
      "metadata": {
        "id": "Fb48hqriadd4"
      },
      "outputs": [],
      "source": [
        "futures"
      ]
    },
    {
      "cell_type": "code",
      "execution_count": null,
      "metadata": {
        "colab": {
          "base_uri": "https://localhost:8080/",
          "height": 226
        },
        "id": "DSuxYREMi0fr",
        "outputId": "0cfb5992-eab0-4d60-ee84-19fbb7a89031"
      },
      "outputs": [
        {
          "data": {
            "text/html": [
              "\n",
              "  <div id=\"df-078856b0-631e-47ea-a88c-ec50a3bd0185\" class=\"colab-df-container\">\n",
              "    <div>\n",
              "<style scoped>\n",
              "    .dataframe tbody tr th:only-of-type {\n",
              "        vertical-align: middle;\n",
              "    }\n",
              "\n",
              "    .dataframe tbody tr th {\n",
              "        vertical-align: top;\n",
              "    }\n",
              "\n",
              "    .dataframe thead th {\n",
              "        text-align: right;\n",
              "    }\n",
              "</style>\n",
              "<table border=\"1\" class=\"dataframe\">\n",
              "  <thead>\n",
              "    <tr style=\"text-align: right;\">\n",
              "      <th></th>\n",
              "      <th>Domain</th>\n",
              "      <th>Have_IP</th>\n",
              "      <th>Have_At</th>\n",
              "      <th>URL_Length</th>\n",
              "      <th>URL_Depth</th>\n",
              "      <th>Redirection</th>\n",
              "      <th>https_Domain</th>\n",
              "      <th>TinyURL</th>\n",
              "      <th>Prefix/Suffix</th>\n",
              "      <th>DNS_Record</th>\n",
              "      <th>Web_Traffic</th>\n",
              "      <th>Domain_Age</th>\n",
              "      <th>Domain_End</th>\n",
              "      <th>iFrame</th>\n",
              "      <th>Mouse_Over</th>\n",
              "      <th>Right_Click</th>\n",
              "      <th>Web_Forwards</th>\n",
              "      <th>Label</th>\n",
              "    </tr>\n",
              "  </thead>\n",
              "  <tbody>\n",
              "    <tr>\n",
              "      <th>0</th>\n",
              "      <td>sfglobe.com</td>\n",
              "      <td>0</td>\n",
              "      <td>0</td>\n",
              "      <td>1</td>\n",
              "      <td>4</td>\n",
              "      <td>0</td>\n",
              "      <td>0</td>\n",
              "      <td>0</td>\n",
              "      <td>0</td>\n",
              "      <td>0</td>\n",
              "      <td>1</td>\n",
              "      <td>1</td>\n",
              "      <td>1</td>\n",
              "      <td>1</td>\n",
              "      <td>1</td>\n",
              "      <td>1</td>\n",
              "      <td>1</td>\n",
              "      <td>0</td>\n",
              "    </tr>\n",
              "    <tr>\n",
              "      <th>1</th>\n",
              "      <td>thenextweb.com</td>\n",
              "      <td>0</td>\n",
              "      <td>0</td>\n",
              "      <td>1</td>\n",
              "      <td>6</td>\n",
              "      <td>0</td>\n",
              "      <td>0</td>\n",
              "      <td>0</td>\n",
              "      <td>0</td>\n",
              "      <td>0</td>\n",
              "      <td>1</td>\n",
              "      <td>0</td>\n",
              "      <td>1</td>\n",
              "      <td>1</td>\n",
              "      <td>1</td>\n",
              "      <td>1</td>\n",
              "      <td>1</td>\n",
              "      <td>0</td>\n",
              "    </tr>\n",
              "    <tr>\n",
              "      <th>2</th>\n",
              "      <td>olx.ro</td>\n",
              "      <td>0</td>\n",
              "      <td>0</td>\n",
              "      <td>1</td>\n",
              "      <td>5</td>\n",
              "      <td>0</td>\n",
              "      <td>0</td>\n",
              "      <td>0</td>\n",
              "      <td>0</td>\n",
              "      <td>0</td>\n",
              "      <td>1</td>\n",
              "      <td>0</td>\n",
              "      <td>1</td>\n",
              "      <td>1</td>\n",
              "      <td>1</td>\n",
              "      <td>1</td>\n",
              "      <td>1</td>\n",
              "      <td>0</td>\n",
              "    </tr>\n",
              "    <tr>\n",
              "      <th>3</th>\n",
              "      <td>deadspin.com</td>\n",
              "      <td>0</td>\n",
              "      <td>0</td>\n",
              "      <td>1</td>\n",
              "      <td>1</td>\n",
              "      <td>0</td>\n",
              "      <td>0</td>\n",
              "      <td>0</td>\n",
              "      <td>0</td>\n",
              "      <td>0</td>\n",
              "      <td>1</td>\n",
              "      <td>1</td>\n",
              "      <td>1</td>\n",
              "      <td>0</td>\n",
              "      <td>0</td>\n",
              "      <td>1</td>\n",
              "      <td>0</td>\n",
              "      <td>0</td>\n",
              "    </tr>\n",
              "    <tr>\n",
              "      <th>4</th>\n",
              "      <td>correios.com.br</td>\n",
              "      <td>0</td>\n",
              "      <td>0</td>\n",
              "      <td>1</td>\n",
              "      <td>5</td>\n",
              "      <td>0</td>\n",
              "      <td>0</td>\n",
              "      <td>0</td>\n",
              "      <td>0</td>\n",
              "      <td>0</td>\n",
              "      <td>1</td>\n",
              "      <td>1</td>\n",
              "      <td>1</td>\n",
              "      <td>0</td>\n",
              "      <td>0</td>\n",
              "      <td>1</td>\n",
              "      <td>0</td>\n",
              "      <td>0</td>\n",
              "    </tr>\n",
              "  </tbody>\n",
              "</table>\n",
              "</div>\n",
              "    <div class=\"colab-df-buttons\">\n",
              "\n",
              "  <div class=\"colab-df-container\">\n",
              "    <button class=\"colab-df-convert\" onclick=\"convertToInteractive('df-078856b0-631e-47ea-a88c-ec50a3bd0185')\"\n",
              "            title=\"Convert this dataframe to an interactive table.\"\n",
              "            style=\"display:none;\">\n",
              "\n",
              "  <svg xmlns=\"http://www.w3.org/2000/svg\" height=\"24px\" viewBox=\"0 -960 960 960\">\n",
              "    <path d=\"M120-120v-720h720v720H120Zm60-500h600v-160H180v160Zm220 220h160v-160H400v160Zm0 220h160v-160H400v160ZM180-400h160v-160H180v160Zm440 0h160v-160H620v160ZM180-180h160v-160H180v160Zm440 0h160v-160H620v160Z\"/>\n",
              "  </svg>\n",
              "    </button>\n",
              "\n",
              "  <style>\n",
              "    .colab-df-container {\n",
              "      display:flex;\n",
              "      gap: 12px;\n",
              "    }\n",
              "\n",
              "    .colab-df-convert {\n",
              "      background-color: #E8F0FE;\n",
              "      border: none;\n",
              "      border-radius: 50%;\n",
              "      cursor: pointer;\n",
              "      display: none;\n",
              "      fill: #1967D2;\n",
              "      height: 32px;\n",
              "      padding: 0 0 0 0;\n",
              "      width: 32px;\n",
              "    }\n",
              "\n",
              "    .colab-df-convert:hover {\n",
              "      background-color: #E2EBFA;\n",
              "      box-shadow: 0px 1px 2px rgba(60, 64, 67, 0.3), 0px 1px 3px 1px rgba(60, 64, 67, 0.15);\n",
              "      fill: #174EA6;\n",
              "    }\n",
              "\n",
              "    .colab-df-buttons div {\n",
              "      margin-bottom: 4px;\n",
              "    }\n",
              "\n",
              "    [theme=dark] .colab-df-convert {\n",
              "      background-color: #3B4455;\n",
              "      fill: #D2E3FC;\n",
              "    }\n",
              "\n",
              "    [theme=dark] .colab-df-convert:hover {\n",
              "      background-color: #434B5C;\n",
              "      box-shadow: 0px 1px 3px 1px rgba(0, 0, 0, 0.15);\n",
              "      filter: drop-shadow(0px 1px 2px rgba(0, 0, 0, 0.3));\n",
              "      fill: #FFFFFF;\n",
              "    }\n",
              "  </style>\n",
              "\n",
              "    <script>\n",
              "      const buttonEl =\n",
              "        document.querySelector('#df-078856b0-631e-47ea-a88c-ec50a3bd0185 button.colab-df-convert');\n",
              "      buttonEl.style.display =\n",
              "        google.colab.kernel.accessAllowed ? 'block' : 'none';\n",
              "\n",
              "      async function convertToInteractive(key) {\n",
              "        const element = document.querySelector('#df-078856b0-631e-47ea-a88c-ec50a3bd0185');\n",
              "        const dataTable =\n",
              "          await google.colab.kernel.invokeFunction('convertToInteractive',\n",
              "                                                    [key], {});\n",
              "        if (!dataTable) return;\n",
              "\n",
              "        const docLinkHtml = 'Like what you see? Visit the ' +\n",
              "          '<a target=\"_blank\" href=https://colab.research.google.com/notebooks/data_table.ipynb>data table notebook</a>'\n",
              "          + ' to learn more about interactive tables.';\n",
              "        element.innerHTML = '';\n",
              "        dataTable['output_type'] = 'display_data';\n",
              "        await google.colab.output.renderOutput(dataTable, element);\n",
              "        const docLink = document.createElement('div');\n",
              "        docLink.innerHTML = docLinkHtml;\n",
              "        element.appendChild(docLink);\n",
              "      }\n",
              "    </script>\n",
              "  </div>\n",
              "\n",
              "\n",
              "<div id=\"df-9e0d8b4d-492c-4c1a-bbd9-c83b4850c977\">\n",
              "  <button class=\"colab-df-quickchart\" onclick=\"quickchart('df-9e0d8b4d-492c-4c1a-bbd9-c83b4850c977')\"\n",
              "            title=\"Suggest charts\"\n",
              "            style=\"display:none;\">\n",
              "\n",
              "<svg xmlns=\"http://www.w3.org/2000/svg\" height=\"24px\"viewBox=\"0 0 24 24\"\n",
              "     width=\"24px\">\n",
              "    <g>\n",
              "        <path d=\"M19 3H5c-1.1 0-2 .9-2 2v14c0 1.1.9 2 2 2h14c1.1 0 2-.9 2-2V5c0-1.1-.9-2-2-2zM9 17H7v-7h2v7zm4 0h-2V7h2v10zm4 0h-2v-4h2v4z\"/>\n",
              "    </g>\n",
              "</svg>\n",
              "  </button>\n",
              "\n",
              "<style>\n",
              "  .colab-df-quickchart {\n",
              "      --bg-color: #E8F0FE;\n",
              "      --fill-color: #1967D2;\n",
              "      --hover-bg-color: #E2EBFA;\n",
              "      --hover-fill-color: #174EA6;\n",
              "      --disabled-fill-color: #AAA;\n",
              "      --disabled-bg-color: #DDD;\n",
              "  }\n",
              "\n",
              "  [theme=dark] .colab-df-quickchart {\n",
              "      --bg-color: #3B4455;\n",
              "      --fill-color: #D2E3FC;\n",
              "      --hover-bg-color: #434B5C;\n",
              "      --hover-fill-color: #FFFFFF;\n",
              "      --disabled-bg-color: #3B4455;\n",
              "      --disabled-fill-color: #666;\n",
              "  }\n",
              "\n",
              "  .colab-df-quickchart {\n",
              "    background-color: var(--bg-color);\n",
              "    border: none;\n",
              "    border-radius: 50%;\n",
              "    cursor: pointer;\n",
              "    display: none;\n",
              "    fill: var(--fill-color);\n",
              "    height: 32px;\n",
              "    padding: 0;\n",
              "    width: 32px;\n",
              "  }\n",
              "\n",
              "  .colab-df-quickchart:hover {\n",
              "    background-color: var(--hover-bg-color);\n",
              "    box-shadow: 0 1px 2px rgba(60, 64, 67, 0.3), 0 1px 3px 1px rgba(60, 64, 67, 0.15);\n",
              "    fill: var(--button-hover-fill-color);\n",
              "  }\n",
              "\n",
              "  .colab-df-quickchart-complete:disabled,\n",
              "  .colab-df-quickchart-complete:disabled:hover {\n",
              "    background-color: var(--disabled-bg-color);\n",
              "    fill: var(--disabled-fill-color);\n",
              "    box-shadow: none;\n",
              "  }\n",
              "\n",
              "  .colab-df-spinner {\n",
              "    border: 2px solid var(--fill-color);\n",
              "    border-color: transparent;\n",
              "    border-bottom-color: var(--fill-color);\n",
              "    animation:\n",
              "      spin 1s steps(1) infinite;\n",
              "  }\n",
              "\n",
              "  @keyframes spin {\n",
              "    0% {\n",
              "      border-color: transparent;\n",
              "      border-bottom-color: var(--fill-color);\n",
              "      border-left-color: var(--fill-color);\n",
              "    }\n",
              "    20% {\n",
              "      border-color: transparent;\n",
              "      border-left-color: var(--fill-color);\n",
              "      border-top-color: var(--fill-color);\n",
              "    }\n",
              "    30% {\n",
              "      border-color: transparent;\n",
              "      border-left-color: var(--fill-color);\n",
              "      border-top-color: var(--fill-color);\n",
              "      border-right-color: var(--fill-color);\n",
              "    }\n",
              "    40% {\n",
              "      border-color: transparent;\n",
              "      border-right-color: var(--fill-color);\n",
              "      border-top-color: var(--fill-color);\n",
              "    }\n",
              "    60% {\n",
              "      border-color: transparent;\n",
              "      border-right-color: var(--fill-color);\n",
              "    }\n",
              "    80% {\n",
              "      border-color: transparent;\n",
              "      border-right-color: var(--fill-color);\n",
              "      border-bottom-color: var(--fill-color);\n",
              "    }\n",
              "    90% {\n",
              "      border-color: transparent;\n",
              "      border-bottom-color: var(--fill-color);\n",
              "    }\n",
              "  }\n",
              "</style>\n",
              "\n",
              "  <script>\n",
              "    async function quickchart(key) {\n",
              "      const quickchartButtonEl =\n",
              "        document.querySelector('#' + key + ' button');\n",
              "      quickchartButtonEl.disabled = true;  // To prevent multiple clicks.\n",
              "      quickchartButtonEl.classList.add('colab-df-spinner');\n",
              "      try {\n",
              "        const charts = await google.colab.kernel.invokeFunction(\n",
              "            'suggestCharts', [key], {});\n",
              "      } catch (error) {\n",
              "        console.error('Error during call to suggestCharts:', error);\n",
              "      }\n",
              "      quickchartButtonEl.classList.remove('colab-df-spinner');\n",
              "      quickchartButtonEl.classList.add('colab-df-quickchart-complete');\n",
              "    }\n",
              "    (() => {\n",
              "      let quickchartButtonEl =\n",
              "        document.querySelector('#df-9e0d8b4d-492c-4c1a-bbd9-c83b4850c977 button');\n",
              "      quickchartButtonEl.style.display =\n",
              "        google.colab.kernel.accessAllowed ? 'block' : 'none';\n",
              "    })();\n",
              "  </script>\n",
              "</div>\n",
              "    </div>\n",
              "  </div>\n"
            ],
            "text/plain": [
              "            Domain  Have_IP  Have_At  URL_Length  URL_Depth  Redirection  \\\n",
              "0      sfglobe.com        0        0           1          4            0   \n",
              "1   thenextweb.com        0        0           1          6            0   \n",
              "2           olx.ro        0        0           1          5            0   \n",
              "3     deadspin.com        0        0           1          1            0   \n",
              "4  correios.com.br        0        0           1          5            0   \n",
              "\n",
              "   https_Domain  TinyURL  Prefix/Suffix  DNS_Record  Web_Traffic  Domain_Age  \\\n",
              "0             0        0              0           0            1           1   \n",
              "1             0        0              0           0            1           0   \n",
              "2             0        0              0           0            1           0   \n",
              "3             0        0              0           0            1           1   \n",
              "4             0        0              0           0            1           1   \n",
              "\n",
              "   Domain_End  iFrame  Mouse_Over  Right_Click  Web_Forwards  Label  \n",
              "0           1       1           1            1             1      0  \n",
              "1           1       1           1            1             1      0  \n",
              "2           1       1           1            1             1      0  \n",
              "3           1       0           0            1             0      0  \n",
              "4           1       0           0            1             0      0  "
            ]
          },
          "execution_count": 48,
          "metadata": {},
          "output_type": "execute_result"
        }
      ],
      "source": [
        "#converting the list to dataframe\n",
        "feature_names = ['Domain', 'Have_IP', 'Have_At', 'URL_Length', 'URL_Depth','Redirection',\n",
        "                      'https_Domain', 'TinyURL', 'Prefix/Suffix', 'DNS_Record', 'Web_Traffic',\n",
        "                      'Domain_Age', 'Domain_End', 'iFrame', 'Mouse_Over','Right_Click', 'Web_Forwards', 'Label']\n",
        "\n",
        "legitimate = pd.DataFrame(legi_features, columns= feature_names)\n",
        "legitimate.head()"
      ]
    },
    {
      "cell_type": "code",
      "execution_count": null,
      "metadata": {
        "id": "1jVcLHvXC031"
      },
      "outputs": [],
      "source": [
        "# Storing the extracted legitimate URLs fatures to csv file\n",
        "legitimate.to_csv('legitimate.csv', index= False)"
      ]
    },
    {
      "cell_type": "markdown",
      "metadata": {
        "id": "vrZJo_aboeGb"
      },
      "source": [
        "### **4.2. Phishing URLs:**\n",
        "\n",
        "Now, feature extraction is performed on phishing URLs."
      ]
    },
    {
      "cell_type": "code",
      "execution_count": null,
      "metadata": {
        "id": "PSKf1PCeoeGd"
      },
      "outputs": [],
      "source": [
        "phishurl.shape"
      ]
    },
    {
      "cell_type": "code",
      "execution_count": null,
      "metadata": {
        "id": "WGhZMkbaoeGh"
      },
      "outputs": [],
      "source": [
        "from tqdm.notebook import tqdm_notebook\n",
        "\n",
        "#Extracting the feautres & storing them in a list\n",
        "phish_features = []\n",
        "label = 1\n",
        "\n",
        "# Progress bar\n",
        "pbar = tqdm_notebook(total=10000, desc=\"Processing\", unit=\"rows\")\n",
        "\n",
        "for i in range(0, 10000):\n",
        "  url = phishurl['url'][i]\n",
        "  phish_features.append(featureExtraction(url,label))\n",
        "  pbar.update(1)"
      ]
    },
    {
      "cell_type": "code",
      "execution_count": null,
      "metadata": {
        "id": "1brvc6kmoeGk"
      },
      "outputs": [],
      "source": [
        "#converting the list to dataframe\n",
        "feature_names = ['Domain', 'Have_IP', 'Have_At', 'URL_Length', 'URL_Depth','Redirection',\n",
        "                      'https_Domain', 'TinyURL', 'Prefix/Suffix', 'DNS_Record', 'Web_Traffic',\n",
        "                      'Domain_Age', 'Domain_End', 'iFrame', 'Mouse_Over','Right_Click', 'Web_Forwards', 'Label']\n",
        "\n",
        "phishing = pd.DataFrame(phish_features, columns= feature_names)\n",
        "phishing.head()"
      ]
    },
    {
      "cell_type": "code",
      "execution_count": null,
      "metadata": {
        "id": "UhBbG2O7E30d"
      },
      "outputs": [],
      "source": [
        "# Storing the extracted legitimate URLs fatures to csv file\n",
        "phishing.to_csv('phishing.csv', index= False)"
      ]
    },
    {
      "cell_type": "markdown",
      "metadata": {
        "id": "DB43ozsPq-6c"
      },
      "source": [
        "## **5. Final Dataset**\n",
        "\n",
        "In the above section we formed two dataframes of legitimate & phishing URL features. Now, we will combine them to a single dataframe and export the data to csv file for the Machine Learning training done in other notebook."
      ]
    },
    {
      "cell_type": "code",
      "execution_count": null,
      "metadata": {
        "id": "w6DQLswsJbqZ"
      },
      "outputs": [],
      "source": [
        "legitimate = pd.read_csv(\"legitimate.csv\")\n",
        "phishing = pd.read_csv(\"phishing.csv\")"
      ]
    },
    {
      "cell_type": "code",
      "execution_count": null,
      "metadata": {
        "colab": {
          "base_uri": "https://localhost:8080/",
          "height": 226
        },
        "id": "ktJNvDY5sUsX",
        "outputId": "81bc840e-7720-4ba0-f6d6-b367cdb43cfe"
      },
      "outputs": [
        {
          "data": {
            "text/html": [
              "\n",
              "  <div id=\"df-298ff356-633b-4b10-a5b5-20d75c718146\" class=\"colab-df-container\">\n",
              "    <div>\n",
              "<style scoped>\n",
              "    .dataframe tbody tr th:only-of-type {\n",
              "        vertical-align: middle;\n",
              "    }\n",
              "\n",
              "    .dataframe tbody tr th {\n",
              "        vertical-align: top;\n",
              "    }\n",
              "\n",
              "    .dataframe thead th {\n",
              "        text-align: right;\n",
              "    }\n",
              "</style>\n",
              "<table border=\"1\" class=\"dataframe\">\n",
              "  <thead>\n",
              "    <tr style=\"text-align: right;\">\n",
              "      <th></th>\n",
              "      <th>Domain</th>\n",
              "      <th>Have_IP</th>\n",
              "      <th>Have_At</th>\n",
              "      <th>URL_Length</th>\n",
              "      <th>URL_Depth</th>\n",
              "      <th>Redirection</th>\n",
              "      <th>https_Domain</th>\n",
              "      <th>TinyURL</th>\n",
              "      <th>Prefix/Suffix</th>\n",
              "      <th>DNS_Record</th>\n",
              "      <th>Web_Traffic</th>\n",
              "      <th>Domain_Age</th>\n",
              "      <th>Domain_End</th>\n",
              "      <th>iFrame</th>\n",
              "      <th>Mouse_Over</th>\n",
              "      <th>Right_Click</th>\n",
              "      <th>Web_Forwards</th>\n",
              "      <th>Label</th>\n",
              "    </tr>\n",
              "  </thead>\n",
              "  <tbody>\n",
              "    <tr>\n",
              "      <th>0</th>\n",
              "      <td>sfglobe.com</td>\n",
              "      <td>0</td>\n",
              "      <td>0</td>\n",
              "      <td>1</td>\n",
              "      <td>4</td>\n",
              "      <td>0</td>\n",
              "      <td>0</td>\n",
              "      <td>0</td>\n",
              "      <td>0</td>\n",
              "      <td>0</td>\n",
              "      <td>1</td>\n",
              "      <td>1</td>\n",
              "      <td>1</td>\n",
              "      <td>1</td>\n",
              "      <td>1</td>\n",
              "      <td>1</td>\n",
              "      <td>1</td>\n",
              "      <td>0</td>\n",
              "    </tr>\n",
              "    <tr>\n",
              "      <th>1</th>\n",
              "      <td>thenextweb.com</td>\n",
              "      <td>0</td>\n",
              "      <td>0</td>\n",
              "      <td>1</td>\n",
              "      <td>6</td>\n",
              "      <td>0</td>\n",
              "      <td>0</td>\n",
              "      <td>0</td>\n",
              "      <td>0</td>\n",
              "      <td>0</td>\n",
              "      <td>1</td>\n",
              "      <td>0</td>\n",
              "      <td>1</td>\n",
              "      <td>1</td>\n",
              "      <td>1</td>\n",
              "      <td>1</td>\n",
              "      <td>1</td>\n",
              "      <td>0</td>\n",
              "    </tr>\n",
              "    <tr>\n",
              "      <th>2</th>\n",
              "      <td>olx.ro</td>\n",
              "      <td>0</td>\n",
              "      <td>0</td>\n",
              "      <td>1</td>\n",
              "      <td>5</td>\n",
              "      <td>0</td>\n",
              "      <td>0</td>\n",
              "      <td>0</td>\n",
              "      <td>0</td>\n",
              "      <td>0</td>\n",
              "      <td>1</td>\n",
              "      <td>0</td>\n",
              "      <td>1</td>\n",
              "      <td>1</td>\n",
              "      <td>1</td>\n",
              "      <td>1</td>\n",
              "      <td>1</td>\n",
              "      <td>0</td>\n",
              "    </tr>\n",
              "    <tr>\n",
              "      <th>3</th>\n",
              "      <td>deadspin.com</td>\n",
              "      <td>0</td>\n",
              "      <td>0</td>\n",
              "      <td>1</td>\n",
              "      <td>1</td>\n",
              "      <td>0</td>\n",
              "      <td>0</td>\n",
              "      <td>0</td>\n",
              "      <td>0</td>\n",
              "      <td>0</td>\n",
              "      <td>1</td>\n",
              "      <td>1</td>\n",
              "      <td>1</td>\n",
              "      <td>0</td>\n",
              "      <td>0</td>\n",
              "      <td>1</td>\n",
              "      <td>0</td>\n",
              "      <td>0</td>\n",
              "    </tr>\n",
              "    <tr>\n",
              "      <th>4</th>\n",
              "      <td>correios.com.br</td>\n",
              "      <td>0</td>\n",
              "      <td>0</td>\n",
              "      <td>1</td>\n",
              "      <td>5</td>\n",
              "      <td>0</td>\n",
              "      <td>0</td>\n",
              "      <td>0</td>\n",
              "      <td>0</td>\n",
              "      <td>0</td>\n",
              "      <td>1</td>\n",
              "      <td>1</td>\n",
              "      <td>1</td>\n",
              "      <td>0</td>\n",
              "      <td>0</td>\n",
              "      <td>1</td>\n",
              "      <td>0</td>\n",
              "      <td>0</td>\n",
              "    </tr>\n",
              "  </tbody>\n",
              "</table>\n",
              "</div>\n",
              "    <div class=\"colab-df-buttons\">\n",
              "\n",
              "  <div class=\"colab-df-container\">\n",
              "    <button class=\"colab-df-convert\" onclick=\"convertToInteractive('df-298ff356-633b-4b10-a5b5-20d75c718146')\"\n",
              "            title=\"Convert this dataframe to an interactive table.\"\n",
              "            style=\"display:none;\">\n",
              "\n",
              "  <svg xmlns=\"http://www.w3.org/2000/svg\" height=\"24px\" viewBox=\"0 -960 960 960\">\n",
              "    <path d=\"M120-120v-720h720v720H120Zm60-500h600v-160H180v160Zm220 220h160v-160H400v160Zm0 220h160v-160H400v160ZM180-400h160v-160H180v160Zm440 0h160v-160H620v160ZM180-180h160v-160H180v160Zm440 0h160v-160H620v160Z\"/>\n",
              "  </svg>\n",
              "    </button>\n",
              "\n",
              "  <style>\n",
              "    .colab-df-container {\n",
              "      display:flex;\n",
              "      gap: 12px;\n",
              "    }\n",
              "\n",
              "    .colab-df-convert {\n",
              "      background-color: #E8F0FE;\n",
              "      border: none;\n",
              "      border-radius: 50%;\n",
              "      cursor: pointer;\n",
              "      display: none;\n",
              "      fill: #1967D2;\n",
              "      height: 32px;\n",
              "      padding: 0 0 0 0;\n",
              "      width: 32px;\n",
              "    }\n",
              "\n",
              "    .colab-df-convert:hover {\n",
              "      background-color: #E2EBFA;\n",
              "      box-shadow: 0px 1px 2px rgba(60, 64, 67, 0.3), 0px 1px 3px 1px rgba(60, 64, 67, 0.15);\n",
              "      fill: #174EA6;\n",
              "    }\n",
              "\n",
              "    .colab-df-buttons div {\n",
              "      margin-bottom: 4px;\n",
              "    }\n",
              "\n",
              "    [theme=dark] .colab-df-convert {\n",
              "      background-color: #3B4455;\n",
              "      fill: #D2E3FC;\n",
              "    }\n",
              "\n",
              "    [theme=dark] .colab-df-convert:hover {\n",
              "      background-color: #434B5C;\n",
              "      box-shadow: 0px 1px 3px 1px rgba(0, 0, 0, 0.15);\n",
              "      filter: drop-shadow(0px 1px 2px rgba(0, 0, 0, 0.3));\n",
              "      fill: #FFFFFF;\n",
              "    }\n",
              "  </style>\n",
              "\n",
              "    <script>\n",
              "      const buttonEl =\n",
              "        document.querySelector('#df-298ff356-633b-4b10-a5b5-20d75c718146 button.colab-df-convert');\n",
              "      buttonEl.style.display =\n",
              "        google.colab.kernel.accessAllowed ? 'block' : 'none';\n",
              "\n",
              "      async function convertToInteractive(key) {\n",
              "        const element = document.querySelector('#df-298ff356-633b-4b10-a5b5-20d75c718146');\n",
              "        const dataTable =\n",
              "          await google.colab.kernel.invokeFunction('convertToInteractive',\n",
              "                                                    [key], {});\n",
              "        if (!dataTable) return;\n",
              "\n",
              "        const docLinkHtml = 'Like what you see? Visit the ' +\n",
              "          '<a target=\"_blank\" href=https://colab.research.google.com/notebooks/data_table.ipynb>data table notebook</a>'\n",
              "          + ' to learn more about interactive tables.';\n",
              "        element.innerHTML = '';\n",
              "        dataTable['output_type'] = 'display_data';\n",
              "        await google.colab.output.renderOutput(dataTable, element);\n",
              "        const docLink = document.createElement('div');\n",
              "        docLink.innerHTML = docLinkHtml;\n",
              "        element.appendChild(docLink);\n",
              "      }\n",
              "    </script>\n",
              "  </div>\n",
              "\n",
              "\n",
              "<div id=\"df-4d64baec-6d4c-4667-a26e-3ffdc3f8bbeb\">\n",
              "  <button class=\"colab-df-quickchart\" onclick=\"quickchart('df-4d64baec-6d4c-4667-a26e-3ffdc3f8bbeb')\"\n",
              "            title=\"Suggest charts\"\n",
              "            style=\"display:none;\">\n",
              "\n",
              "<svg xmlns=\"http://www.w3.org/2000/svg\" height=\"24px\"viewBox=\"0 0 24 24\"\n",
              "     width=\"24px\">\n",
              "    <g>\n",
              "        <path d=\"M19 3H5c-1.1 0-2 .9-2 2v14c0 1.1.9 2 2 2h14c1.1 0 2-.9 2-2V5c0-1.1-.9-2-2-2zM9 17H7v-7h2v7zm4 0h-2V7h2v10zm4 0h-2v-4h2v4z\"/>\n",
              "    </g>\n",
              "</svg>\n",
              "  </button>\n",
              "\n",
              "<style>\n",
              "  .colab-df-quickchart {\n",
              "      --bg-color: #E8F0FE;\n",
              "      --fill-color: #1967D2;\n",
              "      --hover-bg-color: #E2EBFA;\n",
              "      --hover-fill-color: #174EA6;\n",
              "      --disabled-fill-color: #AAA;\n",
              "      --disabled-bg-color: #DDD;\n",
              "  }\n",
              "\n",
              "  [theme=dark] .colab-df-quickchart {\n",
              "      --bg-color: #3B4455;\n",
              "      --fill-color: #D2E3FC;\n",
              "      --hover-bg-color: #434B5C;\n",
              "      --hover-fill-color: #FFFFFF;\n",
              "      --disabled-bg-color: #3B4455;\n",
              "      --disabled-fill-color: #666;\n",
              "  }\n",
              "\n",
              "  .colab-df-quickchart {\n",
              "    background-color: var(--bg-color);\n",
              "    border: none;\n",
              "    border-radius: 50%;\n",
              "    cursor: pointer;\n",
              "    display: none;\n",
              "    fill: var(--fill-color);\n",
              "    height: 32px;\n",
              "    padding: 0;\n",
              "    width: 32px;\n",
              "  }\n",
              "\n",
              "  .colab-df-quickchart:hover {\n",
              "    background-color: var(--hover-bg-color);\n",
              "    box-shadow: 0 1px 2px rgba(60, 64, 67, 0.3), 0 1px 3px 1px rgba(60, 64, 67, 0.15);\n",
              "    fill: var(--button-hover-fill-color);\n",
              "  }\n",
              "\n",
              "  .colab-df-quickchart-complete:disabled,\n",
              "  .colab-df-quickchart-complete:disabled:hover {\n",
              "    background-color: var(--disabled-bg-color);\n",
              "    fill: var(--disabled-fill-color);\n",
              "    box-shadow: none;\n",
              "  }\n",
              "\n",
              "  .colab-df-spinner {\n",
              "    border: 2px solid var(--fill-color);\n",
              "    border-color: transparent;\n",
              "    border-bottom-color: var(--fill-color);\n",
              "    animation:\n",
              "      spin 1s steps(1) infinite;\n",
              "  }\n",
              "\n",
              "  @keyframes spin {\n",
              "    0% {\n",
              "      border-color: transparent;\n",
              "      border-bottom-color: var(--fill-color);\n",
              "      border-left-color: var(--fill-color);\n",
              "    }\n",
              "    20% {\n",
              "      border-color: transparent;\n",
              "      border-left-color: var(--fill-color);\n",
              "      border-top-color: var(--fill-color);\n",
              "    }\n",
              "    30% {\n",
              "      border-color: transparent;\n",
              "      border-left-color: var(--fill-color);\n",
              "      border-top-color: var(--fill-color);\n",
              "      border-right-color: var(--fill-color);\n",
              "    }\n",
              "    40% {\n",
              "      border-color: transparent;\n",
              "      border-right-color: var(--fill-color);\n",
              "      border-top-color: var(--fill-color);\n",
              "    }\n",
              "    60% {\n",
              "      border-color: transparent;\n",
              "      border-right-color: var(--fill-color);\n",
              "    }\n",
              "    80% {\n",
              "      border-color: transparent;\n",
              "      border-right-color: var(--fill-color);\n",
              "      border-bottom-color: var(--fill-color);\n",
              "    }\n",
              "    90% {\n",
              "      border-color: transparent;\n",
              "      border-bottom-color: var(--fill-color);\n",
              "    }\n",
              "  }\n",
              "</style>\n",
              "\n",
              "  <script>\n",
              "    async function quickchart(key) {\n",
              "      const quickchartButtonEl =\n",
              "        document.querySelector('#' + key + ' button');\n",
              "      quickchartButtonEl.disabled = true;  // To prevent multiple clicks.\n",
              "      quickchartButtonEl.classList.add('colab-df-spinner');\n",
              "      try {\n",
              "        const charts = await google.colab.kernel.invokeFunction(\n",
              "            'suggestCharts', [key], {});\n",
              "      } catch (error) {\n",
              "        console.error('Error during call to suggestCharts:', error);\n",
              "      }\n",
              "      quickchartButtonEl.classList.remove('colab-df-spinner');\n",
              "      quickchartButtonEl.classList.add('colab-df-quickchart-complete');\n",
              "    }\n",
              "    (() => {\n",
              "      let quickchartButtonEl =\n",
              "        document.querySelector('#df-4d64baec-6d4c-4667-a26e-3ffdc3f8bbeb button');\n",
              "      quickchartButtonEl.style.display =\n",
              "        google.colab.kernel.accessAllowed ? 'block' : 'none';\n",
              "    })();\n",
              "  </script>\n",
              "</div>\n",
              "    </div>\n",
              "  </div>\n"
            ],
            "text/plain": [
              "            Domain  Have_IP  Have_At  URL_Length  URL_Depth  Redirection  \\\n",
              "0      sfglobe.com        0        0           1          4            0   \n",
              "1   thenextweb.com        0        0           1          6            0   \n",
              "2           olx.ro        0        0           1          5            0   \n",
              "3     deadspin.com        0        0           1          1            0   \n",
              "4  correios.com.br        0        0           1          5            0   \n",
              "\n",
              "   https_Domain  TinyURL  Prefix/Suffix  DNS_Record  Web_Traffic  Domain_Age  \\\n",
              "0             0        0              0           0            1           1   \n",
              "1             0        0              0           0            1           0   \n",
              "2             0        0              0           0            1           0   \n",
              "3             0        0              0           0            1           1   \n",
              "4             0        0              0           0            1           1   \n",
              "\n",
              "   Domain_End  iFrame  Mouse_Over  Right_Click  Web_Forwards  Label  \n",
              "0           1       1           1            1             1      0  \n",
              "1           1       1           1            1             1      0  \n",
              "2           1       1           1            1             1      0  \n",
              "3           1       0           0            1             0      0  \n",
              "4           1       0           0            1             0      0  "
            ]
          },
          "execution_count": 51,
          "metadata": {},
          "output_type": "execute_result"
        }
      ],
      "source": [
        "#Concatenating the dataframes into one\n",
        "urldata = pd.concat([legitimate, phishing]).reset_index(drop=True)\n",
        "urldata.head()"
      ]
    },
    {
      "cell_type": "code",
      "execution_count": null,
      "metadata": {
        "colab": {
          "base_uri": "https://localhost:8080/",
          "height": 261
        },
        "id": "u1Viw3jKh3_o",
        "outputId": "4e1cc113-6e90-4cb4-dc94-26f1d715b21a"
      },
      "outputs": [
        {
          "data": {
            "text/html": [
              "\n",
              "  <div id=\"df-ef04f427-b734-445d-a229-ff91bcf409ff\" class=\"colab-df-container\">\n",
              "    <div>\n",
              "<style scoped>\n",
              "    .dataframe tbody tr th:only-of-type {\n",
              "        vertical-align: middle;\n",
              "    }\n",
              "\n",
              "    .dataframe tbody tr th {\n",
              "        vertical-align: top;\n",
              "    }\n",
              "\n",
              "    .dataframe thead th {\n",
              "        text-align: right;\n",
              "    }\n",
              "</style>\n",
              "<table border=\"1\" class=\"dataframe\">\n",
              "  <thead>\n",
              "    <tr style=\"text-align: right;\">\n",
              "      <th></th>\n",
              "      <th>Domain</th>\n",
              "      <th>Have_IP</th>\n",
              "      <th>Have_At</th>\n",
              "      <th>URL_Length</th>\n",
              "      <th>URL_Depth</th>\n",
              "      <th>Redirection</th>\n",
              "      <th>https_Domain</th>\n",
              "      <th>TinyURL</th>\n",
              "      <th>Prefix/Suffix</th>\n",
              "      <th>DNS_Record</th>\n",
              "      <th>Web_Traffic</th>\n",
              "      <th>Domain_Age</th>\n",
              "      <th>Domain_End</th>\n",
              "      <th>iFrame</th>\n",
              "      <th>Mouse_Over</th>\n",
              "      <th>Right_Click</th>\n",
              "      <th>Web_Forwards</th>\n",
              "      <th>Label</th>\n",
              "    </tr>\n",
              "  </thead>\n",
              "  <tbody>\n",
              "    <tr>\n",
              "      <th>19995</th>\n",
              "      <td>ukvoda.net</td>\n",
              "      <td>0</td>\n",
              "      <td>0</td>\n",
              "      <td>0</td>\n",
              "      <td>0</td>\n",
              "      <td>0</td>\n",
              "      <td>0</td>\n",
              "      <td>0</td>\n",
              "      <td>0</td>\n",
              "      <td>0</td>\n",
              "      <td>1</td>\n",
              "      <td>0</td>\n",
              "      <td>1</td>\n",
              "      <td>1</td>\n",
              "      <td>1</td>\n",
              "      <td>1</td>\n",
              "      <td>1</td>\n",
              "      <td>1</td>\n",
              "    </tr>\n",
              "    <tr>\n",
              "      <th>19996</th>\n",
              "      <td>momopinky.com</td>\n",
              "      <td>0</td>\n",
              "      <td>0</td>\n",
              "      <td>0</td>\n",
              "      <td>2</td>\n",
              "      <td>0</td>\n",
              "      <td>0</td>\n",
              "      <td>0</td>\n",
              "      <td>0</td>\n",
              "      <td>0</td>\n",
              "      <td>0</td>\n",
              "      <td>0</td>\n",
              "      <td>1</td>\n",
              "      <td>0</td>\n",
              "      <td>0</td>\n",
              "      <td>1</td>\n",
              "      <td>0</td>\n",
              "      <td>1</td>\n",
              "    </tr>\n",
              "    <tr>\n",
              "      <th>19997</th>\n",
              "      <td>ch-sbb.firebaseapp.com</td>\n",
              "      <td>0</td>\n",
              "      <td>0</td>\n",
              "      <td>0</td>\n",
              "      <td>0</td>\n",
              "      <td>0</td>\n",
              "      <td>0</td>\n",
              "      <td>0</td>\n",
              "      <td>1</td>\n",
              "      <td>1</td>\n",
              "      <td>1</td>\n",
              "      <td>1</td>\n",
              "      <td>1</td>\n",
              "      <td>0</td>\n",
              "      <td>0</td>\n",
              "      <td>1</td>\n",
              "      <td>0</td>\n",
              "      <td>1</td>\n",
              "    </tr>\n",
              "    <tr>\n",
              "      <th>19998</th>\n",
              "      <td>ipfs.eth.aragon.network</td>\n",
              "      <td>0</td>\n",
              "      <td>0</td>\n",
              "      <td>1</td>\n",
              "      <td>3</td>\n",
              "      <td>0</td>\n",
              "      <td>0</td>\n",
              "      <td>0</td>\n",
              "      <td>0</td>\n",
              "      <td>1</td>\n",
              "      <td>1</td>\n",
              "      <td>1</td>\n",
              "      <td>1</td>\n",
              "      <td>0</td>\n",
              "      <td>0</td>\n",
              "      <td>1</td>\n",
              "      <td>0</td>\n",
              "      <td>1</td>\n",
              "    </tr>\n",
              "    <tr>\n",
              "      <th>19999</th>\n",
              "      <td>microsoft-outlook-108651.weeblysite.com</td>\n",
              "      <td>0</td>\n",
              "      <td>0</td>\n",
              "      <td>0</td>\n",
              "      <td>0</td>\n",
              "      <td>0</td>\n",
              "      <td>0</td>\n",
              "      <td>0</td>\n",
              "      <td>1</td>\n",
              "      <td>0</td>\n",
              "      <td>1</td>\n",
              "      <td>1</td>\n",
              "      <td>1</td>\n",
              "      <td>0</td>\n",
              "      <td>0</td>\n",
              "      <td>1</td>\n",
              "      <td>0</td>\n",
              "      <td>1</td>\n",
              "    </tr>\n",
              "  </tbody>\n",
              "</table>\n",
              "</div>\n",
              "    <div class=\"colab-df-buttons\">\n",
              "\n",
              "  <div class=\"colab-df-container\">\n",
              "    <button class=\"colab-df-convert\" onclick=\"convertToInteractive('df-ef04f427-b734-445d-a229-ff91bcf409ff')\"\n",
              "            title=\"Convert this dataframe to an interactive table.\"\n",
              "            style=\"display:none;\">\n",
              "\n",
              "  <svg xmlns=\"http://www.w3.org/2000/svg\" height=\"24px\" viewBox=\"0 -960 960 960\">\n",
              "    <path d=\"M120-120v-720h720v720H120Zm60-500h600v-160H180v160Zm220 220h160v-160H400v160Zm0 220h160v-160H400v160ZM180-400h160v-160H180v160Zm440 0h160v-160H620v160ZM180-180h160v-160H180v160Zm440 0h160v-160H620v160Z\"/>\n",
              "  </svg>\n",
              "    </button>\n",
              "\n",
              "  <style>\n",
              "    .colab-df-container {\n",
              "      display:flex;\n",
              "      gap: 12px;\n",
              "    }\n",
              "\n",
              "    .colab-df-convert {\n",
              "      background-color: #E8F0FE;\n",
              "      border: none;\n",
              "      border-radius: 50%;\n",
              "      cursor: pointer;\n",
              "      display: none;\n",
              "      fill: #1967D2;\n",
              "      height: 32px;\n",
              "      padding: 0 0 0 0;\n",
              "      width: 32px;\n",
              "    }\n",
              "\n",
              "    .colab-df-convert:hover {\n",
              "      background-color: #E2EBFA;\n",
              "      box-shadow: 0px 1px 2px rgba(60, 64, 67, 0.3), 0px 1px 3px 1px rgba(60, 64, 67, 0.15);\n",
              "      fill: #174EA6;\n",
              "    }\n",
              "\n",
              "    .colab-df-buttons div {\n",
              "      margin-bottom: 4px;\n",
              "    }\n",
              "\n",
              "    [theme=dark] .colab-df-convert {\n",
              "      background-color: #3B4455;\n",
              "      fill: #D2E3FC;\n",
              "    }\n",
              "\n",
              "    [theme=dark] .colab-df-convert:hover {\n",
              "      background-color: #434B5C;\n",
              "      box-shadow: 0px 1px 3px 1px rgba(0, 0, 0, 0.15);\n",
              "      filter: drop-shadow(0px 1px 2px rgba(0, 0, 0, 0.3));\n",
              "      fill: #FFFFFF;\n",
              "    }\n",
              "  </style>\n",
              "\n",
              "    <script>\n",
              "      const buttonEl =\n",
              "        document.querySelector('#df-ef04f427-b734-445d-a229-ff91bcf409ff button.colab-df-convert');\n",
              "      buttonEl.style.display =\n",
              "        google.colab.kernel.accessAllowed ? 'block' : 'none';\n",
              "\n",
              "      async function convertToInteractive(key) {\n",
              "        const element = document.querySelector('#df-ef04f427-b734-445d-a229-ff91bcf409ff');\n",
              "        const dataTable =\n",
              "          await google.colab.kernel.invokeFunction('convertToInteractive',\n",
              "                                                    [key], {});\n",
              "        if (!dataTable) return;\n",
              "\n",
              "        const docLinkHtml = 'Like what you see? Visit the ' +\n",
              "          '<a target=\"_blank\" href=https://colab.research.google.com/notebooks/data_table.ipynb>data table notebook</a>'\n",
              "          + ' to learn more about interactive tables.';\n",
              "        element.innerHTML = '';\n",
              "        dataTable['output_type'] = 'display_data';\n",
              "        await google.colab.output.renderOutput(dataTable, element);\n",
              "        const docLink = document.createElement('div');\n",
              "        docLink.innerHTML = docLinkHtml;\n",
              "        element.appendChild(docLink);\n",
              "      }\n",
              "    </script>\n",
              "  </div>\n",
              "\n",
              "\n",
              "<div id=\"df-b64a5287-5b04-4c19-8038-b07df18b7bd0\">\n",
              "  <button class=\"colab-df-quickchart\" onclick=\"quickchart('df-b64a5287-5b04-4c19-8038-b07df18b7bd0')\"\n",
              "            title=\"Suggest charts\"\n",
              "            style=\"display:none;\">\n",
              "\n",
              "<svg xmlns=\"http://www.w3.org/2000/svg\" height=\"24px\"viewBox=\"0 0 24 24\"\n",
              "     width=\"24px\">\n",
              "    <g>\n",
              "        <path d=\"M19 3H5c-1.1 0-2 .9-2 2v14c0 1.1.9 2 2 2h14c1.1 0 2-.9 2-2V5c0-1.1-.9-2-2-2zM9 17H7v-7h2v7zm4 0h-2V7h2v10zm4 0h-2v-4h2v4z\"/>\n",
              "    </g>\n",
              "</svg>\n",
              "  </button>\n",
              "\n",
              "<style>\n",
              "  .colab-df-quickchart {\n",
              "      --bg-color: #E8F0FE;\n",
              "      --fill-color: #1967D2;\n",
              "      --hover-bg-color: #E2EBFA;\n",
              "      --hover-fill-color: #174EA6;\n",
              "      --disabled-fill-color: #AAA;\n",
              "      --disabled-bg-color: #DDD;\n",
              "  }\n",
              "\n",
              "  [theme=dark] .colab-df-quickchart {\n",
              "      --bg-color: #3B4455;\n",
              "      --fill-color: #D2E3FC;\n",
              "      --hover-bg-color: #434B5C;\n",
              "      --hover-fill-color: #FFFFFF;\n",
              "      --disabled-bg-color: #3B4455;\n",
              "      --disabled-fill-color: #666;\n",
              "  }\n",
              "\n",
              "  .colab-df-quickchart {\n",
              "    background-color: var(--bg-color);\n",
              "    border: none;\n",
              "    border-radius: 50%;\n",
              "    cursor: pointer;\n",
              "    display: none;\n",
              "    fill: var(--fill-color);\n",
              "    height: 32px;\n",
              "    padding: 0;\n",
              "    width: 32px;\n",
              "  }\n",
              "\n",
              "  .colab-df-quickchart:hover {\n",
              "    background-color: var(--hover-bg-color);\n",
              "    box-shadow: 0 1px 2px rgba(60, 64, 67, 0.3), 0 1px 3px 1px rgba(60, 64, 67, 0.15);\n",
              "    fill: var(--button-hover-fill-color);\n",
              "  }\n",
              "\n",
              "  .colab-df-quickchart-complete:disabled,\n",
              "  .colab-df-quickchart-complete:disabled:hover {\n",
              "    background-color: var(--disabled-bg-color);\n",
              "    fill: var(--disabled-fill-color);\n",
              "    box-shadow: none;\n",
              "  }\n",
              "\n",
              "  .colab-df-spinner {\n",
              "    border: 2px solid var(--fill-color);\n",
              "    border-color: transparent;\n",
              "    border-bottom-color: var(--fill-color);\n",
              "    animation:\n",
              "      spin 1s steps(1) infinite;\n",
              "  }\n",
              "\n",
              "  @keyframes spin {\n",
              "    0% {\n",
              "      border-color: transparent;\n",
              "      border-bottom-color: var(--fill-color);\n",
              "      border-left-color: var(--fill-color);\n",
              "    }\n",
              "    20% {\n",
              "      border-color: transparent;\n",
              "      border-left-color: var(--fill-color);\n",
              "      border-top-color: var(--fill-color);\n",
              "    }\n",
              "    30% {\n",
              "      border-color: transparent;\n",
              "      border-left-color: var(--fill-color);\n",
              "      border-top-color: var(--fill-color);\n",
              "      border-right-color: var(--fill-color);\n",
              "    }\n",
              "    40% {\n",
              "      border-color: transparent;\n",
              "      border-right-color: var(--fill-color);\n",
              "      border-top-color: var(--fill-color);\n",
              "    }\n",
              "    60% {\n",
              "      border-color: transparent;\n",
              "      border-right-color: var(--fill-color);\n",
              "    }\n",
              "    80% {\n",
              "      border-color: transparent;\n",
              "      border-right-color: var(--fill-color);\n",
              "      border-bottom-color: var(--fill-color);\n",
              "    }\n",
              "    90% {\n",
              "      border-color: transparent;\n",
              "      border-bottom-color: var(--fill-color);\n",
              "    }\n",
              "  }\n",
              "</style>\n",
              "\n",
              "  <script>\n",
              "    async function quickchart(key) {\n",
              "      const quickchartButtonEl =\n",
              "        document.querySelector('#' + key + ' button');\n",
              "      quickchartButtonEl.disabled = true;  // To prevent multiple clicks.\n",
              "      quickchartButtonEl.classList.add('colab-df-spinner');\n",
              "      try {\n",
              "        const charts = await google.colab.kernel.invokeFunction(\n",
              "            'suggestCharts', [key], {});\n",
              "      } catch (error) {\n",
              "        console.error('Error during call to suggestCharts:', error);\n",
              "      }\n",
              "      quickchartButtonEl.classList.remove('colab-df-spinner');\n",
              "      quickchartButtonEl.classList.add('colab-df-quickchart-complete');\n",
              "    }\n",
              "    (() => {\n",
              "      let quickchartButtonEl =\n",
              "        document.querySelector('#df-b64a5287-5b04-4c19-8038-b07df18b7bd0 button');\n",
              "      quickchartButtonEl.style.display =\n",
              "        google.colab.kernel.accessAllowed ? 'block' : 'none';\n",
              "    })();\n",
              "  </script>\n",
              "</div>\n",
              "    </div>\n",
              "  </div>\n"
            ],
            "text/plain": [
              "                                        Domain  Have_IP  Have_At  URL_Length  \\\n",
              "19995                               ukvoda.net        0        0           0   \n",
              "19996                            momopinky.com        0        0           0   \n",
              "19997                   ch-sbb.firebaseapp.com        0        0           0   \n",
              "19998                  ipfs.eth.aragon.network        0        0           1   \n",
              "19999  microsoft-outlook-108651.weeblysite.com        0        0           0   \n",
              "\n",
              "       URL_Depth  Redirection  https_Domain  TinyURL  Prefix/Suffix  \\\n",
              "19995          0            0             0        0              0   \n",
              "19996          2            0             0        0              0   \n",
              "19997          0            0             0        0              1   \n",
              "19998          3            0             0        0              0   \n",
              "19999          0            0             0        0              1   \n",
              "\n",
              "       DNS_Record  Web_Traffic  Domain_Age  Domain_End  iFrame  Mouse_Over  \\\n",
              "19995           0            1           0           1       1           1   \n",
              "19996           0            0           0           1       0           0   \n",
              "19997           1            1           1           1       0           0   \n",
              "19998           1            1           1           1       0           0   \n",
              "19999           0            1           1           1       0           0   \n",
              "\n",
              "       Right_Click  Web_Forwards  Label  \n",
              "19995            1             1      1  \n",
              "19996            1             0      1  \n",
              "19997            1             0      1  \n",
              "19998            1             0      1  \n",
              "19999            1             0      1  "
            ]
          },
          "execution_count": 52,
          "metadata": {},
          "output_type": "execute_result"
        }
      ],
      "source": [
        "urldata.tail()"
      ]
    },
    {
      "cell_type": "code",
      "execution_count": null,
      "metadata": {
        "colab": {
          "base_uri": "https://localhost:8080/"
        },
        "id": "1NNxgbVCr7vt",
        "outputId": "907ece53-6f12-4886-b2d8-14f91c4490bd"
      },
      "outputs": [
        {
          "data": {
            "text/plain": [
              "(20000, 18)"
            ]
          },
          "execution_count": 53,
          "metadata": {},
          "output_type": "execute_result"
        }
      ],
      "source": [
        "urldata.shape"
      ]
    },
    {
      "cell_type": "code",
      "execution_count": null,
      "metadata": {
        "id": "596496VUrhRI"
      },
      "outputs": [],
      "source": [
        "# Storing the data in CSV file\n",
        "urldata.to_csv('urldata.csv', index=False)"
      ]
    },
    {
      "cell_type": "markdown",
      "metadata": {
        "id": "srm3VLlHrmFN"
      },
      "source": [
        "## **6. Conclusion**\n",
        "\n",
        "With this the objective of this notebook is achieved. We finally extracted 18 features for 10,000 URL which has 5000 phishing & 5000 legitimate URLs."
      ]
    },
    {
      "cell_type": "markdown",
      "metadata": {
        "id": "ybur8dewifEw"
      },
      "source": [
        "## **7. References**\n",
        "\n",
        "* https://archive.ics.uci.edu/ml/datasets/Phishing+Websites"
      ]
    }
  ],
  "metadata": {
    "colab": {
      "provenance": []
    },
    "kernelspec": {
      "display_name": "Python 3",
      "name": "python3"
    },
    "language_info": {
      "codemirror_mode": {
        "name": "ipython",
        "version": 3
      },
      "file_extension": ".py",
      "mimetype": "text/x-python",
      "name": "python",
      "nbconvert_exporter": "python",
      "pygments_lexer": "ipython3",
      "version": "3.11.1"
    },
    "widgets": {
      "application/vnd.jupyter.widget-state+json": {
        "24d64f2c02d849838ca7765ed88642fd": {
          "model_module": "@jupyter-widgets/controls",
          "model_module_version": "1.5.0",
          "model_name": "DescriptionStyleModel",
          "state": {
            "_model_module": "@jupyter-widgets/controls",
            "_model_module_version": "1.5.0",
            "_model_name": "DescriptionStyleModel",
            "_view_count": null,
            "_view_module": "@jupyter-widgets/base",
            "_view_module_version": "1.2.0",
            "_view_name": "StyleView",
            "description_width": ""
          }
        },
        "2e0d997ab80e4bbf8b0ffa364f5fe949": {
          "model_module": "@jupyter-widgets/controls",
          "model_module_version": "1.5.0",
          "model_name": "HBoxModel",
          "state": {
            "_dom_classes": [],
            "_model_module": "@jupyter-widgets/controls",
            "_model_module_version": "1.5.0",
            "_model_name": "HBoxModel",
            "_view_count": null,
            "_view_module": "@jupyter-widgets/controls",
            "_view_module_version": "1.5.0",
            "_view_name": "HBoxView",
            "box_style": "",
            "children": [
              "IPY_MODEL_ca3792e7b02d40bba6a2a6e3a78ca1a3",
              "IPY_MODEL_c9405be444c6427f81c8bfb4a3080fc5",
              "IPY_MODEL_4244c946baf74082b71783c4850e53dc"
            ],
            "layout": "IPY_MODEL_4db982cdfa244fb8a866aad29a81adf7"
          }
        },
        "4244c946baf74082b71783c4850e53dc": {
          "model_module": "@jupyter-widgets/controls",
          "model_module_version": "1.5.0",
          "model_name": "HTMLModel",
          "state": {
            "_dom_classes": [],
            "_model_module": "@jupyter-widgets/controls",
            "_model_module_version": "1.5.0",
            "_model_name": "HTMLModel",
            "_view_count": null,
            "_view_module": "@jupyter-widgets/controls",
            "_view_module_version": "1.5.0",
            "_view_name": "HTMLView",
            "description": "",
            "description_tooltip": null,
            "layout": "IPY_MODEL_d8b02ec6f86c48d5b74620bc4e596c52",
            "placeholder": "​",
            "style": "IPY_MODEL_24d64f2c02d849838ca7765ed88642fd",
            "value": " 10000/10000 [1:29:30&lt;00:00,  1.72s/rows]"
          }
        },
        "4db982cdfa244fb8a866aad29a81adf7": {
          "model_module": "@jupyter-widgets/base",
          "model_module_version": "1.2.0",
          "model_name": "LayoutModel",
          "state": {
            "_model_module": "@jupyter-widgets/base",
            "_model_module_version": "1.2.0",
            "_model_name": "LayoutModel",
            "_view_count": null,
            "_view_module": "@jupyter-widgets/base",
            "_view_module_version": "1.2.0",
            "_view_name": "LayoutView",
            "align_content": null,
            "align_items": null,
            "align_self": null,
            "border": null,
            "bottom": null,
            "display": null,
            "flex": null,
            "flex_flow": null,
            "grid_area": null,
            "grid_auto_columns": null,
            "grid_auto_flow": null,
            "grid_auto_rows": null,
            "grid_column": null,
            "grid_gap": null,
            "grid_row": null,
            "grid_template_areas": null,
            "grid_template_columns": null,
            "grid_template_rows": null,
            "height": null,
            "justify_content": null,
            "justify_items": null,
            "left": null,
            "margin": null,
            "max_height": null,
            "max_width": null,
            "min_height": null,
            "min_width": null,
            "object_fit": null,
            "object_position": null,
            "order": null,
            "overflow": null,
            "overflow_x": null,
            "overflow_y": null,
            "padding": null,
            "right": null,
            "top": null,
            "visibility": null,
            "width": null
          }
        },
        "55940b2d946f43a5aa3711c2844038e6": {
          "model_module": "@jupyter-widgets/controls",
          "model_module_version": "1.5.0",
          "model_name": "DescriptionStyleModel",
          "state": {
            "_model_module": "@jupyter-widgets/controls",
            "_model_module_version": "1.5.0",
            "_model_name": "DescriptionStyleModel",
            "_view_count": null,
            "_view_module": "@jupyter-widgets/base",
            "_view_module_version": "1.2.0",
            "_view_name": "StyleView",
            "description_width": ""
          }
        },
        "857abb76c27a4b7b82fd495024fc0d8c": {
          "model_module": "@jupyter-widgets/base",
          "model_module_version": "1.2.0",
          "model_name": "LayoutModel",
          "state": {
            "_model_module": "@jupyter-widgets/base",
            "_model_module_version": "1.2.0",
            "_model_name": "LayoutModel",
            "_view_count": null,
            "_view_module": "@jupyter-widgets/base",
            "_view_module_version": "1.2.0",
            "_view_name": "LayoutView",
            "align_content": null,
            "align_items": null,
            "align_self": null,
            "border": null,
            "bottom": null,
            "display": null,
            "flex": null,
            "flex_flow": null,
            "grid_area": null,
            "grid_auto_columns": null,
            "grid_auto_flow": null,
            "grid_auto_rows": null,
            "grid_column": null,
            "grid_gap": null,
            "grid_row": null,
            "grid_template_areas": null,
            "grid_template_columns": null,
            "grid_template_rows": null,
            "height": null,
            "justify_content": null,
            "justify_items": null,
            "left": null,
            "margin": null,
            "max_height": null,
            "max_width": null,
            "min_height": null,
            "min_width": null,
            "object_fit": null,
            "object_position": null,
            "order": null,
            "overflow": null,
            "overflow_x": null,
            "overflow_y": null,
            "padding": null,
            "right": null,
            "top": null,
            "visibility": null,
            "width": null
          }
        },
        "aa61e64173b94d499cca1a343e7ce62b": {
          "model_module": "@jupyter-widgets/base",
          "model_module_version": "1.2.0",
          "model_name": "LayoutModel",
          "state": {
            "_model_module": "@jupyter-widgets/base",
            "_model_module_version": "1.2.0",
            "_model_name": "LayoutModel",
            "_view_count": null,
            "_view_module": "@jupyter-widgets/base",
            "_view_module_version": "1.2.0",
            "_view_name": "LayoutView",
            "align_content": null,
            "align_items": null,
            "align_self": null,
            "border": null,
            "bottom": null,
            "display": null,
            "flex": null,
            "flex_flow": null,
            "grid_area": null,
            "grid_auto_columns": null,
            "grid_auto_flow": null,
            "grid_auto_rows": null,
            "grid_column": null,
            "grid_gap": null,
            "grid_row": null,
            "grid_template_areas": null,
            "grid_template_columns": null,
            "grid_template_rows": null,
            "height": null,
            "justify_content": null,
            "justify_items": null,
            "left": null,
            "margin": null,
            "max_height": null,
            "max_width": null,
            "min_height": null,
            "min_width": null,
            "object_fit": null,
            "object_position": null,
            "order": null,
            "overflow": null,
            "overflow_x": null,
            "overflow_y": null,
            "padding": null,
            "right": null,
            "top": null,
            "visibility": null,
            "width": null
          }
        },
        "bd5a3717dddc474ab857d5d0c2ba6e6a": {
          "model_module": "@jupyter-widgets/controls",
          "model_module_version": "1.5.0",
          "model_name": "ProgressStyleModel",
          "state": {
            "_model_module": "@jupyter-widgets/controls",
            "_model_module_version": "1.5.0",
            "_model_name": "ProgressStyleModel",
            "_view_count": null,
            "_view_module": "@jupyter-widgets/base",
            "_view_module_version": "1.2.0",
            "_view_name": "StyleView",
            "bar_color": null,
            "description_width": ""
          }
        },
        "c9405be444c6427f81c8bfb4a3080fc5": {
          "model_module": "@jupyter-widgets/controls",
          "model_module_version": "1.5.0",
          "model_name": "FloatProgressModel",
          "state": {
            "_dom_classes": [],
            "_model_module": "@jupyter-widgets/controls",
            "_model_module_version": "1.5.0",
            "_model_name": "FloatProgressModel",
            "_view_count": null,
            "_view_module": "@jupyter-widgets/controls",
            "_view_module_version": "1.5.0",
            "_view_name": "ProgressView",
            "bar_style": "success",
            "description": "",
            "description_tooltip": null,
            "layout": "IPY_MODEL_857abb76c27a4b7b82fd495024fc0d8c",
            "max": 10000,
            "min": 0,
            "orientation": "horizontal",
            "style": "IPY_MODEL_bd5a3717dddc474ab857d5d0c2ba6e6a",
            "value": 10000
          }
        },
        "ca3792e7b02d40bba6a2a6e3a78ca1a3": {
          "model_module": "@jupyter-widgets/controls",
          "model_module_version": "1.5.0",
          "model_name": "HTMLModel",
          "state": {
            "_dom_classes": [],
            "_model_module": "@jupyter-widgets/controls",
            "_model_module_version": "1.5.0",
            "_model_name": "HTMLModel",
            "_view_count": null,
            "_view_module": "@jupyter-widgets/controls",
            "_view_module_version": "1.5.0",
            "_view_name": "HTMLView",
            "description": "",
            "description_tooltip": null,
            "layout": "IPY_MODEL_aa61e64173b94d499cca1a343e7ce62b",
            "placeholder": "​",
            "style": "IPY_MODEL_55940b2d946f43a5aa3711c2844038e6",
            "value": "Processing: 100%"
          }
        },
        "d8b02ec6f86c48d5b74620bc4e596c52": {
          "model_module": "@jupyter-widgets/base",
          "model_module_version": "1.2.0",
          "model_name": "LayoutModel",
          "state": {
            "_model_module": "@jupyter-widgets/base",
            "_model_module_version": "1.2.0",
            "_model_name": "LayoutModel",
            "_view_count": null,
            "_view_module": "@jupyter-widgets/base",
            "_view_module_version": "1.2.0",
            "_view_name": "LayoutView",
            "align_content": null,
            "align_items": null,
            "align_self": null,
            "border": null,
            "bottom": null,
            "display": null,
            "flex": null,
            "flex_flow": null,
            "grid_area": null,
            "grid_auto_columns": null,
            "grid_auto_flow": null,
            "grid_auto_rows": null,
            "grid_column": null,
            "grid_gap": null,
            "grid_row": null,
            "grid_template_areas": null,
            "grid_template_columns": null,
            "grid_template_rows": null,
            "height": null,
            "justify_content": null,
            "justify_items": null,
            "left": null,
            "margin": null,
            "max_height": null,
            "max_width": null,
            "min_height": null,
            "min_width": null,
            "object_fit": null,
            "object_position": null,
            "order": null,
            "overflow": null,
            "overflow_x": null,
            "overflow_y": null,
            "padding": null,
            "right": null,
            "top": null,
            "visibility": null,
            "width": null
          }
        }
      }
    }
  },
  "nbformat": 4,
  "nbformat_minor": 0
}
